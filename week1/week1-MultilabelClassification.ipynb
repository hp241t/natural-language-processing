{
  "nbformat": 4,
  "nbformat_minor": 0,
  "metadata": {
    "kernelspec": {
      "display_name": "Python 3",
      "language": "python",
      "name": "python3"
    },
    "language_info": {
      "codemirror_mode": {
        "name": "ipython",
        "version": 3
      },
      "file_extension": ".py",
      "mimetype": "text/x-python",
      "name": "python",
      "nbconvert_exporter": "python",
      "pygments_lexer": "ipython3",
      "version": "3.4.3"
    },
    "colab": {
      "name": "week1-MultilabelClassification.ipynb",
      "version": "0.3.2",
      "provenance": []
    }
  },
  "cells": [
    {
      "cell_type": "markdown",
      "metadata": {
        "id": "xAiq_rMs5AQy",
        "colab_type": "text"
      },
      "source": [
        "# Predict tags on StackOverflow with linear models"
      ]
    },
    {
      "cell_type": "markdown",
      "metadata": {
        "id": "8j_Ab1rP5AQ2",
        "colab_type": "text"
      },
      "source": [
        "In this assignment you will learn how to predict tags for posts from [StackOverflow](https://stackoverflow.com). To solve this task you will use multilabel classification approach.\n",
        "\n",
        "### Libraries\n",
        "\n",
        "In this task you will need the following libraries:\n",
        "- [Numpy](http://www.numpy.org) — a package for scientific computing.\n",
        "- [Pandas](https://pandas.pydata.org) — a library providing high-performance, easy-to-use data structures and data analysis tools for the Python\n",
        "- [scikit-learn](http://scikit-learn.org/stable/index.html) — a tool for data mining and data analysis.\n",
        "- [NLTK](http://www.nltk.org) — a platform to work with natural language."
      ]
    },
    {
      "cell_type": "markdown",
      "metadata": {
        "id": "jgy6gBkk5AQ4",
        "colab_type": "text"
      },
      "source": [
        "### Data\n",
        "\n",
        "The following cell will download all data required for this assignment into the folder `week1/data`."
      ]
    },
    {
      "cell_type": "code",
      "metadata": {
        "id": "n5lpeIGf5AQ5",
        "colab_type": "code",
        "colab": {
          "base_uri": "https://localhost:8080/",
          "height": 272
        },
        "outputId": "d1a09acd-df03-4cec-db7b-dda20b0073b3"
      },
      "source": [
        "import sys\n",
        "! wget https://raw.githubusercontent.com/hse-aml/natural-language-processing/master/setup_google_colab.py -O setup_google_colab.py\n",
        "import setup_google_colab\n",
        "\n",
        "# please, uncomment the week you're working on\n",
        "setup_google_colab.setup_week1()  \n",
        "# setup_google_colab.setup_week2()\n",
        "# setup_google_colab.setup_week3()\n",
        "# setup_google_colab.setup_week4()\n",
        "# setup_google_colab.setup_project()\n",
        "# setup_google_colab.setup_honor()\n",
        "\n",
        "sys.path.append(\"..\")\n",
        "from common.download_utils import download_week1_resources\n",
        "\n",
        "download_week1_resources()"
      ],
      "execution_count": 1,
      "outputs": [
        {
          "output_type": "stream",
          "text": [
            "--2019-08-10 11:00:12--  https://raw.githubusercontent.com/hse-aml/natural-language-processing/master/setup_google_colab.py\n",
            "Resolving raw.githubusercontent.com (raw.githubusercontent.com)... 151.101.0.133, 151.101.64.133, 151.101.128.133, ...\n",
            "Connecting to raw.githubusercontent.com (raw.githubusercontent.com)|151.101.0.133|:443... connected.\n",
            "HTTP request sent, awaiting response... 200 OK\n",
            "Length: 2330 (2.3K) [text/plain]\n",
            "Saving to: ‘setup_google_colab.py’\n",
            "\n",
            "\rsetup_google_colab.   0%[                    ]       0  --.-KB/s               \rsetup_google_colab. 100%[===================>]   2.28K  --.-KB/s    in 0s      \n",
            "\n",
            "2019-08-10 11:00:12 (33.5 MB/s) - ‘setup_google_colab.py’ saved [2330/2330]\n",
            "\n",
            "File data/train.tsv is already downloaded.\n",
            "File data/validation.tsv is already downloaded.\n",
            "File data/test.tsv is already downloaded.\n",
            "File data/text_prepare_tests.tsv is already downloaded.\n"
          ],
          "name": "stdout"
        }
      ]
    },
    {
      "cell_type": "markdown",
      "metadata": {
        "id": "Sy8UKDxT5AQ-",
        "colab_type": "text"
      },
      "source": [
        "### Grading\n",
        "We will create a grader instance below and use it to collect your answers. Note that these outputs will be stored locally inside grader and will be uploaded to platform only after running submitting function in the last part of this assignment. If you want to make partial submission, you can run that cell any time you want."
      ]
    },
    {
      "cell_type": "code",
      "metadata": {
        "id": "LMdBAWIg5AQ_",
        "colab_type": "code",
        "colab": {}
      },
      "source": [
        "from grader import Grader"
      ],
      "execution_count": 0,
      "outputs": []
    },
    {
      "cell_type": "code",
      "metadata": {
        "id": "gs2NNH505ARC",
        "colab_type": "code",
        "colab": {}
      },
      "source": [
        "grader = Grader()"
      ],
      "execution_count": 0,
      "outputs": []
    },
    {
      "cell_type": "markdown",
      "metadata": {
        "id": "eC2yQ4yO5ARG",
        "colab_type": "text"
      },
      "source": [
        "### Text preprocessing"
      ]
    },
    {
      "cell_type": "markdown",
      "metadata": {
        "id": "iYqG_wya5ARH",
        "colab_type": "text"
      },
      "source": [
        "For this and most of the following assignments you will need to use a list of stop words. It can be downloaded from *nltk*:"
      ]
    },
    {
      "cell_type": "code",
      "metadata": {
        "id": "ETVhEZSG5ARI",
        "colab_type": "code",
        "colab": {
          "base_uri": "https://localhost:8080/",
          "height": 51
        },
        "outputId": "ed00eadb-6200-4ebe-f0bf-d1a6b16a5ce3"
      },
      "source": [
        "import nltk\n",
        "nltk.download('stopwords')\n",
        "from nltk.corpus import stopwords"
      ],
      "execution_count": 4,
      "outputs": [
        {
          "output_type": "stream",
          "text": [
            "[nltk_data] Downloading package stopwords to /root/nltk_data...\n",
            "[nltk_data]   Package stopwords is already up-to-date!\n"
          ],
          "name": "stdout"
        }
      ]
    },
    {
      "cell_type": "markdown",
      "metadata": {
        "id": "JSktHukj5ARL",
        "colab_type": "text"
      },
      "source": [
        "In this task you will deal with a dataset of post titles from StackOverflow. You are provided a split to 3 sets: *train*, *validation* and *test*. All corpora (except for *test*) contain titles of the posts and corresponding tags (100 tags are available). The *test* set is provided for Coursera's grading and doesn't contain answers. Upload the corpora using *pandas* and look at the data:"
      ]
    },
    {
      "cell_type": "code",
      "metadata": {
        "id": "b_02xvHF5ARM",
        "colab_type": "code",
        "colab": {}
      },
      "source": [
        "from ast import literal_eval\n",
        "import pandas as pd\n",
        "import numpy as np"
      ],
      "execution_count": 0,
      "outputs": []
    },
    {
      "cell_type": "code",
      "metadata": {
        "id": "cZCCLeu95ARO",
        "colab_type": "code",
        "colab": {}
      },
      "source": [
        "def read_data(filename):\n",
        "    data = pd.read_csv(filename, sep='\\t')\n",
        "    data['tags'] = data['tags'].apply(literal_eval)\n",
        "    return data"
      ],
      "execution_count": 0,
      "outputs": []
    },
    {
      "cell_type": "code",
      "metadata": {
        "id": "uVJ9p0bE5ARR",
        "colab_type": "code",
        "colab": {}
      },
      "source": [
        "train = read_data('data/train.tsv')\n",
        "validation = read_data('data/validation.tsv')\n",
        "test = pd.read_csv('data/test.tsv', sep='\\t')"
      ],
      "execution_count": 0,
      "outputs": []
    },
    {
      "cell_type": "code",
      "metadata": {
        "id": "Qj0hwtMy5ARW",
        "colab_type": "code",
        "colab": {
          "base_uri": "https://localhost:8080/",
          "height": 204
        },
        "outputId": "a957d4b4-140e-4b76-cb2e-3208369828dc"
      },
      "source": [
        "train.head()"
      ],
      "execution_count": 8,
      "outputs": [
        {
          "output_type": "execute_result",
          "data": {
            "text/html": [
              "<div>\n",
              "<style scoped>\n",
              "    .dataframe tbody tr th:only-of-type {\n",
              "        vertical-align: middle;\n",
              "    }\n",
              "\n",
              "    .dataframe tbody tr th {\n",
              "        vertical-align: top;\n",
              "    }\n",
              "\n",
              "    .dataframe thead th {\n",
              "        text-align: right;\n",
              "    }\n",
              "</style>\n",
              "<table border=\"1\" class=\"dataframe\">\n",
              "  <thead>\n",
              "    <tr style=\"text-align: right;\">\n",
              "      <th></th>\n",
              "      <th>title</th>\n",
              "      <th>tags</th>\n",
              "    </tr>\n",
              "  </thead>\n",
              "  <tbody>\n",
              "    <tr>\n",
              "      <th>0</th>\n",
              "      <td>How to draw a stacked dotplot in R?</td>\n",
              "      <td>[r]</td>\n",
              "    </tr>\n",
              "    <tr>\n",
              "      <th>1</th>\n",
              "      <td>mysql select all records where a datetime fiel...</td>\n",
              "      <td>[php, mysql]</td>\n",
              "    </tr>\n",
              "    <tr>\n",
              "      <th>2</th>\n",
              "      <td>How to terminate windows phone 8.1 app</td>\n",
              "      <td>[c#]</td>\n",
              "    </tr>\n",
              "    <tr>\n",
              "      <th>3</th>\n",
              "      <td>get current time in a specific country via jquery</td>\n",
              "      <td>[javascript, jquery]</td>\n",
              "    </tr>\n",
              "    <tr>\n",
              "      <th>4</th>\n",
              "      <td>Configuring Tomcat to Use SSL</td>\n",
              "      <td>[java]</td>\n",
              "    </tr>\n",
              "  </tbody>\n",
              "</table>\n",
              "</div>"
            ],
            "text/plain": [
              "                                               title                  tags\n",
              "0                How to draw a stacked dotplot in R?                   [r]\n",
              "1  mysql select all records where a datetime fiel...          [php, mysql]\n",
              "2             How to terminate windows phone 8.1 app                  [c#]\n",
              "3  get current time in a specific country via jquery  [javascript, jquery]\n",
              "4                      Configuring Tomcat to Use SSL                [java]"
            ]
          },
          "metadata": {
            "tags": []
          },
          "execution_count": 8
        }
      ]
    },
    {
      "cell_type": "markdown",
      "metadata": {
        "id": "RWnCcuqq5ARa",
        "colab_type": "text"
      },
      "source": [
        "As you can see, *title* column contains titles of the posts and *tags* column contains the tags. It could be noticed that a number of tags for a post is not fixed and could be as many as necessary."
      ]
    },
    {
      "cell_type": "markdown",
      "metadata": {
        "id": "30TLWTkh5ARb",
        "colab_type": "text"
      },
      "source": [
        "For a more comfortable usage, initialize *X_train*, *X_val*, *X_test*, *y_train*, *y_val*."
      ]
    },
    {
      "cell_type": "code",
      "metadata": {
        "id": "JG2RaWVn5ARc",
        "colab_type": "code",
        "colab": {}
      },
      "source": [
        "X_train, y_train = train['title'].values, train['tags'].values\n",
        "X_val, y_val = validation['title'].values, validation['tags'].values\n",
        "X_test = test['title'].values"
      ],
      "execution_count": 0,
      "outputs": []
    },
    {
      "cell_type": "markdown",
      "metadata": {
        "id": "46z65Gpn5ARf",
        "colab_type": "text"
      },
      "source": [
        "One of the most known difficulties when working with natural data is that it's unstructured. For example, if you use it \"as is\" and extract tokens just by splitting the titles by whitespaces, you will see that there are many \"weird\" tokens like *3.5?*, *\"Flip*, etc. To prevent the problems, it's usually useful to prepare the data somehow. In this task you'll write a function, which will be also used in the other assignments. \n",
        "\n",
        "**Task 1 (TextPrepare).** Implement the function *text_prepare* following the instructions. After that, run the function *test_test_prepare* to test it on tiny cases and submit it to Coursera."
      ]
    },
    {
      "cell_type": "code",
      "metadata": {
        "id": "RFlV4GnK5ARf",
        "colab_type": "code",
        "colab": {}
      },
      "source": [
        "import re"
      ],
      "execution_count": 0,
      "outputs": []
    },
    {
      "cell_type": "code",
      "metadata": {
        "id": "xSYxhWXI5ARj",
        "colab_type": "code",
        "colab": {}
      },
      "source": [
        "REPLACE_BY_SPACE_RE = re.compile('[/(){}\\[\\]\\|@,;]')\n",
        "BAD_SYMBOLS_RE = re.compile('[^0-9a-z #+_]')\n",
        "STOPWORDS = set(stopwords.words('english'))\n",
        "\n",
        "def text_prepare(text):\n",
        "    \"\"\"\n",
        "        text: a string\n",
        "        \n",
        "        return: modified initial string\n",
        "    \"\"\"\n",
        "    text = text.lower() # lowercase text\n",
        "    text = REPLACE_BY_SPACE_RE.sub(' ',text) # replace REPLACE_BY_SPACE_RE symbols by space in text\n",
        "    text = BAD_SYMBOLS_RE.sub('',text)  # delete symbols which are in BAD_SYMBOLS_RE from text\n",
        "    text = ' '.join([word for word in text.split() if word not in STOPWORDS])# delete stopwords from text\n",
        "    return text"
      ],
      "execution_count": 0,
      "outputs": []
    },
    {
      "cell_type": "code",
      "metadata": {
        "id": "WJ2b-JqH5ARm",
        "colab_type": "code",
        "colab": {}
      },
      "source": [
        "def test_text_prepare():\n",
        "    examples = [\"SQL Server - any equivalent of Excel's CHOOSE function?\",\n",
        "                \"How to free c++ memory vector<int> * arr?\"]\n",
        "    answers = [\"sql server equivalent excels choose function\", \n",
        "               \"free c++ memory vectorint arr\"]\n",
        "    for ex, ans in zip(examples, answers):\n",
        "        if text_prepare(ex) != ans:\n",
        "            return \"Wrong answer for the case: '%s'\" % ex\n",
        "    return 'Basic tests are passed.'"
      ],
      "execution_count": 0,
      "outputs": []
    },
    {
      "cell_type": "code",
      "metadata": {
        "id": "ULUgKaAx5ARp",
        "colab_type": "code",
        "colab": {
          "base_uri": "https://localhost:8080/",
          "height": 34
        },
        "outputId": "b827735a-9c49-4c26-88b8-485adc550d4e"
      },
      "source": [
        "print(test_text_prepare())"
      ],
      "execution_count": 13,
      "outputs": [
        {
          "output_type": "stream",
          "text": [
            "Basic tests are passed.\n"
          ],
          "name": "stdout"
        }
      ]
    },
    {
      "cell_type": "markdown",
      "metadata": {
        "id": "BiY4KYgG5ARr",
        "colab_type": "text"
      },
      "source": [
        "Run your implementation for questions from file *text_prepare_tests.tsv* to earn the points."
      ]
    },
    {
      "cell_type": "code",
      "metadata": {
        "id": "DEvW1JsZ5ARs",
        "colab_type": "code",
        "colab": {
          "base_uri": "https://localhost:8080/",
          "height": 102
        },
        "outputId": "b642376f-5d98-4bf7-b40b-9f9032f12346"
      },
      "source": [
        "prepared_questions = []\n",
        "for line in open('data/text_prepare_tests.tsv', encoding='utf-8'):\n",
        "    line = text_prepare(line.strip())\n",
        "    prepared_questions.append(line)\n",
        "text_prepare_results = '\\n'.join(prepared_questions)\n",
        "\n",
        "grader.submit_tag('TextPrepare', text_prepare_results)"
      ],
      "execution_count": 14,
      "outputs": [
        {
          "output_type": "stream",
          "text": [
            "Current answer for task TextPrepare is:\n",
            " sqlite php readonly\n",
            "creating multiple textboxes dynamically\n",
            "self one prefer javascript\n",
            "save php date...\n"
          ],
          "name": "stdout"
        }
      ]
    },
    {
      "cell_type": "markdown",
      "metadata": {
        "id": "CIFFBVSw5ARu",
        "colab_type": "text"
      },
      "source": [
        "Now we can preprocess the titles using function *text_prepare* and  making sure that the headers don't have bad symbols:"
      ]
    },
    {
      "cell_type": "code",
      "metadata": {
        "id": "x2VDBDdW5ARv",
        "colab_type": "code",
        "colab": {}
      },
      "source": [
        "X_train = [text_prepare(x) for x in X_train]\n",
        "X_val = [text_prepare(x) for x in X_val]\n",
        "X_test = [text_prepare(x) for x in X_test]"
      ],
      "execution_count": 0,
      "outputs": []
    },
    {
      "cell_type": "code",
      "metadata": {
        "id": "qyl7_3Nz5ARy",
        "colab_type": "code",
        "colab": {
          "base_uri": "https://localhost:8080/",
          "height": 68
        },
        "outputId": "18a7e19e-e692-45be-d6f7-cc771ac9edd4"
      },
      "source": [
        "X_train[:3]"
      ],
      "execution_count": 16,
      "outputs": [
        {
          "output_type": "execute_result",
          "data": {
            "text/plain": [
              "['draw stacked dotplot r',\n",
              " 'mysql select records datetime field less specified value',\n",
              " 'terminate windows phone 81 app']"
            ]
          },
          "metadata": {
            "tags": []
          },
          "execution_count": 16
        }
      ]
    },
    {
      "cell_type": "markdown",
      "metadata": {
        "id": "X_YmiJeF5AR2",
        "colab_type": "text"
      },
      "source": [
        "For each tag and for each word calculate how many times they occur in the train corpus. \n",
        "\n",
        "**Task 2 (WordsTagsCount).** Find 3 most popular tags and 3 most popular words in the train data and submit the results to earn the points."
      ]
    },
    {
      "cell_type": "code",
      "metadata": {
        "id": "E5hhlMUV5AR4",
        "colab_type": "code",
        "colab": {}
      },
      "source": [
        "# Dictionary of all tags from train corpus with their counts.\n",
        "tags_counts = {}\n",
        "# Dictionary of all words from train corpus with their counts.\n",
        "words_counts = {}\n",
        "from collections import Counter\n",
        "tags_counts = Counter([item for taglist in y_train for item in taglist])\n",
        "words_counts = Counter([word for line in X_train for word in line.split(' ')])\n",
        "#for line in y_train:\n",
        "#    for tag in line:\n",
        "#        if tag in tags_counts:\n",
        "#            tags_counts[tag] += 1\n",
        "#        else:\n",
        "#            tags_counts[tag] = 1\n",
        "#\n",
        "#for line in X_train:\n",
        "#    for word in line.split(' '):\n",
        "#        if word in words_counts:\n",
        "#            words_counts[word] += 1\n",
        "#        else:\n",
        "#            words_counts[word] = 1\n",
        "\n",
        "#print(tags_counts, words_counts)"
      ],
      "execution_count": 0,
      "outputs": []
    },
    {
      "cell_type": "markdown",
      "metadata": {
        "id": "pFtexs_a5AR8",
        "colab_type": "text"
      },
      "source": [
        "We are assuming that *tags_counts* and *words_counts* are dictionaries like `{'some_word_or_tag': frequency}`. After applying the sorting procedure, results will be look like this: `[('most_popular_word_or_tag', frequency), ('less_popular_word_or_tag', frequency), ...]`. The grader gets the results in the following format (two comma-separated strings with line break):\n",
        "\n",
        "    tag1,tag2,tag3\n",
        "    word1,word2,word3\n",
        "\n",
        "Pay attention that in this assignment you should not submit frequencies or some additional information."
      ]
    },
    {
      "cell_type": "code",
      "metadata": {
        "id": "VxbQYipb5AR9",
        "colab_type": "code",
        "colab": {
          "base_uri": "https://localhost:8080/",
          "height": 68
        },
        "outputId": "9922c1c0-254e-49ff-af36-a65aa9fbf2f8"
      },
      "source": [
        "most_common_tags = sorted(tags_counts.items(), key=lambda x: x[1], reverse=True)[:3]\n",
        "most_common_words = sorted(words_counts.items(), key=lambda x: x[1], reverse=True)[:3]\n",
        "\n",
        "grader.submit_tag('WordsTagsCount', '%s\\n%s' % (','.join(tag for tag, _ in most_common_tags), \n",
        "                                                ','.join(word for word, _ in most_common_words)))"
      ],
      "execution_count": 18,
      "outputs": [
        {
          "output_type": "stream",
          "text": [
            "Current answer for task WordsTagsCount is:\n",
            " javascript,c#,java\n",
            "using,php,java...\n"
          ],
          "name": "stdout"
        }
      ]
    },
    {
      "cell_type": "markdown",
      "metadata": {
        "id": "cBCyvuOO5ASA",
        "colab_type": "text"
      },
      "source": [
        "### Transforming text to a vector\n",
        "\n",
        "Machine Learning algorithms work with numeric data and we cannot use the provided text data \"as is\". There are many ways to transform text data to numeric vectors. In this task you will try to use two of them.\n",
        "\n",
        "#### Bag of words\n",
        "\n",
        "One of the well-known approaches is a *bag-of-words* representation. To create this transformation, follow the steps:\n",
        "1. Find *N* most popular words in train corpus and numerate them. Now we have a dictionary of the most popular words.\n",
        "2. For each title in the corpora create a zero vector with the dimension equals to *N*.\n",
        "3. For each text in the corpora iterate over words which are in the dictionary and increase by 1 the corresponding coordinate.\n",
        "\n",
        "Let's try to do it for a toy example. Imagine that we have *N* = 4 and the list of the most popular words is \n",
        "\n",
        "    ['hi', 'you', 'me', 'are']\n",
        "\n",
        "Then we need to numerate them, for example, like this: \n",
        "\n",
        "    {'hi': 0, 'you': 1, 'me': 2, 'are': 3}\n",
        "\n",
        "And we have the text, which we want to transform to the vector:\n",
        "\n",
        "    'hi how are you'\n",
        "\n",
        "For this text we create a corresponding zero vector \n",
        "\n",
        "    [0, 0, 0, 0]\n",
        "    \n",
        "And iterate over all words, and if the word is in the dictionary, we increase the value of the corresponding position in the vector:\n",
        "\n",
        "    'hi':  [1, 0, 0, 0]\n",
        "    'how': [1, 0, 0, 0] # word 'how' is not in our dictionary\n",
        "    'are': [1, 0, 0, 1]\n",
        "    'you': [1, 1, 0, 1]\n",
        "\n",
        "The resulting vector will be \n",
        "\n",
        "    [1, 1, 0, 1]\n",
        "   \n",
        "Implement the described encoding in the function *my_bag_of_words* with the size of the dictionary equals to 5000. To find the most common words use train data. You can test your code using the function *test_my_bag_of_words*."
      ]
    },
    {
      "cell_type": "code",
      "metadata": {
        "id": "6_Xwo-F_5ASB",
        "colab_type": "code",
        "colab": {
          "base_uri": "https://localhost:8080/",
          "height": 71
        },
        "outputId": "b08afe0b-ff7d-40a8-a9ac-dc62d341af09"
      },
      "source": [
        "DICT_SIZE = 5000\n",
        "VOCAB = words_counts.most_common(DICT_SIZE)\n",
        "WORDS_TO_INDEX = {item[0]:ii for ii, item in enumerate(sorted(VOCAB, key=lambda x: x[1], reverse=True))}####### YOUR CODE HERE #######\n",
        "print(WORDS_TO_INDEX)\n",
        "INDEX_TO_WORDS = {ii:word for word, ii in WORDS_TO_INDEX.items()}####### YOUR CODE HERE #######\n",
        "print(INDEX_TO_WORDS)\n",
        "ALL_WORDS = WORDS_TO_INDEX.keys()\n",
        "\n",
        "def my_bag_of_words(text, words_to_index, dict_size):\n",
        "    \"\"\"\n",
        "        text: a string\n",
        "        dict_size: size of the dictionary\n",
        "        \n",
        "        return a vector which is a bag-of-words representation of 'text'\n",
        "    \"\"\"\n",
        "    result_vector = np.zeros(dict_size)\n",
        "    ######################################\n",
        "    ######### YOUR CODE HERE #############\n",
        "    ######################################\n",
        "    for word in text.split(' '):\n",
        "        if word in words_to_index:\n",
        "            result_vector[words_to_index[word]] +=1\n",
        "\n",
        "    return result_vector"
      ],
      "execution_count": 19,
      "outputs": [
        {
          "output_type": "stream",
          "text": [
            "{'using': 0, 'php': 1, 'java': 2, 'file': 3, 'javascript': 4, 'error': 5, 'get': 6, 'c#': 7, 'python': 8, 'string': 9, 'array': 10, 'data': 11, 'jquery': 12, 'value': 13, 'function': 14, 'object': 15, 'class': 16, 'use': 17, 'c++': 18, 'list': 19, 'method': 20, 'multiple': 21, 'text': 22, 'image': 23, 'page': 24, 'rails': 25, 'form': 26, 'create': 27, 'html': 28, 'type': 29, 'code': 30, 'set': 31, 'working': 32, 'database': 33, 'add': 34, 'convert': 35, 'mysql': 36, 'json': 37, 'c': 38, 'server': 39, 'variable': 40, 'android': 41, 'values': 42, 'aspnet': 43, 'way': 44, 'application': 45, 'change': 46, 'button': 47, 'find': 48, 'django': 49, 'one': 50, 'without': 51, 'windows': 52, 'cannot': 53, 'table': 54, 'call': 55, 'files': 56, 'ajax': 57, 'check': 58, 'time': 59, 'name': 60, 'two': 61, 'ruby': 62, 'getting': 63, 'date': 64, 'web': 65, 'make': 66, 'input': 67, 'user': 68, 'xml': 69, 'app': 70, 'another': 71, 'element': 72, 'custom': 73, 'event': 74, 'api': 75, 'access': 76, 'url': 77, 'number': 78, 'spring': 79, 'view': 80, 'sql': 81, 'return': 82, 'mvc': 83, 'select': 84, 'google': 85, 'query': 86, 'inside': 87, 'exception': 88, 'display': 89, 'column': 90, 'read': 91, 'loop': 92, 'swift': 93, 'new': 94, 'work': 95, 'remove': 96, 'load': 97, 'r': 98, 'objects': 99, 'property': 100, 'line': 101, 'cant': 102, 'pass': 103, 'click': 104, 'framework': 105, 'update': 106, 'script': 107, 'vs': 108, 'post': 109, 'null': 110, '2': 111, 'creating': 112, 'net': 113, 'request': 114, 'different': 115, 'field': 116, 'key': 117, 'run': 118, 'row': 119, 'doesnt': 120, 'ios': 121, 'service': 122, 'linq': 123, 'div': 124, 'open': 125, 'window': 126, 'project': 127, 'wpf': 128, 'format': 129, 'best': 130, 'show': 131, 'controller': 132, 'variables': 133, 'undefined': 134, 'specific': 135, 'dynamically': 136, 'adding': 137, 'based': 138, 'angularjs': 139, 'control': 140, 'parameter': 141, 'send': 142, 'model': 143, '3': 144, 'library': 145, 'difference': 146, 'insert': 147, 'first': 148, 'passing': 149, 'vbnet': 150, 'js': 151, 'regex': 152, 'elements': 153, 'codeigniter': 154, 'eclipse': 155, 'within': 156, 'path': 157, 'dynamic': 158, 'visual': 159, 'memory': 160, 'connection': 161, 'possible': 162, 'id': 163, 'thread': 164, 'save': 165, 'default': 166, 'via': 167, '+': 168, 'running': 169, 'size': 170, 'program': 171, 'found': 172, 'content': 173, 'reference': 174, 'issue': 175, 'attribute': 176, 'write': 177, 'studio': 178, 'laravel': 179, 'search': 180, 'test': 181, 'excel': 182, 'static': 183, 'session': 184, 'output': 185, 'http': 186, 'character': 187, 'characters': 188, 'entity': 189, 'current': 190, 'problem': 191, 'client': 192, 'calling': 193, 'empty': 194, 'simple': 195, 'int': 196, 'css': 197, 'parameters': 198, 'upload': 199, 'command': 200, 'reading': 201, 'directory': 202, 'validation': 203, '1': 204, 'map': 205, 'hibernate': 206, 'selected': 207, 'textbox': 208, 'unable': 209, 'browser': 210, 'images': 211, 'item': 212, 'link': 213, 'index': 214, 'facebook': 215, 'expression': 216, 'store': 217, 'setting': 218, 'delete': 219, 'single': 220, 'template': 221, 'like': 222, 'statement': 223, 'strings': 224, 'rows': 225, 'failed': 226, 'header': 227, 'replace': 228, 'loading': 229, 'login': 230, 'box': 231, 'iphone': 232, '4': 233, 'numbers': 234, 'color': 235, 'nested': 236, 'returning': 237, 'print': 238, 'instance': 239, 'background': 240, 'pdf': 241, 'char': 242, 'parse': 243, 'could': 244, 'disable': 245, 'bootstrap': 246, 'message': 247, 'csv': 248, 'module': 249, 'tag': 250, 'chrome': 251, 'converting': 252, 'x': 253, 'parent': 254, 'invalid': 255, 'returns': 256, 'local': 257, 'methods': 258, 'need': 259, 'connect': 260, 'email': 261, 'changing': 262, 'trying': 263, 'response': 264, 'functions': 265, 'install': 266, 'redirect': 267, 'angular': 268, 'order': 269, 'dictionary': 270, 'arrays': 271, 'dropdown': 272, 'classes': 273, 'folder': 274, 'generate': 275, 'bar': 276, 'submit': 277, 'pandas': 278, 'process': 279, 'columns': 280, 'child': 281, 'source': 282, 'checkbox': 283, 'integer': 284, 'count': 285, 'sending': 286, 'parsing': 287, 'items': 288, 'start': 289, 'detect': 290, 'double': 291, 'datetime': 292, 'hide': 293, 'fields': 294, 'jsp': 295, 'console': 296, 'gridview': 297, 'pointer': 298, 'selenium': 299, 'linux': 300, 'constructor': 301, 'import': 302, 'random': 303, '7': 304, 'programmatically': 305, 'action': 306, 'collection': 307, 'instead': 308, 'version': 309, 'datagridview': 310, 'filter': 311, 'sort': 312, 'objectivec': 313, 'website': 314, 'generic': 315, 'last': 316, 'result': 317, 'build': 318, 'system': 319, 'download': 320, 'split': 321, 'properties': 322, 'interface': 323, 'iframe': 324, 'back': 325, 'nodejs': 326, 'cell': 327, 'binding': 328, 'arguments': 329, 'datatable': 330, '5': 331, 'syntax': 332, 'xcode': 333, 'scroll': 334, 'onclick': 335, 'binary': 336, 'external': 337, 'position': 338, 'execute': 339, '0': 340, 'socket': 341, 'rest': 342, 'called': 343, 'missing': 344, 'word': 345, 'maps': 346, 'implement': 347, 'typeerror': 348, 'byte': 349, 'whats': 350, 'extension': 351, 'copy': 352, 'refresh': 353, 'video': 354, 'menu': 355, 'match': 356, 'given': 357, 'argument': 358, 'node': 359, 'wordpress': 360, 'include': 361, 'retrieve': 362, 'regular': 363, 'accessing': 364, 'forms': 365, 'canvas': 366, 'showing': 367, 'document': 368, 'results': 369, 'ui': 370, 'runtime': 371, 'arraylist': 372, 'defined': 373, 'handle': 374, 'drop': 375, 'group': 376, 'apache': 377, 'errors': 378, 'large': 379, 'opencv': 380, 'height': 381, 'compare': 382, 'wcf': 383, 'address': 384, 'ie': 385, 'mobile': 386, 'many': 387, 'properly': 388, 'member': 389, 'equivalent': 390, '8': 391, 'screen': 392, 'exists': 393, 'global': 394, 'plugin': 395, 'password': 396, 'expected': 397, 'vector': 398, 'events': 399, 'jar': 400, 'maven': 401, 'length': 402, 'location': 403, 'writing': 404, 'types': 405, 'numpy': 406, 'servlet': 407, 'html5': 408, 'extract': 409, 'width': 410, 'stored': 411, 'close': 412, 'dataframe': 413, 'dialog': 414, 'certain': 415, 'help': 416, 'used': 417, 'range': 418, 'style': 419, 'names': 420, 'handling': 421, 'prevent': 422, 'automatically': 423, 'works': 424, 'resource': 425, 'magento': 426, 'every': 427, 'tomcat': 428, 'fails': 429, 'cast': 430, 'created': 431, 'pattern': 432, 'warning': 433, 'frame': 434, 'popup': 435, 'wrong': 436, 'contains': 437, 'validate': 438, 'displaying': 439, 'enum': 440, 'updating': 441, 'qt': 442, 'curl': 443, 'package': 444, 'stop': 445, 'must': 446, 'testing': 447, 'listview': 448, 'operator': 449, '2d': 450, 'space': 451, 'put': 452, 'authentication': 453, 'context': 454, 'conversion': 455, 'keys': 456, 'auto': 457, 'structure': 458, 'callback': 459, 'main': 460, 'saving': 461, 'token': 462, 'end': 463, 'exist': 464, 'long': 465, 'tab': 466, 'db': 467, 'problems': 468, 'foreach': 469, 'existing': 470, 'dll': 471, 'always': 472, 'block': 473, 'sorting': 474, 'grid': 475, 'finding': 476, 'matplotlib': 477, 'remote': 478, 'sqlite': 479, 'buttons': 480, 'option': 481, 'bind': 482, 'determine': 483, 'modal': 484, 'firefox': 485, 'stream': 486, 'performance': 487, 'tags': 488, 'label': 489, 'plot': 490, 'mac': 491, 'join': 492, 'decimal': 493, 'combobox': 494, 'uncaught': 495, 'phone': 496, 'radio': 497, 'example': 498, 'chart': 499, 'compile': 500, 'unexpected': 501, 'attributes': 502, 'dom': 503, 'checking': 504, 'correctly': 505, 'right': 506, 'tables': 507, 'point': 508, 'installing': 509, 'lines': 510, 'base': 511, 'mouse': 512, 'float': 513, 'users': 514, 'basic': 515, 'support': 516, 'struct': 517, 'tree': 518, 'making': 519, 'unit': 520, 'unique': 521, 'scope': 522, 'threads': 523, 'correct': 524, 'hash': 525, 'duplicate': 526, 'catch': 527, 'next': 528, 'handler': 529, 'mean': 530, 'already': 531, 'wont': 532, 'even': 533, 'good': 534, 'edit': 535, 'task': 536, 'admin': 537, 'uitableview': 538, 'removing': 539, 'matrix': 540, 'namespace': 541, 'contents': 542, 'pages': 543, 'valid': 544, 'graph': 545, 'dates': 546, 'lists': 547, 'sdk': 548, 'log': 549, 'encoding': 550, 'const': 551, 'debug': 552, 'objective': 553, 'case': 554, 'calculate': 555, 'changes': 556, 'site': 557, 'programming': 558, 'configuration': 559, 'storing': 560, 'side': 561, 'active': 562, 'sum': 563, 'full': 564, 'limit': 565, 'keep': 566, 'jpa': 567, 'top': 568, 'listbox': 569, 'implementation': 570, 'animation': 571, 'unicode': 572, 'append': 573, 'override': 574, 'printing': 575, 'mongodb': 576, 'twitter': 577, 'allow': 578, 'record': 579, 'winforms': 580, 'part': 581, 'resize': 582, 'utf8': 583, 'core': 584, 'lambda': 585, 'loaded': 586, 'mail': 587, 'ip': 588, 'security': 589, 'controls': 590, 'play': 591, 'times': 592, 'pdo': 593, 'layout': 594, 'selection': 595, 'async': 596, 'fatal': 597, 'game': 598, 'records': 599, 'bean': 600, 'language': 601, 'boolean': 602, 'webdriver': 603, 'cookie': 604, 'draw': 605, 'constant': 606, 'switch': 607, 'outside': 608, 'cakephp': 609, 'domain': 610, 'gui': 611, 'force': 612, 'unknown': 613, 'true': 614, 'inserting': 615, 'assign': 616, 'wait': 617, 'port': 618, 'false': 619, 'mode': 620, '20': 621, 'slow': 622, 'named': 623, 'state': 624, 'focus': 625, 'oracle': 626, 'issues': 627, 'requests': 628, 'mapping': 629, 'netbeans': 630, 'available': 631, 'condition': 632, 'multidimensional': 633, 'enable': 634, 'generated': 635, 'ubuntu': 636, 'assembly': 637, 'jdbc': 638, 'uploading': 639, 'clicked': 640, 'device': 641, 'gem': 642, 'populate': 643, 'yii': 644, 'specified': 645, 'swing': 646, 'soap': 647, 'required': 648, 'special': 649, 'engine': 650, 'initialize': 651, 'checked': 652, 'exceptions': 653, '2010': 654, 'executing': 655, 'know': 656, 'network': 657, 'bad': 658, 'native': 659, 'avoid': 660, 'tkinter': 661, 'javafx': 662, 'try': 663, 'design': 664, '6': 665, 'timeout': 666, 'month': 667, 'export': 668, 'webservice': 669, 'efficient': 670, 'trigger': 671, 'n': 672, 'want': 673, '404': 674, 'heroku': 675, 'move': 676, 'question': 677, 'os': 678, 'component': 679, 'timer': 680, 'dont': 681, 'iterate': 682, 'stack': 683, '10': 684, 'zend': 685, 'words': 686, 'body': 687, 'textarea': 688, 'views': 689, 'implementing': 690, 'compiler': 691, 'clicking': 692, 'linked': 693, 'symbol': 694, 'clear': 695, 'render': 696, 'flask': 697, 'root': 698, 'navigation': 699, 'symfony2': 700, 'second': 701, 'define': 702, 'datagrid': 703, 'pointers': 704, 'fill': 705, 'ssl': 706, 'inheritance': 707, 'private': 708, 'route': 709, 'procedure': 710, 'particular': 711, 'rspec': 712, 'information': 713, 'left': 714, 'scrolling': 715, 'declaration': 716, 'status': 717, 'behind': 718, 'bytes': 719, 'fetch': 720, 'fix': 721, 'services': 722, 'calendar': 723, 'reflection': 724, 'push': 725, 'spaces': 726, 'algorithm': 727, 'xpath': 728, 'alert': 729, 'apply': 730, 'cache': 731, 'integers': 732, 'youtube': 733, 'development': 734, 'calls': 735, 'dependency': 736, 'options': 737, 'maximum': 738, 'hex': 739, 'max': 740, 'https': 741, 'usage': 742, 'progress': 743, 'target': 744, 'previous': 745, 'environment': 746, 'models': 747, 'merge': 748, 'title': 749, 'practice': 750, 'internet': 751, 'comparing': 752, 'changed': 753, 'headers': 754, 'notification': 755, 'driver': 756, 'libraries': 757, 'boost': 758, 'matching': 759, 'apps': 760, 'statements': 761, 'panel': 762, 'symfony': 763, 'shared': 764, 'font': 765, 'opengl': 766, 'tests': 767, 'processing': 768, 'comma': 769, 'public': 770, 'xaml': 771, 'installed': 772, 'datepicker': 773, 'separate': 774, 'standard': 775, 'icon': 776, 'resources': 777, 'directive': 778, 'report': 779, 'abstract': 780, 'links': 781, 'htaccess': 782, 'better': 783, 'hidden': 784, 'container': 785, 'serialize': 786, 'debugging': 787, 'logging': 788, 'would': 789, 'asp': 790, 'resolve': 791, 'autocomplete': 792, 'junit': 793, 'configure': 794, 'ggplot2': 795, 'react': 796, 'see': 797, 'hashmap': 798, 'partial': 799, 'alternative': 800, 'queries': 801, 'selecting': 802, 'visible': 803, 'echo': 804, 'messages': 805, 'returned': 806, 'throws': 807, 'devise': 808, 'something': 809, 'keyboard': 810, 'proxy': 811, 'svg': 812, 'checkboxes': 813, 'declare': 814, 'generating': 815, 'denied': 816, 'take': 817, 'jtable': 818, 'whether': 819, 'coordinates': 820, 'escape': 821, 'operation': 822, 'quotes': 823, 'causes': 824, 'virtual': 825, 'formatting': 826, 'extjs': 827, 'day': 828, 'drag': 829, 'jsf': 830, 'reload': 831, 'drawing': 832, 'setup': 833, 'contain': 834, 'shell': 835, 'product': 836, 'dataset': 837, 'intellij': 838, 'machine': 839, 'delegate': 840, 'webpage': 841, 'entities': 842, 'rendering': 843, 'queue': 844, 'strange': 845, 'phonegap': 846, 'containing': 847, 'cells': 848, 'applications': 849, 'twice': 850, 'dropdownlist': 851, 'connecting': 852, 'inline': 853, 'per': 854, 'execution': 855, 'gcc': 856, 'blank': 857, 'relationship': 858, 'uiview': 859, 'level': 860, 'opening': 861, 'ms': 862, 'conditional': 863, 'razor': 864, 'serialization': 865, 'gives': 866, 'widget': 867, 'initialization': 868, 'relative': 869, 'modify': 870, 'safe': 871, 'etc': 872, 'internal': 873, 'nodes': 874, 'jqgrid': 875, 'definition': 876, 'timestamp': 877, 'capture': 878, 'batch': 879, 'importing': 880, 'building': 881, 'retrieving': 882, 'expressions': 883, 'compiling': 884, 'else': 885, 'allowed': 886, 'added': 887, 'still': 888, 'numeric': 889, 'tcp': 890, 'year': 891, 'host': 892, 'sqlalchemy': 893, 'seconds': 894, 'doctrine': 895, 'boot': 896, 'highcharts': 897, 'cookies': 898, 'selector': 899, 'href': 900, 'nsstring': 901, 'foreign': 902, 'jframe': 903, 'jackson': 904, 'starting': 905, 'config': 906, 'annotation': 907, 'embedded': 908, 'fast': 909, 'reset': 910, 'protocol': 911, 'touch': 912, 'injection': 913, 'section': 914, 'firing': 915, 'tabs': 916, 'jaxb': 917, 'webbrowser': 918, 'ascii': 919, 'points': 920, 'closing': 921, 'overriding': 922, 'transaction': 923, 'postgresql': 924, 'trouble': 925, 'hover': 926, 'sharepoint': 927, 'passed': 928, 'labels': 929, 'cursor': 930, 'able': 931, 'gwt': 932, 'recursive': 933, 'specify': 934, 'sequence': 935, 'localhost': 936, 'explorer': 937, 'urls': 938, 'asynchronous': 939, 'assignment': 940, 'replacing': 941, 'deploy': 942, 'fixed': 943, 'webview': 944, 'giving': 945, 'days': 946, 'templates': 947, 'exit': 948, 'fastest': 949, 'base64': 950, 'anchor': 951, 'restful': 952, 'deleting': 953, 'toggle': 954, 'axis': 955, 'nil': 956, 'go': 957, 'v3': 958, 'enter': 959, 'osx': 960, 'proper': 961, 'vb': 962, '500': 963, 'moving': 964, 'digits': 965, 'nhibernate': 966, 'casting': 967, 'ignore': 968, 'stl': 969, 'faster': 970, 'activerecord': 971, 'permission': 972, 'settings': 973, 'pagination': 974, 'mysqli': 975, 'border': 976, 'lock': 977, 'including': 978, 'loops': 979, 'serial': 980, 'declared': 981, 'incorrect': 982, 'caching': 983, 'activity': 984, 'username': 985, 'real': 986, 's3': 987, 'effect': 988, 'sent': 989, 'comparison': 990, 'complex': 991, 'complete': 992, 'safari': 993, 'invoke': 994, 'across': 995, 'uitableviewcell': 996, 'txt': 997, 'void': 998, 'audio': 999, 'programatically': 1000, 'multi': 1001, 'zip': 1002, 'speed': 1003, 'increment': 1004, 'singleton': 1005, 'combine': 1006, 'buffer': 1007, '3d': 1008, 'scripts': 1009, 'modules': 1010, 'equal': 1011, 'place': 1012, 'center': 1013, 'keyword': 1014, 'closed': 1015, 'inner': 1016, 'repository': 1017, 'routing': 1018, 'filtering': 1019, 'integration': 1020, 'iis': 1021, 'break': 1022, 'letter': 1023, 'mock': 1024, 'causing': 1025, 'express': 1026, 'ie8': 1027, 'heap': 1028, 'whole': 1029, 'bundle': 1030, 'mvvm': 1031, 'letters': 1032, 'ant': 1033, 'winform': 1034, 'crash': 1035, '2008': 1036, 'uploaded': 1037, 'poi': 1038, 'substring': 1039, 'bit': 1040, 'identifier': 1041, 'receive': 1042, 'extra': 1043, 'leak': 1044, 'pip': 1045, 'deserialize': 1046, 'src': 1047, 'self': 1048, 'entry': 1049, 'series': 1050, 'following': 1051, 'require': 1052, 'blob': 1053, 'amazon': 1054, 'success': 1055, 'ftp': 1056, 'browsers': 1057, 'shows': 1058, 'free': 1059, 'smtp': 1060, 'isnt': 1061, 'macro': 1062, '2012': 1063, 'share': 1064, 'solution': 1065, 'primary': 1066, 'extracting': 1067, 'camera': 1068, 'flash': 1069, 'communication': 1070, 'rake': 1071, 'generator': 1072, 'controllers': 1073, 'tableview': 1074, 'dependencies': 1075, 'around': 1076, 'failure': 1077, 'storage': 1078, 'listener': 1079, 'exe': 1080, 'generics': 1081, 'microsoft': 1082, 'area': 1083, 'tell': 1084, 'provider': 1085, 'failing': 1086, 'beautifulsoup': 1087, 'marker': 1088, 'cocoa': 1089, 'iterator': 1090, 'secure': 1091, 'parallel': 1092, 'win32': 1093, 'bool': 1094, 'downloading': 1095, 'cross': 1096, 'negative': 1097, 'depending': 1098, 'itextsharp': 1099, 'unity': 1100, 'solve': 1101, 'divs': 1102, 'tutorial': 1103, 'decode': 1104, 'datasource': 1105, 'recursion': 1106, 'directly': 1107, 'scrapy': 1108, 'ipad': 1109, 'sockets': 1110, 'timezone': 1111, 'editor': 1112, 'slider': 1113, 'idea': 1114, 'anonymous': 1115, 'understanding': 1116, 'requires': 1117, 'instances': 1118, 'calculating': 1119, 'com': 1120, 'non': 1121, 'png': 1122, 'give': 1123, 'ggplot': 1124, 'silverlight': 1125, 'behavior': 1126, 'parser': 1127, 'tool': 1128, 'throw': 1129, 'detecting': 1130, 'white': 1131, 'similar': 1132, 'compilation': 1133, 'webapi': 1134, 'iterating': 1135, 'waiting': 1136, 'throwing': 1137, 'jersey': 1138, 'unix': 1139, 'log4j': 1140, 'accept': 1141, 'less': 1142, 'children': 1143, 'executable': 1144, 'clause': 1145, 'applet': 1146, 'needed': 1147, 'perform': 1148, 'tuple': 1149, 'zoom': 1150, '40': 1151, 'appear': 1152, 'reverse': 1153, 'animate': 1154, 'jboss': 1155, 'delay': 1156, 'd3': 1157, 'joomla': 1158, 'installation': 1159, 'typescript': 1160, 'raw': 1161, 'entire': 1162, 'certificate': 1163, 'optional': 1164, 'zero': 1165, 'receiving': 1166, 'gmail': 1167, 'uibutton': 1168, 'rotate': 1169, 'illegal': 1170, 'colors': 1171, 'treeview': 1172, 'copying': 1173, 'takes': 1174, 'extend': 1175, 'big': 1176, 'jpanel': 1177, 'references': 1178, 'filename': 1179, 'turn': 1180, 'primefaces': 1181, 'udp': 1182, 'matches': 1183, 'uri': 1184, 'subclass': 1185, 'embed': 1186, 'gradle': 1187, 'classpath': 1188, 'except': 1189, 'practices': 1190, 'mvc4': 1191, 'searching': 1192, 'drupal': 1193, 'backbonejs': 1194, 'nginx': 1195, 'manually': 1196, 'ckeditor': 1197, 'postback': 1198, 'unsigned': 1199, 'crashes': 1200, 'desktop': 1201, 'supported': 1202, 'tooltip': 1203, 'due': 1204, 'commands': 1205, 'prepared': 1206, 'oauth': 1207, 'bound': 1208, 'duplicates': 1209, '30': 1210, 'datatables': 1211, 'w': 1212, 'jvm': 1213, 'uiscrollview': 1214, 'occurred': 1215, 'connections': 1216, 'encryption': 1217, 'yii2': 1218, 'collections': 1219, 'creation': 1220, 'bottom': 1221, 'mvc3': 1222, 'ngrepeat': 1223, 'ide': 1224, 'minutes': 1225, 'counting': 1226, 'processes': 1227, 'prototype': 1228, 'fit': 1229, 'several': 1230, 'job': 1231, 'sessions': 1232, 'phpunit': 1233, 'tasks': 1234, 'profile': 1235, 'looping': 1236, 'annotations': 1237, 'paypal': 1238, 'equals': 1239, 'projects': 1240, 'blocks': 1241, 'production': 1242, 'img': 1243, 'var': 1244, 'present': 1245, 'bitmap': 1246, 'backbone': 1247, 'prompt': 1248, 'incompatible': 1249, '32': 1250, 'resolved': 1251, 'initializing': 1252, 'automatic': 1253, 'linking': 1254, 'account': 1255, 'usercontrol': 1256, 'comments': 1257, 'exec': 1258, 'textfield': 1259, 'info': 1260, 'infinite': 1261, 'increase': 1262, 'upon': 1263, 'amount': 1264, 'original': 1265, 'operations': 1266, 'separated': 1267, 'rvm': 1268, 'uiwebview': 1269, 'debugger': 1270, 'fragment': 1271, 'together': 1272, 'submitting': 1273, 'related': 1274, 'nullpointerexception': 1275, 'crystal': 1276, 'routes': 1277, 'disabled': 1278, 'websocket': 1279, 'literal': 1280, 'syntaxerror': 1281, 'conditions': 1282, 'derived': 1283, 'common': 1284, 'jsonnet': 1285, 'absolute': 1286, 'places': 1287, 'members': 1288, 'aspx': 1289, 'unhandled': 1290, 'markers': 1291, 'ef': 1292, 'gets': 1293, 'uiimageview': 1294, 'logged': 1295, 'step': 1296, 'small': 1297, 'im': 1298, 'uses': 1299, 'transparent': 1300, 'encode': 1301, 'onchange': 1302, 'offset': 1303, 'behaviour': 1304, 'displayed': 1305, 'horizontal': 1306, 'kendo': 1307, 'inputs': 1308, 'posting': 1309, 'azure': 1310, 'storyboard': 1311, 'ionic': 1312, 'fault': 1313, 'pop': 1314, 'garbage': 1315, 'multithreading': 1316, 'nothing': 1317, 'fail': 1318, 'paths': 1319, 'exactly': 1320, 'hiding': 1321, 'schema': 1322, 'association': 1323, 'instantiate': 1324, 'average': 1325, 'meteor': 1326, 'attributeerror': 1327, '31': 1328, 'builder': 1329, 'entries': 1330, '100': 1331, 'much': 1332, 'resizing': 1333, 'factory': 1334, 'fine': 1335, 'uiimage': 1336, 'vertical': 1337, 'sign': 1338, 'chat': 1339, 'd3js': 1340, 'encoded': 1341, 'td': 1342, 'validating': 1343, 'sorted': 1344, 'jni': 1345, 'deploying': 1346, 'assigning': 1347, 'b': 1348, 'sheet': 1349, 'highlight': 1350, 'xampp': 1351, 'distinct': 1352, 'architecture': 1353, 'li': 1354, 'manager': 1355, 'refreshing': 1356, 'live': 1357, 'updated': 1358, 'ids': 1359, '11': 1360, 'actual': 1361, 'drive': 1362, 'editing': 1363, 'helper': 1364, 'distance': 1365, 'cron': 1366, 'normal': 1367, 'hours': 1368, 'three': 1369, '_post': 1370, 'concatenate': 1371, 'keeping': 1372, 'bug': 1373, 'efficiently': 1374, 'viewmodel': 1375, 'total': 1376, 'deprecated': 1377, 'phpmyadmin': 1378, 'importerror': 1379, 'xamarin': 1380, 'struts': 1381, 'libgdx': 1382, 'params': 1383, 'looking': 1384, 'computer': 1385, 'lazy': 1386, 'mockito': 1387, 'war': 1388, 'repeater': 1389, 'release': 1390, 'lib': 1391, 'breaks': 1392, 'made': 1393, 'uitextfield': 1394, 'firebase': 1395, 'woocommerce': 1396, 'splitting': 1397, 'pairs': 1398, 'printf': 1399, 'transfer': 1400, '81': 1401, 'requested': 1402, 'codebehind': 1403, 'pygame': 1404, 'eval': 1405, 'dict': 1406, 'constraint': 1407, 'nsarray': 1408, 'uilabel': 1409, 'threejs': 1410, 'encrypt': 1411, 'settimeout': 1412, 'span': 1413, 'jdk': 1414, 'struts2': 1415, 'itext': 1416, 'reports': 1417, 'str': 1418, 'category': 1419, 'world': 1420, 'though': 1421, 'anything': 1422, 'orm': 1423, 'initial': 1424, 'hadoop': 1425, 'structs': 1426, 'press': 1427, 'old': 1428, 'thrown': 1429, 'httpclient': 1430, 'scale': 1431, 'threading': 1432, 'actually': 1433, 'management': 1434, 'nsmutablearray': 1435, 'never': 1436, 'generation': 1437, 'exclude': 1438, 'redirecting': 1439, 'fire': 1440, 'components': 1441, 'analytics': 1442, 'packages': 1443, 'sets': 1444, 'rectangle': 1445, 'cause': 1446, '2013': 1447, 'detection': 1448, 'plotting': 1449, 'started': 1450, 'forward': 1451, 'picture': 1452, 'register': 1453, 'platform': 1454, 'devices': 1455, 'referenced': 1456, 'slide': 1457, 'frames': 1458, 'plain': 1459, 'symbols': 1460, 'sub': 1461, 'skip': 1462, 'unrecognized': 1463, 'segmentation': 1464, 'feed': 1465, 'scraping': 1466, 'stdstring': 1467, 'xmlhttprequest': 1468, 'home': 1469, 'details': 1470, 'multiprocessing': 1471, 'converted': 1472, 'sound': 1473, 'pressed': 1474, 'newline': 1475, 'circle': 1476, 'approach': 1477, 'extending': 1478, 'g++': 1479, 'socketio': 1480, 'versions': 1481, 'cpu': 1482, 'charts': 1483, 'done': 1484, 'really': 1485, 'cancel': 1486, 'folders': 1487, 'dimensional': 1488, 'cmake': 1489, 'round': 1490, 'pycharm': 1491, 'histogram': 1492, 'zone': 1493, 'paperclip': 1494, 'ignoring': 1495, 'readonly': 1496, 'final': 1497, 'mfc': 1498, 'media': 1499, 'destroy': 1500, 'weird': 1501, 'got': 1502, 'groups': 1503, 'ie9': 1504, 'inject': 1505, 'easiest': 1506, 'ways': 1507, 'shiny': 1508, 'interfaces': 1509, 'phpexcel': 1510, 'refused': 1511, 'floating': 1512, 'await': 1513, 'picker': 1514, 'gson': 1515, 'restrict': 1516, 'verify': 1517, 'please': 1518, 'rename': 1519, 'violation': 1520, 'vectors': 1521, 'spark': 1522, 'reduce': 1523, 'min': 1524, '64bit': 1525, 'included': 1526, 'tools': 1527, 'least': 1528, 'uiviewcontroller': 1529, 'permissions': 1530, 'populating': 1531, 'migration': 1532, 'initialized': 1533, 'functionality': 1534, 'colour': 1535, '9': 1536, 'odd': 1537, 'overloading': 1538, 'eloquent': 1539, 'runs': 1540, 'disabling': 1541, 'patterns': 1542, 'overlay': 1543, 'hyperlink': 1544, 'wrap': 1545, 'aws': 1546, 'dot': 1547, 'according': 1548, 'malloc': 1549, 'occurrences': 1550, 'taking': 1551, 'swt': 1552, 'clients': 1553, 'wrapper': 1554, 'layer': 1555, 'expects': 1556, 'listt': 1557, 'mp3': 1558, 'knockout': 1559, 'dictionaries': 1560, 'digit': 1561, 'rgb': 1562, 'transition': 1563, 'pyqt': 1564, 'brackets': 1565, 'uninitialized': 1566, 'randomly': 1567, 'nsdictionary': 1568, 'jstl': 1569, 'learn': 1570, '64': 1571, '35': 1572, 'extensions': 1573, 'makefile': 1574, 'ienumerable': 1575, 'pause': 1576, 'differences': 1577, 'beans': 1578, 'explicit': 1579, 'none': 1580, 'easy': 1581, 'may': 1582, 'written': 1583, 'saved': 1584, 'phpmailer': 1585, 'high': 1586, 'exact': 1587, 'ok': 1588, 'inserted': 1589, 'locale': 1590, 'doc': 1591, 'recursively': 1592, 'math': 1593, 'rather': 1594, 'git': 1595, 'signalr': 1596, 'photo': 1597, 'front': 1598, 'everything': 1599, 'scanner': 1600, 'posts': 1601, 'closure': 1602, 'reason': 1603, 'also': 1604, 'received': 1605, 'jenkins': 1606, 'appconfig': 1607, 'hour': 1608, 'confirm': 1609, 'wsdl': 1610, 'unsupported': 1611, 'calculation': 1612, 'preg_match': 1613, 'documents': 1614, 'happens': 1615, 'identity': 1616, 'uicollectionview': 1617, 'appending': 1618, 'learning': 1619, 'precision': 1620, 'signal': 1621, 'registry': 1622, 'counter': 1623, 'week': 1624, 'known': 1625, 'valueerror': 1626, 'lookup': 1627, 'textboxes': 1628, 'localstorage': 1629, 'comment': 1630, 'logic': 1631, 'feature': 1632, 'chars': 1633, 'inherited': 1634, 'glassfish': 1635, 'padding': 1636, 'master': 1637, 'referenceerror': 1638, 'align': 1639, 'lost': 1640, 'additional': 1641, 'prefix': 1642, 'chartjs': 1643, 'restart': 1644, 'c++11': 1645, 'deployment': 1646, 'webconfig': 1647, 'pythons': 1648, 'iteration': 1649, 'percentage': 1650, 'terminal': 1651, 'submission': 1652, 'arduino': 1653, 'merging': 1654, 'online': 1655, 'nonobject': 1656, 'makes': 1657, 'jsoup': 1658, 'pool': 1659, 'constants': 1660, 'implicit': 1661, 'transform': 1662, 'ldap': 1663, '27': 1664, 'optimize': 1665, 'sharing': 1666, 'emails': 1667, 'enums': 1668, 'thumbnail': 1669, 'underscore': 1670, 'beginning': 1671, 'square': 1672, 'postgres': 1673, 'fancybox': 1674, 'pil': 1675, 'tensorflow': 1676, 'cordova': 1677, 'constraints': 1678, 'innerhtml': 1679, 'md5': 1680, 'combo': 1681, 'dojo': 1682, 'javalangnoclassdeffounderror': 1683, 'direct': 1684, 'uitextview': 1685, 'pure': 1686, 'clean': 1687, 'graphics': 1688, 'purpose': 1689, 'fetching': 1690, 'bash': 1691, 'completely': 1692, 'simulate': 1693, 'unresolved': 1694, 'arc': 1695, 'updates': 1696, 'obtain': 1697, 'p': 1698, 'concurrent': 1699, 'rewrite': 1700, 'manytomany': 1701, 'deserializing': 1702, 'naming': 1703, 'launch': 1704, 'moq': 1705, 'identify': 1706, 'linker': 1707, 'upgrade': 1708, 'mouseover': 1709, 'modified': 1710, 'fade': 1711, 'dd': 1712, 'reloading': 1713, 'confusion': 1714, 'figure': 1715, 'eg': 1716, '24': 1717, 'polygon': 1718, 'exporting': 1719, 'mismatch': 1720, 'pixel': 1721, 'scanf': 1722, 'queryset': 1723, 'rotation': 1724, 'sqlite3': 1725, 'rules': 1726, 'kernel': 1727, 'greater': 1728, 'signature': 1729, 'explain': 1730, 'sample': 1731, 'legend': 1732, 'init': 1733, 'bin': 1734, 'adapter': 1735, 'latitude': 1736, 'longitude': 1737, 'preg_replace': 1738, 'well': 1739, 'grouping': 1740, 'cli': 1741, 'streaming': 1742, 'track': 1743, 'declaring': 1744, 'black': 1745, 'interop': 1746, 'openssl': 1747, 'parts': 1748, 'notifications': 1749, 'subset': 1750, 'nokogiri': 1751, 'startup': 1752, 'short': 1753, 'locate': 1754, 'hello': 1755, 'orientation': 1756, 'protected': 1757, 'connected': 1758, 'mm': 1759, 'managed': 1760, 'player': 1761, 'includes': 1762, 'versus': 1763, 'stdout': 1764, 'nunit': 1765, 'deserialization': 1766, 'relation': 1767, 'wamp': 1768, 'modifying': 1769, 'footer': 1770, 'general': 1771, 'multithreaded': 1772, 'individual': 1773, 'assets': 1774, 'opencart': 1775, 'theme': 1776, 'richtextbox': 1777, 'jasmine': 1778, 'pair': 1779, 'ready': 1780, 'compiled': 1781, 'xsd': 1782, 'notation': 1783, 'contact': 1784, 'coding': 1785, 'either': 1786, 'operators': 1787, '16': 1788, 'plus': 1789, 'customize': 1790, 'executed': 1791, 'combining': 1792, 'stdin': 1793, 'milliseconds': 1794, 'backend': 1795, 'cart': 1796, 'hangs': 1797, 'httpwebrequest': 1798, 'finished': 1799, 'editable': 1800, 'allocated': 1801, 'transactions': 1802, 'broken': 1803, 'couldnt': 1804, 'manage': 1805, 'actions': 1806, 'howto': 1807, 'documentation': 1808, 'clicks': 1809, 'calculator': 1810, 'integrate': 1811, 'price': 1812, 'lxml': 1813, 'products': 1814, 'bluetooth': 1815, 'hashes': 1816, 'multiline': 1817, 'oop': 1818, 'setinterval': 1819, 'confirmation': 1820, 'implicitly': 1821, 'serializing': 1822, 'wxpython': 1823, 'understand': 1824, 'highlighting': 1825, 'opened': 1826, 'simulator': 1827, 'switching': 1828, 'loads': 1829, 'preview': 1830, 'threadsafe': 1831, 'circular': 1832, 'occurrence': 1833, 'plots': 1834, 'boxes': 1835, 'whitespace': 1836, 'matlab': 1837, 'inputstream': 1838, 'formatted': 1839, 'criteria': 1840, 'rule': 1841, 'observable': 1842, 'attachment': 1843, 'recognized': 1844, 'mono': 1845, 'ee': 1846, 'json_encode': 1847, 'yyyy': 1848, 'resultset': 1849, 'namespaces': 1850, 'longer': 1851, 'resolution': 1852, 'spreadsheet': 1853, 'completion': 1854, 'examples': 1855, 'associative': 1856, 'groovy': 1857, 'jpeg': 1858, 'setter': 1859, 'reactjs': 1860, 'phps': 1861, 'cucumber': 1862, 'look': 1863, 'databases': 1864, 'constructors': 1865, 'nsdata': 1866, 'ejb': 1867, 'enabled': 1868, 'subprocess': 1869, 'provide': 1870, 'putting': 1871, 'querystring': 1872, 'screenshot': 1873, 'finish': 1874, 'allocation': 1875, 'scrollbar': 1876, 'jaxrs': 1877, 'gdb': 1878, 'mingw': 1879, 'mongoose': 1880, 'fired': 1881, 'jbutton': 1882, 'seems': 1883, 'currently': 1884, 'detected': 1885, 'disk': 1886, 'arrow': 1887, 'latest': 1888, 'triggered': 1889, 'databinding': 1890, 'emberjs': 1891, 'cloud': 1892, 'simplexml': 1893, 'promise': 1894, 'arbitrary': 1895, 'implemented': 1896, 'elegant': 1897, 'shape': 1898, 'multiply': 1899, 'swipe': 1900, 'querying': 1901, 'scala': 1902, 'invoking': 1903, 'positive': 1904, 'linear': 1905, 'bounds': 1906, 'slash': 1907, 'datatype': 1908, 'knockoutjs': 1909, 'initializer': 1910, 'callbacks': 1911, 'capistrano': 1912, 'choose': 1913, 'developer': 1914, 'multipart': 1915, 'defining': 1916, 'jpg': 1917, 'fullcalendar': 1918, 'cors': 1919, 'outlook': 1920, 'along': 1921, 'needs': 1922, 'videos': 1923, 'tinymce': 1924, 'asynchronously': 1925, 'clickable': 1926, 'replacement': 1927, 'relationships': 1928, 'onload': 1929, 'jaxws': 1930, 'separator': 1931, 'yes': 1932, 'textview': 1933, 'jtextfield': 1934, 'nsdate': 1935, 'frameworks': 1936, '45': 1937, 'fork': 1938, 'rsa': 1939, 'party': 1940, 'pixels': 1941, 'capybara': 1942, 'ssh': 1943, 'c#net': 1944, 'sure': 1945, 'outer': 1946, 'metadata': 1947, 'seem': 1948, 'twig': 1949, 'super': 1950, 'manipulation': 1951, 'metro': 1952, 'meaning': 1953, 'hook': 1954, 'utc': 1955, 'third': 1956, 'decrypt': 1957, 'servers': 1958, 'composer': 1959, 'usb': 1960, 'trailing': 1961, 'country': 1962, 'attach': 1963, '#': 1964, 'catching': 1965, 'paste': 1966, 'adonet': 1967, 'logger': 1968, 'registration': 1969, 'recognize': 1970, 'pipe': 1971, 'gems': 1972, 'coffeescript': 1973, 'simplest': 1974, 'openmp': 1975, 'backgroundworker': 1976, 'appears': 1977, 'wrapping': 1978, 'mark': 1979, 'hashtable': 1980, 'raise': 1981, 'vaadin': 1982, 'specifying': 1983, 'validator': 1984, 'aes': 1985, 'bindings': 1986, 'liststring': 1987, '50': 1988, 'pack': 1989, 'monitor': 1990, 'aggregate': 1991, 'br': 1992, '51': 1993, '17': 1994, 'union': 1995, 'carousel': 1996, 'scipy': 1997, 'tuples': 1998, 'realtime': 1999, 'xaxis': 2000, 'referencing': 2001, 'applied': 2002, 'wicket': 2003, 'automapper': 2004, 'collision': 2005, 'sometimes': 2006, 'toolbar': 2007, 'months': 2008, 'rid': 2009, 'filling': 2010, 'preprocessor': 2011, 'clipboard': 2012, 'redis': 2013, 'overflow': 2014, 'lucene': 2015, 'card': 2016, 'structures': 2017, 'nameerror': 2018, 'jlabel': 2019, 'preserve': 2020, 'dataframes': 2021, 'playing': 2022, 'celery': 2023, 'built': 2024, 'viewcontroller': 2025, '25': 2026, 'ffmpeg': 2027, 'slower': 2028, 'powershell': 2029, 'tostring': 2030, 'persist': 2031, 'regexp': 2032, 'groupby': 2033, 'requirejs': 2034, 'pc': 2035, 'dealing': 2036, '13': 2037, 'reader': 2038, 'alphanumeric': 2039, 'mocking': 2040, 'region': 2041, 'preventing': 2042, '15': 2043, 'developing': 2044, 'successful': 2045, 'escaping': 2046, 'stopped': 2047, 'expand': 2048, 'segue': 2049, 'codes': 2050, 'rmi': 2051, 'stuck': 2052, 'going': 2053, 'nan': 2054, 'mongoid': 2055, 'crm': 2056, 'callable': 2057, 'entered': 2058, 'optimization': 2059, 'passenger': 2060, 'interactive': 2061, 'alternatives': 2062, 'sms': 2063, 'dependent': 2064, 'wildcard': 2065, 'logout': 2066, 'es6': 2067, 'serializable': 2068, 'sinatra': 2069, 'angular2': 2070, 'redirection': 2071, 'minimum': 2072, 'subtract': 2073, 'immediately': 2074, 'serverside': 2075, 'styles': 2076, 'smooth': 2077, 'middle': 2078, 'builtin': 2079, 'websphere': 2080, 'mongo': 2081, 'necessary': 2082, 'triangle': 2083, 'head': 2084, 'primitive': 2085, 'ensure': 2086, 'overload': 2087, 'repeat': 2088, '12': 2089, 'ordering': 2090, 'devexpress': 2091, 'synchronous': 2092, 'has_many': 2093, 'description': 2094, 'destructor': 2095, 'odbc': 2096, 'imageview': 2097, 'expecting': 2098, 'mssql': 2099, 'comprehension': 2100, 'interval': 2101, 'exchange': 2102, 'leaflet': 2103, 'software': 2104, 'camel': 2105, 'io': 2106, 'anyone': 2107, 'onetomany': 2108, 'continue': 2109, 'locking': 2110, 'objc': 2111, 'indexes': 2112, 'maintain': 2113, 'leading': 2114, 'jinja2': 2115, 'zf2': 2116, 'notice': 2117, 'adjust': 2118, 'terminate': 2119, 'compatible': 2120, 'mask': 2121, 'construct': 2122, 'ints': 2123, 'losing': 2124, 'ie7': 2125, 'realm': 2126, 'polymorphism': 2127, 'repeating': 2128, 'lowercase': 2129, '2015': 2130, 'suitable': 2131, 'casperjs': 2132, 'tornado': 2133, 'avoiding': 2134, 'indices': 2135, 'ignored': 2136, 'overwrite': 2137, 'delegates': 2138, 'ul': 2139, 'categories': 2140, 'clone': 2141, 'questions': 2142, 'vertically': 2143, 'bars': 2144, 'webclient': 2145, 'scan': 2146, 'hosting': 2147, 'allocate': 2148, 'payment': 2149, 'pull': 2150, 'strip': 2151, 'listen': 2152, 'accessible': 2153, 'csrf': 2154, 'follow': 2155, 'css3': 2156, 'applying': 2157, 'filters': 2158, 'quote': 2159, 'weblogic': 2160, 'widgets': 2161, 'configuring': 2162, 'nonetype': 2163, 'associated': 2164, 'errno': 2165, 'kill': 2166, 'clientside': 2167, 'rendered': 2168, '14': 2169, 'e': 2170, 'handlers': 2171, 'enabling': 2172, 'divide': 2173, 'aborted': 2174, 'ad': 2175, 'universal': 2176, 'accordion': 2177, 'servlets': 2178, 'performing': 2179, 'hql': 2180, 'emacs': 2181, 'emulator': 2182, 'credentials': 2183, 'completed': 2184, 'sencha': 2185, 'decryption': 2186, 'manifest': 2187, 'websites': 2188, 'someone': 2189, 'auth': 2190, 'crud': 2191, 'starts': 2192, 'beginner': 2193, 'apple': 2194, 'delimited': 2195, 'consecutive': 2196, 'rss': 2197, 'updatepanel': 2198, 'directories': 2199, 'cuda': 2200, 'hexadecimal': 2201, 'crop': 2202, 'reporting': 2203, 'crashing': 2204, 'deep': 2205, 'styling': 2206, 'uinavigationcontroller': 2207, 'pie': 2208, 'perl': 2209, 'smaller': 2210, 'nonstatic': 2211, 'authorization': 2212, 'cxf': 2213, 'javalangnullpointerexception': 2214, 'expressjs': 2215, 'locally': 2216, 'alias': 2217, 'testng': 2218, 'sprite': 2219, 'readable': 2220, 'caused': 2221, 'jre': 2222, 'tutorials': 2223, 'windowopen': 2224, 'slice': 2225, 'plugins': 2226, 'haml': 2227, 'extends': 2228, 'ambiguous': 2229, 'registered': 2230, 'breaking': 2231, 'dimension': 2232, 'larger': 2233, 'translate': 2234, 'ror': 2235, 'log4net': 2236, 'cut': 2237, 'printer': 2238, 'fly': 2239, 'measure': 2240, 'operand': 2241, 'decoding': 2242, 'dplyr': 2243, 'explanation': 2244, '403': 2245, 'timed': 2246, 'exceeded': 2247, 'converter': 2248, '2005': 2249, 'observablecollection': 2250, 'regression': 2251, 'tracking': 2252, 'usr': 2253, 'lua': 2254, 'fullscreen': 2255, 'huge': 2256, 'rotating': 2257, 'respond': 2258, 'strategy': 2259, 'cmd': 2260, 'addresses': 2261, 'underlying': 2262, 'warnings': 2263, 'advantages': 2264, 'carrierwave': 2265, 'produce': 2266, 'displays': 2267, 'navigate': 2268, 'repeated': 2269, 'coordinate': 2270, 'role': 2271, 'standalone': 2272, 'says': 2273, 'continuous': 2274, 'superclass': 2275, 'tr': 2276, 'choice': 2277, 'keyvalue': 2278, 'subview': 2279, 'clang': 2280, 'flag': 2281, 'jms': 2282, 'virtualenv': 2283, 'stdvector': 2284, 'imported': 2285, 'dimensions': 2286, 'excluding': 2287, 'later': 2288, 'xlsx': 2289, 'placeholder': 2290, 'collapse': 2291, 'xdocument': 2292, 'duration': 2293, 'currency': 2294, 'zeros': 2295, 'others': 2296, 'quickly': 2297, 'mutex': 2298, 'commas': 2299, 'grab': 2300, 'older': 2301, 'jfreechart': 2302, 'creator': 2303, 'cms': 2304, 'grouped': 2305, 'triggering': 2306, 'ipython': 2307, 'extended': 2308, '53': 2309, 'guava': 2310, 'shift': 2311, 'attempting': 2312, 'javalangclassnotfoundexception': 2313, 'authenticated': 2314, '3rd': 2315, 'appearing': 2316, 'occurs': 2317, 'twisted': 2318, 'autolayout': 2319, 'gallery': 2320, 'h': 2321, 'reuse': 2322, 'trace': 2323, 'unity3d': 2324, 'worker': 2325, 'ndk': 2326, 'seed': 2327, 'memcached': 2328, 'compute': 2329, 'asset': 2330, 'assigned': 2331, 'corresponding': 2332, 'hierarchy': 2333, 'modelform': 2334, 'floats': 2335, 'encrypted': 2336, 'blocking': 2337, 'quick': 2338, 'priority': 2339, 'vim': 2340, 'foo': 2341, 'meta': 2342, 'v': 2343, 'joda': 2344, 'pythonic': 2345, 'orderby': 2346, 'cygwin': 2347, 'plist': 2348, 'phpini': 2349, 'uialertview': 2350, 'immutable': 2351, 'alignment': 2352, 'closest': 2353, 'shown': 2354, 'apis': 2355, 'capturing': 2356, 'hostname': 2357, 'texture': 2358, 'largest': 2359, '_get': 2360, 'explicitly': 2361, 'spinner': 2362, 'uipickerview': 2363, 'asynctask': 2364, 'lodash': 2365, 'icons': 2366, 'progressbar': 2367, 'horizontally': 2368, 'viewer': 2369, 'contained': 2370, 'bulk': 2371, 'formula': 2372, 'mootools': 2373, 'blocked': 2374, 'activeadmin': 2375, 'beautiful': 2376, '52': 2377, '400': 2378, 'origin': 2379, 'consuming': 2380, 'retain': 2381, 'representation': 2382, 'xslt': 2383, 'visibility': 2384, 'clearing': 2385, 'enough': 2386, 'signed': 2387, 'multiplication': 2388, 'deal': 2389, 'sentence': 2390, 'jndi': 2391, '#define': 2392, 'rounding': 2393, 'various': 2394, 'springboot': 2395, 'simultaneously': 2396, 'tick': 2397, 'conditionally': 2398, 'bundler': 2399, 'subdomain': 2400, 'designer': 2401, 'param': 2402, 'elasticsearch': 2403, 'nsuserdefaults': 2404, 'getter': 2405, '32bit': 2406, 'manipulate': 2407, 'keypress': 2408, 'link_to': 2409, 'synchronization': 2410, 'webpack': 2411, 'frequency': 2412, 'javalangstring': 2413, 'flow': 2414, 'domains': 2415, 'swap': 2416, 'chain': 2417, 'insertion': 2418, 'come': 2419, 'landscape': 2420, 'attempt': 2421, 'mechanize': 2422, 'router': 2423, 'protractor': 2424, 'ce': 2425, 'friends': 2426, 'persistent': 2427, 'mixed': 2428, 'polymer': 2429, 'paragraph': 2430, 'instagram': 2431, 'provided': 2432, 'parentheses': 2433, '54': 2434, 'determining': 2435, 'pymongo': 2436, 'regarding': 2437, 'idle': 2438, 'edittext': 2439, 'netty': 2440, 'ios7': 2441, 'pivot': 2442, 'let': 2443, 'combination': 2444, 'watch': 2445, 'decimals': 2446, 'rstudio': 2447, 'leaks': 2448, 'unchecked': 2449, 'jars': 2450, 'picturebox': 2451, 'keeps': 2452, 'knowing': 2453, 'linkedlist': 2454, 'firebug': 2455, 'handled': 2456, 'appengine': 2457, 'arithmetic': 2458, 'temporary': 2459, '200': 2460, 'sync': 2461, 'photos': 2462, 'installer': 2463, 'shortcut': 2464, 'codeblocks': 2465, 'htmlagilitypack': 2466, 'evaluate': 2467, 'refer': 2468, 'serve': 2469, 'truncated': 2470, 'webapp': 2471, 'downloaded': 2472, 'multiselect': 2473, 'twodimensional': 2474, 'xna': 2475, 'file_get_contents': 2476, 'cases': 2477, 'polymorphic': 2478, 'combinations': 2479, 'streams': 2480, 'dev': 2481, 'sqlstate': 2482, 'compact': 2483, 'detail': 2484, 'pressing': 2485, 'javas': 2486, 'gulp': 2487, 'flip': 2488, 'insensitive': 2489, 'countdown': 2490, 'cgi': 2491, 'win': 2492, 'javadoc': 2493, 'positioning': 2494, '2011': 2495, '41': 2496, '1000': 2497, 'period': 2498, 'ordered': 2499, 'distribution': 2500, 'xib': 2501, 'endpoint': 2502, 'mime': 2503, 'inherit': 2504, 'programs': 2505, 'away': 2506, 'history': 2507, 'levels': 2508, 'thumbnails': 2509, 'navbar': 2510, 'vm': 2511, 'sensitive': 2512, 'obj': 2513, 'codec': 2514, 'light': 2515, 'ifelse': 2516, 'disappear': 2517, 'stops': 2518, 'independent': 2519, 'integrating': 2520, 'dump': 2521, 'ends': 2522, 'phantomjs': 2523, 'draggable': 2524, 'workbook': 2525, 'communicate': 2526, 'creates': 2527, 'gzip': 2528, 'elastic': 2529, 'paging': 2530, 'bold': 2531, 'edge': 2532, 'jsonp': 2533, 'formats': 2534, 'composite': 2535, 'dlls': 2536, 'pyqt4': 2537, 'commit': 2538, 'linkedin': 2539, 'boostasio': 2540, 'implements': 2541, 'menus': 2542, 'imap': 2543, 'tried': 2544, 'frontend': 2545, 'allowing': 2546, 'intellisense': 2547, 'mapped': 2548, 'sources': 2549, 'odata': 2550, 'vs2010': 2551, 'safety': 2552, 'ember': 2553, 'classnotfoundexception': 2554, 'jsonparse': 2555, 'momentjs': 2556, '21': 2557, 'checkout': 2558, 'jasper': 2559, 'synchronized': 2560, 'cpp': 2561, 'redirects': 2562, 'jump': 2563, 'nomethoderror': 2564, 'enumeration': 2565, 'recommended': 2566, 'deadlock': 2567, 'limited': 2568, 'features': 2569, 'graphs': 2570, 'cluster': 2571, 'assertion': 2572, 'hard': 2573, 'consume': 2574, 'power': 2575, 'macros': 2576, 'supports': 2577, 'posted': 2578, 'resharper': 2579, 'listeners': 2580, 'webkit': 2581, 'identical': 2582, 'concatenation': 2583, 'preparedstatement': 2584, 'opens': 2585, 'nearest': 2586, 'directives': 2587, 'embedding': 2588, 'longest': 2589, 'gps': 2590, 'channel': 2591, 'cython': 2592, 'functional': 2593, 'pthread': 2594, 'jsonarray': 2595, 'jsonobject': 2596, 'animations': 2597, 'globally': 2598, 'accessed': 2599, 'locked': 2600, 'thing': 2601, 'python3': 2602, 'authenticate': 2603, 'hashing': 2604, '18': 2605, 'ratio': 2606, 'fluent': 2607, 'increasing': 2608, 'outputting': 2609, 'grails': 2610, 'successfully': 2611, 'manual': 2612, 'winrt': 2613, 'handshake': 2614, 'advanced': 2615, 'jade': 2616, 'parents': 2617, 'populated': 2618, 'uninstall': 2619, 'indexing': 2620, 'onto': 2621, 'i18n': 2622, 'afnetworking': 2623, 'fileupload': 2624, 'publish': 2625, 'differently': 2626, 'overloaded': 2627, 'intent': 2628, 'english': 2629, 'anaconda': 2630, 'mat': 2631, 'preserving': 2632, 'yet': 2633, 'threaded': 2634, 'sublime': 2635, 'fires': 2636, '22': 2637, 'attached': 2638, 'raphael': 2639, 'alpha': 2640, 'rails3': 2641, 'sleep': 2642, 'arent': 2643, 'unused': 2644, 'responsive': 2645, 'might': 2646, 'gd': 2647, 'represent': 2648, 'shadow': 2649, 'compress': 2650, 'trim': 2651, 'customer': 2652, 'schedule': 2653, 'memcache': 2654, 'collect': 2655, 'alphabetically': 2656, 'uppercase': 2657, 'backup': 2658, 'invocation': 2659, 'hosted': 2660, 'sprintf': 2661, 'serving': 2662, 'typed': 2663, 'el': 2664, 'imagemagick': 2665, 'concurrency': 2666, 'incomplete': 2667, 'ascending': 2668, 'lower': 2669, 'v2': 2670, 'customizing': 2671, 'select2': 2672, 'uwp': 2673, 'nth': 2674, 'forbidden': 2675, 'unavailable': 2676, 'iso': 2677, 'webinf': 2678, 'nullable': 2679, 'lion': 2680, 'appropriate': 2681, 'localization': 2682, 'configured': 2683, 'djangos': 2684, 'alamofire': 2685, 'javasqlsqlexception': 2686, 'bits': 2687, 'delimiter': 2688, 'roles': 2689, 'rounded': 2690, 'urllib2': 2691, 'soup': 2692, 'factor': 2693, 'maintaining': 2694, 'containers': 2695, 'guid': 2696, 'scrollview': 2697, 'markdown': 2698, 'cocos2d': 2699, 'kivy': 2700, 'thymeleaf': 2701, 'jquerys': 2702, 'iterators': 2703, 'clock': 2704, 'producing': 2705, 'prime': 2706, 'notify': 2707, 'sizes': 2708, 'rate': 2709, 'injecting': 2710, 'textblock': 2711, 'margin': 2712, 'stdmap': 2713, 'ienumerablet': 2714, 'consolelog': 2715, 'mysqldb': 2716, 'yyyymmdd': 2717, 'bubble': 2718, 'javamail': 2719, 'launching': 2720, 'wall': 2721, 'unittest': 2722, 'linqtosql': 2723, 'mq': 2724, 'fragments': 2725, 'multithread': 2726, 'scrape': 2727, 'listing': 2728, 'sections': 2729, 'imports': 2730, 'cs': 2731, 'messagebox': 2732, 'docker': 2733, 'vc++': 2734, 'websockets': 2735, 'mkmapview': 2736, 'foundation': 2737, 'locations': 2738, 'entityframework': 2739, 'matrices': 2740, 'tokens': 2741, 'subclassing': 2742, 'slideshow': 2743, 'turning': 2744, 'concatenating': 2745, 'lightweight': 2746, 'gcm': 2747, 'joining': 2748, 'agility': 2749, '_server': 2750, 'x64': 2751, 'trycatch': 2752, 'suppress': 2753, 'xp': 2754, 'renaming': 2755, 'invoked': 2756, 'unmanaged': 2757, 'temporarily': 2758, 'mapreduce': 2759, 'guice': 2760, 'scene': 2761, 'friendly': 2762, 'leave': 2763, 'igniter': 2764, 'dragging': 2765, 'solr': 2766, 'forcing': 2767, 'greasemonkey': 2768, 'mailer': 2769, 'versa': 2770, 'joins': 2771, 'smallest': 2772, 'people': 2773, 'begin': 2774, 'persistence': 2775, 'supplied': 2776, 'retrieved': 2777, 'eof': 2778, 'improve': 2779, 'belongs_to': 2780, 'entering': 2781, 'fully': 2782, 'accesscontrolalloworigin': 2783, 'retrofit': 2784, 'documentgetelementbyid': 2785, 'safely': 2786, 'kind': 2787, 'gc': 2788, 'dispatcher': 2789, 'shapes': 2790, 'npm': 2791, 'didnt': 2792, 'listening': 2793, 'migrating': 2794, 'yaxis': 2795, 'uncheck': 2796, 'optimizing': 2797, 'stay': 2798, 'prepare': 2799, 'logs': 2800, 'deleted': 2801, 'panels': 2802, 'xxx': 2803, 'underscorejs': 2804, 'autofac': 2805, 'deployed': 2806, 'coredata': 2807, 'layers': 2808, 'despite': 2809, 'oledb': 2810, 'bufferedreader': 2811, 'uploads': 2812, 'redux': 2813, 'depth': 2814, 'complexity': 2815, 'webrtc': 2816, 'iframes': 2817, 'minute': 2818, 'aspect': 2819, 'decorator': 2820, 'gateway': 2821, 'recaptcha': 2822, 'monitoring': 2823, 'positions': 2824, 'pyspark': 2825, 'unexpectedly': 2826, 'grunt': 2827, 'choices': 2828, 'allows': 2829, 'flatten': 2830, 'session_start': 2831, 'centos': 2832, 'indexof': 2833, 'near': 2834, 'webgl': 2835, 'httpurlconnection': 2836, 'commandline': 2837, 'pipeline': 2838, 'resume': 2839, 'bitwise': 2840, 'vuejs': 2841, 'classname': 2842, 'keydown': 2843, 'vice': 2844, 'hierarchical': 2845, 'fabricjs': 2846, 'formdata': 2847, 'github': 2848, 'nltk': 2849, 'conflict': 2850, 'unauthorized': 2851, 'std': 2852, 'jetty': 2853, 'stacked': 2854, 'tap': 2855, 'city': 2856, 'spacing': 2857, 'highest': 2858, 'volume': 2859, 'clickonce': 2860, '2007': 2861, 'generates': 2862, 'quartz': 2863, 'javalangoutofmemoryerror': 2864, 'swf': 2865, 'office': 2866, 'rdlc': 2867, 'crawler': 2868, 'subviews': 2869, 'zooming': 2870, 'interpreter': 2871, 'persisting': 2872, 'eager': 2873, 'beanstalk': 2874, 'ngclick': 2875, 'achieve': 2876, 'liferay': 2877, 'leaving': 2878, 'overlapping': 2879, 'descending': 2880, 'instantiated': 2881, 'automated': 2882, 'convention': 2883, 'jobs': 2884, 'undeclared': 2885, 'xss': 2886, 'compatibility': 2887, 'caught': 2888, 'lots': 2889, 'scalar': 2890, 'evaluating': 2891, 'asmx': 2892, 'effects': 2893, 'automation': 2894, 'blur': 2895, 'ec2': 2896, 'wp7': 2897, 'coming': 2898, 'javautildate': 2899, 'low': 2900, 'val': 2901, '33': 2902, 'accepting': 2903, 'webservices': 2904, 'httppost': 2905, 'crossplatform': 2906, 'angle': 2907, 'confused': 2908, 'means': 2909, 'gradient': 2910, 'mixing': 2911, 'computing': 2912, 'qml': 2913, 'gesture': 2914, 'barplot': 2915, 'javascripts': 2916, 'upgrading': 2917, 'hold': 2918, 'pooling': 2919, 'sites': 2920, 'computers': 2921, 'subfolder': 2922, 'limiting': 2923, 'getelementbyid': 2924, 'terminating': 2925, 'limits': 2926, 'serialized': 2927, 'mod_rewrite': 2928, '61': 2929, 'interview': 2930, 'threadpool': 2931, 'yaml': 2932, 'terminated': 2933, 'recent': 2934, 'broadcast': 2935, 'bypass': 2936, 'pointing': 2937, 'nilnilclass': 2938, 'actionlistener': 2939, '60': 2940, '2nd': 2941, 'indexphp': 2942, 'ternary': 2943, 'recognition': 2944, 'scheduled': 2945, 'develop': 2946, 'gif': 2947, 'till': 2948, 'corrupted': 2949, 'procedures': 2950, 'backing': 2951, 'spec': 2952, 'jscrollpane': 2953, 'builds': 2954, 'onmouseover': 2955, 'typing': 2956, 'colon': 2957, 'finally': 2958, 'wmi': 2959, 'directx': 2960, 'years': 2961, 'closures': 2962, 'scatter': 2963, 'business': 2964, 'encrypting': 2965, 'queues': 2966, 'since': 2967, 'star': 2968, 'logical': 2969, 'book': 2970, 'modifier': 2971, 'reorder': 2972, 'ever': 2973, 'material': 2974, 'direction': 2975, 'msbuild': 2976, 'ranges': 2977, 'stringformat': 2978, 'pm': 2979, 'radiobutton': 2980, 'clr': 2981, 'whose': 2982, 'getjson': 2983, 'animating': 2984, 'loader': 2985, 'z': 2986, 'cached': 2987, 'scheduler': 2988, 'packets': 2989, 'ref': 2990, 'surface': 2991, 'rollback': 2992, 'payload': 2993, 'stylesheet': 2994, 'advice': 2995, 'registering': 2996, '2x': 2997, 'rich': 2998, 'pomxml': 2999, '401': 3000, 'instantiation': 3001, 'fb': 3002, 'indentation': 3003, 'nullreferenceexception': 3004, 'passwords': 3005, 'reached': 3006, 'drawn': 3007, 'diff': 3008, 'higher': 3009, 'stopping': 3010, 'httpget': 3011, 'winapi': 3012, 'doubles': 3013, 'delphi': 3014, 'ports': 3015, 'escaped': 3016, 'encountered': 3017, 'languages': 3018, 'ending': 3019, 'closes': 3020, 'serializer': 3021, 'webserver': 3022, 'managepy': 3023, 'thats': 3024, 'phpfpm': 3025, 'minus': 3026, 'bring': 3027, 'equation': 3028, 'xls': 3029, 'freeze': 3030, 'four': 3031, 'division': 3032, 'incoming': 3033, 'freezes': 3034, 'parsed': 3035, 'benefits': 3036, 'subscript': 3037, 'jumping': 3038, 'jython': 3039, 'restore': 3040, 'keywords': 3041, 'foreignkey': 3042, 'opacity': 3043, 'animated': 3044, 'nstimer': 3045, 'archive': 3046, 'gae': 3047, 'indicator': 3048, 'sliding': 3049, 'expire': 3050, 'dots': 3051, 'hbase': 3052, 'newlines': 3053, 'dbcontext': 3054, 'addition': 3055, 'smarty': 3056, 'pthreads': 3057, 'membership': 3058, 'alive': 3059, 'classic': 3060, 'databind': 3061, 'stand': 3062, 'beta': 3063, 'peer': 3064, 'entitymanager': 3065, 'workaround': 3066, 'braces': 3067, 'dash': 3068, 'dismiss': 3069, '23': 3070, 'paint': 3071, 'goes': 3072, 'hang': 3073, 'fonts': 3074, 'karma': 3075, 'resizable': 3076, 'svn': 3077, 'followed': 3078, 'ibm': 3079, 'indent': 3080, 'processed': 3081, 'dns': 3082, 'hit': 3083, 'javalangillegalstateexception': 3084, '34': 3085, 'filled': 3086, 'elapsed': 3087, 'datacontext': 3088, 'choosing': 3089, 'databound': 3090, 'ie11': 3091, '193': 3092, 'scripting': 3093, 'easily': 3094, 'parameterized': 3095, 'intersection': 3096, 'ngmodel': 3097, 'triggers': 3098, 'owin': 3099, 'conventions': 3100, 'shopping': 3101, 'mocha': 3102, 'org': 3103, 'marks': 3104, 'human': 3105, 'powerpoint': 3106, 'alphabetical': 3107, 'migrate': 3108, 'coverage': 3109, 'consumer': 3110, 'dialogs': 3111, 'pushing': 3112, 'attr': 3113, 'happen': 3114, 'openlayers': 3115, 'dropbox': 3116, 'protobuf': 3117, 'toolkit': 3118, 'training': 3119, '1d': 3120, '302': 3121, 'states': 3122, 'equality': 3123, 'steps': 3124, 'utility': 3125, 'loaderror': 3126, 'selectors': 3127, 'writer': 3128, 'truncate': 3129, 'incrementing': 3130, 'useful': 3131, 'explode': 3132, 'protect': 3133, '000': 3134, 'wildcards': 3135, 'formatter': 3136, 'na': 3137, 'disappears': 3138, 'webmethod': 3139, 'answer': 3140, 'score': 3141, 'runnable': 3142, 'valgrind': 3143, 'today': 3144, 'synchronize': 3145, 'infowindow': 3146, 'sass': 3147, 'jqueryui': 3148, 'mod_wsgi': 3149, 'jqueryajax': 3150, 'sessionfactory': 3151, 'tls': 3152, 'sequences': 3153, 'responding': 3154, 'specifically': 3155, 'g': 3156, 'scheme': 3157, 'removed': 3158, 'newly': 3159, 'considered': 3160, 'applicable': 3161, 'specifier': 3162, 'guide': 3163, 'axes': 3164, 'quit': 3165, '26': 3166, 'stripe': 3167, 'iis7': 3168, 'ff': 3169, 'cocoapods': 3170, 'hitting': 3171, 'cloning': 3172, 'ilist': 3173, 'xamarinforms': 3174, 'springmvc': 3175, 'statistics': 3176, 'submitted': 3177, 'recommend': 3178, 'stringbuilder': 3179, 'efficiency': 3180, 't_string': 3181, 'responses': 3182, 'duplicated': 3183, 'javalangillegalargumentexception': 3184, 'destination': 3185, 'certificates': 3186, '1st': 3187, 'literals': 3188, 'ssis': 3189, 'vba': 3190, 'calculations': 3191, 'cons': 3192, '#include': 3193, 'gtk': 3194, 'telerik': 3195, 'preferred': 3196, 'asio': 3197, 'future': 3198, 'browse': 3199, 'translation': 3200, 'clustering': 3201, 'shutdown': 3202, 'handlebars': 3203, 'quiz': 3204, 'ipn': 3205, 'worksheet': 3206, 'linkbutton': 3207, 'parsecom': 3208, 'suite': 3209, 'maximize': 3210, 'axis2': 3211, 'disadvantages': 3212, '3x': 3213, 'avplayer': 3214, 'apostrophe': 3215, 'javalangclasscastexception': 3216, 'javaioioexception': 3217, 'concat': 3218, 'physical': 3219, 'sparse': 3220, 'pictures': 3221, 'music': 3222, 'mysql_fetch_array': 3223, 'traversal': 3224, 'umbraco': 3225, 'masterpage': 3226, 'json_decode': 3227, 'unless': 3228, 'social': 3229, 'conflicting': 3230, 'remotely': 3231, 'datastore': 3232, 'desired': 3233, 'dollar': 3234, 'dispose': 3235, 'downloads': 3236, 'uirouter': 3237, 'memorystream': 3238, 'scenario': 3239, 'bucket': 3240, 'segment': 3241, 'mpi': 3242, 'anchors': 3243, 'interpreted': 3244, 'restkit': 3245, 'es': 3246, 'datetimepicker': 3247, 'appended': 3248, 'corners': 3249, 'matched': 3250, 'stretch': 3251, 'acceptable': 3252, 'h2': 3253, 'connector': 3254, '43': 3255, 'artifact': 3256, 'typefile': 3257, 'magic': 3258, 'uitableviewcells': 3259, 'manytoone': 3260, 'gone': 3261, 'underscores': 3262, 'produces': 3263, 'recognizing': 3264, 'continuously': 3265, 'customized': 3266, 'filenames': 3267, 'weeks': 3268, 'occured': 3269, 'ask': 3270, 'evaluation': 3271, 'writes': 3272, 'arabic': 3273, 'packet': 3274, 'benefit': 3275, 'kit': 3276, 'fscanf': 3277, 'pipes': 3278, 'cipher': 3279, 'overwriting': 3280, 'mvc5': 3281, 'wifi': 3282, 'marked': 3283, 'associations': 3284, 'mpmovieplayercontroller': 3285, 'kafka': 3286, 'verification': 3287, 'modern': 3288, 'doxygen': 3289, 'controlling': 3290, 'ext': 3291, 'reliable': 3292, 'scikitlearn': 3293, 'incorrectly': 3294, 'abort': 3295, 'modification': 3296, 'initializers': 3297, 'assert': 3298, 'doctrine2': 3299, 'classs': 3300, 'designing': 3301, 'ago': 3302, 'ive': 3303, 'bracket': 3304, '55': 3305, 'geolocation': 3306, 'datatemplate': 3307, 'descriptor': 3308, 'scopes': 3309, 'db2': 3310, 'manipulating': 3311, 'degrees': 3312, 'scrollable': 3313, 'exited': 3314, 'portable': 3315, 'charset': 3316, 'classloader': 3317, 'foreground': 3318, 'automate': 3319, 'sheets': 3320, 'nio': 3321, '80': 3322, 'sonar': 3323, 'reasons': 3324, 'servicestack': 3325, 'obtaining': 3326, 'openerp': 3327, 'instantiating': 3328, 'systems': 3329, 'ones': 3330, 'seperate': 3331, 'strict': 3332, 'suffix': 3333, 'compression': 3334, '2003': 3335, 'traffic': 3336, 'extern': 3337, 'unicodeencodeerror': 3338, 'pin': 3339, 'overrides': 3340, 'invisible': 3341, 'thousand': 3342, 'mysql_query': 3343, 'declarations': 3344, 'past': 3345, 'bot': 3346, 'suggestions': 3347, 'slicing': 3348, 'unwanted': 3349, 'knitr': 3350, 'resolving': 3351, 'accuracy': 3352, 'arraylists': 3353, 'managing': 3354, 'advantage': 3355, 'indexed': 3356, 'uisearchbar': 3357, 'alternate': 3358, 'decrypting': 3359, 'pydev': 3360, 'conflicts': 3361, 'remember': 3362, 'rand': 3363, 'helpers': 3364, 'multilevel': 3365, '42': 3366, 'upper': 3367, 'proguard': 3368, 'corner': 3369, 'compilers': 3370, 'phpstorm': 3371, 'nsurlconnection': 3372, 'interaction': 3373, 'keyup': 3374, 'executes': 3375, 'epoch': 3376, 'pyside': 3377, '_session': 3378, 'xsl': 3379, 'unload': 3380, 'listobject': 3381, 'expired': 3382, 'located': 3383, 'gdi+': 3384, 'analysis': 3385, 'j2me': 3386, 'annotated': 3387, 'interrupt': 3388, 'radius': 3389, 'visualization': 3390, 'wrapped': 3391, 'suddenly': 3392, 'isset': 3393, 'slashes': 3394, 'electron': 3395, 'simple_form': 3396, 'dealloc': 3397, 'intercept': 3398, 'autowired': 3399, 'summary': 3400, 'comes': 3401, 'varchar': 3402, 'py': 3403, '405': 3404, 'noclassdeffounderror': 3405, 'calayer': 3406, 'xmlserializer': 3407, 'percent': 3408, 'sender': 3409, 'definitions': 3410, 'segfault': 3411, 'grey': 3412, 'inheriting': 3413, 'respect': 3414, 'typedef': 3415, 'localized': 3416, 'highchart': 3417, 'k': 3418, 'lat': 3419, 'wildfly': 3420, 'effective': 3421, 'indexhtml': 3422, 'chaining': 3423, 'pros': 3424, 'f': 3425, 'pulling': 3426, 'inserts': 3427, 'zindex': 3428, 'php5': 3429, 'offline': 3430, 'reusing': 3431, 'newbie': 3432, 'webforms': 3433, 'us': 3434, 'little': 3435, 'semicolon': 3436, 'tail': 3437, 'flush': 3438, 'red': 3439, 'looks': 3440, 'hive': 3441, 'mp4': 3442, '_': 3443, 'printed': 3444, 'promises': 3445, 'pojo': 3446, 'placed': 3447, 'xelement': 3448, 'interpolation': 3449, 'tmp': 3450, 'connectionstring': 3451, 'rectangles': 3452, 'boundary': 3453, 'iqueryable': 3454, 'splash': 3455, 'curly': 3456, 'resized': 3457, 'vs2008': 3458, 'operands': 3459, 'beyond': 3460, 'malformed': 3461, 'mix': 3462, 'internally': 3463, 'remaining': 3464, 'activemq': 3465, 'mamp': 3466, 'chunk': 3467, 'computed': 3468, 'posix': 3469, 'threw': 3470, 'transient': 3471, 'ignores': 3472, 'refactoring': 3473, 'unicodedecodeerror': 3474, 'construction': 3475, 'backslash': 3476, 'focused': 3477, 'pom': 3478, 'erase': 3479, 'simply': 3480, 'specification': 3481, 'subdomains': 3482, 'mdb': 3483, 'establish': 3484, 'overhead': 3485, '_files': 3486, 'activation': 3487, 'tabbar': 3488, 'techniques': 3489, 'pick': 3490, 'contexts': 3491, 'expose': 3492, 'oriented': 3493, 'uinavigationbar': 3494, 'fopen': 3495, 'released': 3496, 'prestashop': 3497, 'hdfs': 3498, 'density': 3499, 'redraw': 3500, 'exercise': 3501, 'previously': 3502, 'processstart': 3503, 'profiling': 3504, 'yield': 3505, 'japanese': 3506, 'restarting': 3507, 'timestamps': 3508, '__init__': 3509, 'popover': 3510, 'curve': 3511, 'minimize': 3512, 'ticks': 3513, 'rabbitmq': 3514, 'crossbrowser': 3515, 'assemblies': 3516, 'crossdomain': 3517, 'ansi': 3518, 'gmt': 3519, 'j2ee': 3520, 'timeline': 3521, 'cycle': 3522, 'todays': 3523, 'salesforce': 3524, 'caller': 3525, 'jmeter': 3526, 'geocoding': 3527, 'overlap': 3528, 'imagefield': 3529, 'rolling': 3530, 'activex': 3531, 'hy000': 3532, 'movie': 3533, 'xmlreader': 3534, 'nesting': 3535, 'mass': 3536, 'seo': 3537, 'javac': 3538, 'aligned': 3539, 'existence': 3540, 'sidebar': 3541, 'integral': 3542, 'traverse': 3543, 'transformation': 3544, 'scrolled': 3545, 'solutions': 3546, 'seen': 3547, 'tips': 3548, 'textfile': 3549, 'msvc': 3550, 'integrity': 3551, 'quality': 3552, 'unordered': 3553, 'windowlocation': 3554, 'googles': 3555, 'visitors': 3556, 'chinese': 3557, 'rewriting': 3558, '19': 3559, 'migrations': 3560, 'flat': 3561, 'anyway': 3562, 'redirected': 3563, 'contenttype': 3564, 'sized': 3565, 'nsinvalidargumentexception': 3566, 'fadein': 3567, 'x86_64': 3568, 'messaging': 3569, 'spritekit': 3570, 'term': 3571, 'tile': 3572, 'vs2012': 3573, 'representing': 3574, 'degree': 3575, 'hhmmss': 3576, 'ioexception': 3577, 'uploader': 3578, 'permutations': 3579, 'movement': 3580, 'subprocesspopen': 3581, 'apk': 3582, 'actionscript': 3583, 'implementations': 3584, 'algorithms': 3585, 'scaling': 3586, 'correlation': 3587, 'supposed': 3588, 'systemstring': 3589, 'imshow': 3590, 'recording': 3591, 'separately': 3592, 'viewport': 3593, 'vsto': 3594, 'accurate': 3595, 'ninject': 3596, 'supporting': 3597, 'itemssource': 3598, 'transactional': 3599, 'optimized': 3600, 'culture': 3601, 'env': 3602, 'opencl': 3603, 'docx': 3604, 'storyboards': 3605, 'onetoone': 3606, 'bidirectional': 3607, 'args': 3608, 'paper': 3609, 'substrings': 3610, 'inconsistent': 3611, 'overridden': 3612, 'preference': 3613, 'ocr': 3614, 'stdset': 3615, 'flexible': 3616, 'girl': 3617, 'factorygirl': 3618, 'vbscript': 3619, 'carriage': 3620, 'scientific': 3621, 'raising': 3622, 'forloop': 3623, 'predicate': 3624, 'simultaneous': 3625, 'forever': 3626, 'requiring': 3627, 'resetting': 3628, 'expensive': 3629, 'borders': 3630, 'int32': 3631, 'hanging': 3632, 'predefined': 3633, 'lambdas': 3634, 'navigating': 3635, 'xhtml': 3636, 'mapkit': 3637, 'x86': 3638, 'punctuation': 3639, 'observe': 3640, 'signals': 3641, 'loses': 3642, 'edition': 3643, 'periodically': 3644, 'transport': 3645, 'wav': 3646, 'writable': 3647, 'think': 3648, 'placement': 3649, 'nspredicate': 3650, 'polyline': 3651, 'anyobject': 3652, 'welcome': 3653, 'mathematical': 3654, 'sdl': 3655, 'markup': 3656, 'sends': 3657, 'neural': 3658, 'processor': 3659, 'flags': 3660, 'openshift': 3661, 'demo': 3662, 'sqlcommand': 3663, 'autowire': 3664, 'gb': 3665, 'volley': 3666, 'webcam': 3667, 'textures': 3668, 'nonblocking': 3669, 'cake': 3670, 'taskbar': 3671, 'argumenterror': 3672, 'ios5': 3673, 'javalangnosuchmethoderror': 3674, 'jscript': 3675, 'selects': 3676, 'osgi': 3677, 'mechanism': 3678, 'debian': 3679, 'randomize': 3680, 'retry': 3681, 'facet': 3682, 'digital': 3683, 'jasperreports': 3684, 'wp8': 3685, 'alphabet': 3686, 'uiimagepickercontroller': 3687, 'nib': 3688, 'ssrs': 3689, 'handles': 3690, 'hyphen': 3691, 'combined': 3692, 'intended': 3693, 'subplots': 3694, 'collector': 3695, 'outofmemoryerror': 3696, 'stub': 3697, 'dao': 3698, 'availability': 3699, 'presence': 3700, 'djangorestframework': 3701, 'credit': 3702, 'dirty': 3703, 'policy': 3704, 'varying': 3705, 'aka': 3706, 'associate': 3707, 'samples': 3708, 'jodatime': 3709, 'subfolders': 3710, 'things': 3711, 'transparency': 3712, 'workflow': 3713, 'numerical': 3714, 'vagrant': 3715, 'dynamodb': 3716, 'highlighted': 3717, 'constantly': 3718, 'secret': 3719, 'ddmmyyyy': 3720, 'hack': 3721, 'transpose': 3722, 'accepts': 3723, 'cocos2dx': 3724, 'mainwindow': 3725, '2dimensional': 3726, 'raised': 3727, 'speech': 3728, 'workspace': 3729, 'contacts': 3730, 'windowprint': 3731, 'categorical': 3732, 'uitableviewcontroller': 3733, 'neither': 3734, 'pdfs': 3735, 'addin': 3736, 'news': 3737, 'sqlexception': 3738, 'xy': 3739, '128': 3740, 'age': 3741, 'cards': 3742, 'translating': 3743, 'unserialize': 3744, 'adobe': 3745, 'ram': 3746, 'raphaeljs': 3747, 'wxwidgets': 3748, 'album': 3749, 'subclasses': 3750, 'driven': 3751, 'dispatch': 3752, 'marshalling': 3753, 'attaching': 3754, 'mb': 3755, 'ampersand': 3756, 'simulation': 3757, 'depends': 3758, 'possibly': 3759, 'taken': 3760, 'alone': 3761, 'attack': 3762, 'unbind': 3763, 'webform': 3764, 'preferences': 3765, 'notepad++': 3766, 'middleware': 3767, 'sequentially': 3768, 'placeholders': 3769, 'datalist': 3770, 'holding': 3771, 'nonascii': 3772, 'xmlelement': 3773, 'exc_bad_access': 3774, 'delimiters': 3775, 'chosen': 3776, 'arrows': 3777, 'dbmigrate': 3778, 'asterisk': 3779, 'classcastexception': 3780, 'board': 3781, 'viewing': 3782, 'presses': 3783, 'hashcode': 3784, 'configurable': 3785, 'ideas': 3786, 'tweet': 3787, 'subquery': 3788, 'breakpoint': 3789, 'amounts': 3790, 'subdirectory': 3791, 'alertdialog': 3792, 'polling': 3793, 'jwt': 3794, 'significant': 3795, 'calculated': 3796, 'richfaces': 3797, 'ld': 3798, 'cin': 3799, 'freed': 3800, 'reducing': 3801, 'mappings': 3802, 'pid': 3803, 'breakpoints': 3804, 'az': 3805, 'drawer': 3806, 'guessing': 3807, 'jsonstringify': 3808, 'chunks': 3809, 'dictionarystring': 3810, 'serialport': 3811, 'downgrade': 3812, 'awt': 3813, 'se': 3814, 'partially': 3815, 'scrollbars': 3816, 'effectively': 3817, 'requirements': 3818, 'hardware': 3819, 'webpages': 3820, 'atomic': 3821, 'systemnullreferenceexception': 3822, 'compared': 3823, 'layouts': 3824, 'sortable': 3825, 'ioc': 3826, 'hides': 3827, 'hresult': 3828, 'setters': 3829, 'checkboxlist': 3830, 'mod': 3831, 'although': 3832, 'targets': 3833, 'datarow': 3834, 'asking': 3835, 'ef6': 3836, 'enclosing': 3837, 'deletion': 3838, 'cassandra': 3839, 'ci': 3840, 'xhr': 3841, 'gemfile': 3842, 'subtracting': 3843, 'hovering': 3844, 'homebrew': 3845, 'contextmenu': 3846, 'redirect_to': 3847, 'wants': 3848, 'eclipselink': 3849, 'thousands': 3850, 'grayscale': 3851, 'unsafe': 3852, 'solved': 3853, 'emulate': 3854, 'unset': 3855, 'nuget': 3856, 'leaves': 3857, 'xmpp': 3858, 'qstring': 3859, 'vertex': 3860, 'pad': 3861, 'pi': 3862, 'reversing': 3863, 'viewbag': 3864, 'legacy': 3865, 'pre': 3866, 'feeds': 3867, '90': 3868, 'rank': 3869, 'portion': 3870, 'javanetsocketexception': 3871, 'pdoexception': 3872, 'readline': 3873, 'timespan': 3874, 'frequent': 3875, 'homepage': 3876, 'arm': 3877, 'tooltips': 3878, 'contenteditable': 3879, 'uicollectionviewcell': 3880, 'sailsjs': 3881, 'finishes': 3882, 'disconnect': 3883, 'marshal': 3884, 'svm': 3885, 'trap': 3886, 'official': 3887, 'loss': 3888, 'admob': 3889, 'sequential': 3890, 'releasing': 3891, 'perfect': 3892, 'gstreamer': 3893, 'diagonal': 3894, 'natural': 3895, 'regardless': 3896, 'threadsleep': 3897, 'addeventlistener': 3898, 'stringsplit': 3899, 'onclicklistener': 3900, 'receiver': 3901, 'soft': 3902, 'buffers': 3903, 'nice': 3904, 'argv': 3905, 'mysql2': 3906, 'windowonload': 3907, 'masked': 3908, 'nonzero': 3909, 'immediate': 3910, 'relational': 3911, 'shouldnt': 3912, 'activate': 3913, 'affect': 3914, '1204': 3915, 'platforms': 3916, 'findall': 3917, 'hot': 3918, '192': 3919, 'leopard': 3920, 'drawrect': 3921, 'httpresponse': 3922, 'daemon': 3923, 'discrete': 3924, 'stock': 3925, 'collectionview': 3926, 'ipaddress': 3927, 'emit': 3928, 'usable': 3929, 'swagger': 3930, 'environments': 3931, 'smoothly': 3932, 'pretty': 3933, 'templated': 3934, 'alter': 3935, 'validations': 3936, 'nsdateformatter': 3937, 'wp': 3938, 'suspend': 3939, 'titles': 3940, 'prev': 3941, 'removal': 3942, 'vnext': 3943, 'underline': 3944, 'stackoverflow': 3945, 'act': 3946, 'expect': 3947, 'payments': 3948, 'margins': 3949, 'latex': 3950, 'filesystem': 3951, 'activities': 3952, 'lose': 3953, 'mysqli_query': 3954, 'greek': 3955, 'cpanel': 3956, 'qtcreator': 3957, 'filtered': 3958, 'actively': 3959, 'iterable': 3960, 'multiplying': 3961, 'remain': 3962, 'rubygems': 3963, 'fake': 3964, 'subscribe': 3965, 'identifying': 3966, 'scrolltop': 3967, 'docs': 3968, 'sqlconnection': 3969, 'ppt': 3970, 'disappearing': 3971, '256': 3972, 'elementwise': 3973, 'pyplot': 3974, 'mutable': 3975, 'concept': 3976, 't_variable': 3977, 'pending': 3978, 'observer': 3979, 'reflect': 3980, 'subject': 3981, 'annotate': 3982, 'submenu': 3983, 'directions': 3984, 'aop': 3985, 'consumption': 3986, 'flex': 3987, 'sunday': 3988, 'outline': 3989, 'timeseries': 3990, 'cout': 3991, 'opensource': 3992, 'reply': 3993, 'shortest': 3994, 'operating': 3995, 'decrement': 3996, 'func': 3997, 'spider': 3998, 'sense': 3999, 'circles': 4000, 'license': 4001, 'clojure': 4002, 'anymore': 4003, 'flasksqlalchemy': 4004, 'windsor': 4005, 'fallback': 4006, 'invalidate': 4007, 'administrator': 4008, 'lang': 4009, 'childs': 4010, 'meteorjs': 4011, 'userdefined': 4012, 'reactnative': 4013, 'stanford': 4014, 'outputstream': 4015, 'separating': 4016, 'logon': 4017, 'turned': 4018, 'recyclerview': 4019, '#2': 4020, 'asm': 4021, 'weak': 4022, 'adds': 4023, 'wizard': 4024, 'tpl': 4025, '09': 4026, 'bat': 4027, 'inflating': 4028, 'expanding': 4029, 'pthread_create': 4030, 'interact': 4031, 'glsl': 4032, 'sizeof': 4033, 'crossorigin': 4034, 'itemtemplate': 4035, 'colored': 4036, 'factors': 4037, 'blog': 4038, 'outputs': 4039, 'locks': 4040, 'captured': 4041, 'copied': 4042, 'nsobject': 4043, 'snake': 4044, 'mysql_connect': 4045, 'disposed': 4046, 'lvalue': 4047, 'linearlayout': 4048, 'thirdparty': 4049, 'friend': 4050, 'amp': 4051, 'occur': 4052, 'accepted': 4053, 'producer': 4054, 'chromedriver': 4055, 'happening': 4056, 'httpservletrequest': 4057, 'indexerror': 4058, 'rejected': 4059, 'subdirectories': 4060, 'doubly': 4061, 'getters': 4062, 'five': 4063, 'acquire': 4064, 'blackberry': 4065, 'serversocket': 4066, 'openxml': 4067, 'internationalization': 4068, 'nsurl': 4069, 'rcp': 4070, 'temp': 4071, 'onsubmit': 4072, 'accessor': 4073, 'interest': 4074, 'permitted': 4075, 'sandbox': 4076, 'gray': 4077, 'probability': 4078, 'grammar': 4079, 'sibling': 4080, '__getitem__': 4081, 'timeouts': 4082, 'crontab': 4083, 'distinguish': 4084, 'fan': 4085, 'becomes': 4086, 'lot': 4087, 'acting': 4088, 'wheel': 4089, 'detached': 4090, 'appium': 4091, '16bit': 4092, 'hub': 4093, 'backgroundimage': 4094, 'capitalize': 4095, 'unfortunately': 4096, 'affected': 4097, 'cropping': 4098, 'wide': 4099, 'secured': 4100, 'showdialog': 4101, 'discover': 4102, 'straight': 4103, 'backspace': 4104, 'concrete': 4105, 'segments': 4106, 'refactor': 4107, 'international': 4108, 'pyramid': 4109, 'optimal': 4110, 'backwards': 4111, 'llvm': 4112, 'outofmemoryexception': 4113, 'unmarshalling': 4114, 'communicating': 4115, 'weka': 4116, 'illegalstateexception': 4117, 'mapper': 4118, 'hooks': 4119, 'ascx': 4120, 'receives': 4121, 'visit': 4122, 'street': 4123, 'ws': 4124, 'cstring': 4125, 'comparisons': 4126, 'kml': 4127, 'assignments': 4128, 'preferably': 4129, 'prop': 4130, 'maybe': 4131, 'tfs': 4132, 'legal': 4133, 'profiler': 4134, 'cellforrowatindexpath': 4135, 'chance': 4136, 'www': 4137, 'worth': 4138, '75': 4139, 'djangoadmin': 4140, 'stable': 4141, 'important': 4142, 'say': 4143, 'theres': 4144, 'inspect': 4145, 'bytearray': 4146, 'timing': 4147, 'apns': 4148, 'pyc': 4149, 'java_home': 4150, 'routeprovider': 4151, 'prints': 4152, 'dir': 4153, 'organize': 4154, 'coldfusion': 4155, 'manner': 4156, 'pro': 4157, 'retrieval': 4158, 'cascading': 4159, 'ngshow': 4160, 'couchdb': 4161, 'lengths': 4162, 'corruption': 4163, 'repositories': 4164, 'helloworld': 4165, 'maximized': 4166, '1404': 4167, 'machines': 4168, 'caseinsensitive': 4169, 'lan': 4170, 'stroke': 4171, '__attribute__': 4172, 'cshtml': 4173, 'relations': 4174, 'castle': 4175, 'permutation': 4176, 'delayed': 4177, 'smart': 4178, 'accounts': 4179, 'typetext': 4180, 'usercontrols': 4181, 'strongly': 4182, 'kinect': 4183, 'has_one': 4184, 'represented': 4185, 'timezones': 4186, 'mavericks': 4187, 'comparator': 4188, 'deviation': 4189, 'sys': 4190, 'snap': 4191, 'rect': 4192, 'cascade': 4193, 'grabbing': 4194, 'limitations': 4195, 'stamp': 4196, 'intervals': 4197, 'getelementsbyclassname': 4198, 'yesterday': 4199, 'skipping': 4200, 'unbound': 4201, 'figures': 4202, 'turns': 4203, 'rotated': 4204, 'hyperlinks': 4205, 'newer': 4206, 'repo': 4207, 'clob': 4208, 'placing': 4209, 'didselectrowatindexpath': 4210, 'oserror': 4211, 'dropping': 4212, 'raspberry': 4213, 'enumerate': 4214, 'rubys': 4215, 'scanning': 4216, 'toggling': 4217, 'prototypes': 4218, 'apache2': 4219, 'corrupt': 4220, 'impossible': 4221, 'strcpy': 4222, 'versioning': 4223, 'nonempty': 4224, 'specialization': 4225, 'flickering': 4226, 'reach': 4227, 'viewpager': 4228, 'improving': 4229, 'ear': 4230, 'submits': 4231, 'allocating': 4232, 'edited': 4233, 'meant': 4234, 'stdclass': 4235, 'temperature': 4236, 'forwarding': 4237, '502': 4238, 'person': 4239, '05': 4240, 'barcode': 4241, 'resulting': 4242, 'shorter': 4243, 'require_once': 4244, 'digest': 4245, 'contentlength': 4246, 'parameterless': 4247, 'involving': 4248, 'subtraction': 4249, '36': 4250, 'cost': 4251, 'exposing': 4252, '70': 4253, 'avaudioplayer': 4254, 'slug': 4255, 'constructed': 4256, 'disconnected': 4257, 'among': 4258, 'badge': 4259, 'attempts': 4260, 'ipv6': 4261, 'shell_exec': 4262, 'oauth2': 4263, 'theano': 4264, 'terms': 4265, 'displaynone': 4266, 'parenthesis': 4267, 'j': 4268, 'dynamics': 4269, 'lifecycle': 4270, 'busy': 4271, 'affecting': 4272, 'ddl': 4273, 'mouseout': 4274, 'uml': 4275, 'redirecttoaction': 4276, 'destruction': 4277, 'pausing': 4278, 'outofmemory': 4279, 'prevents': 4280, 'inactive': 4281, 'histograms': 4282, 'instanceof': 4283, 'patch': 4284, 'datasets': 4285, 'centering': 4286, 'adjusting': 4287, 'fixing': 4288, 'swapping': 4289, 'iterations': 4290, 'monthly': 4291, 'declares': 4292, 'dummy': 4293, 'openid': 4294, 'instruction': 4295, 'lag': 4296, 'u': 4297, 'marionette': 4298, 'mandatory': 4299, 'conform': 4300, 'unlock': 4301, 'killed': 4302, 'opposed': 4303, 'ctrl': 4304, 'ordinal': 4305, 'systemtimerstimer': 4306, 'subscription': 4307, 'trees': 4308, 'jpanels': 4309, 'providing': 4310, 'reactive': 4311, 'javaiofilenotfoundexception': 4312, 'mediawiki': 4313, 'rearrange': 4314, 'libs': 4315, 'percentages': 4316, 'attacks': 4317, 'webapplication': 4318, 'solving': 4319, 'nsmutabledictionary': 4320, 'getelementsbytagname': 4321, 'panning': 4322, 'webxml': 4323, 'recover': 4324, 'repeats': 4325, 'partialview': 4326, 'pager': 4327, 'simplexmlelement': 4328, 'reactrouter': 4329, 'retrive': 4330, 'jinja': 4331, 'rn': 4332, 'generators': 4333, 'selectedindex': 4334, 'portrait': 4335, 'neo4j': 4336, 'mstest': 4337, 'mousemove': 4338, 'ini': 4339, 'consider': 4340, 'concurrenthashmap': 4341, 'jdbctemplate': 4342, 'dead': 4343, 'parallelforeach': 4344, '46': 4345, 'backward': 4346, 'gridlayout': 4347, 'perfectly': 4348, 'httprequest': 4349, 'visitor': 4350, 'robust': 4351, 'phrase': 4352, 'reliably': 4353, 'situation': 4354, 'biggest': 4355, 'recv': 4356, 'cleanup': 4357, 'dock': 4358, 'reversed': 4359, 'undo': 4360, 'nsnumber': 4361, 'purposes': 4362, 'settext': 4363, 'i++': 4364, 'objectid': 4365, 'props': 4366, 'nas': 4367, 'de': 4368, 'strong': 4369, 'pieces': 4370, 'browserify': 4371, 'predict': 4372, 'documentready': 4373, 'simplify': 4374, 'vars': 4375, 'monotouch': 4376, 'robot': 4377, 'isolate': 4378, 'secondary': 4379, 'repaint': 4380, 'bindingsource': 4381, 'half': 4382, 'godaddy': 4383, 'scratch': 4384, 'whilst': 4385, 'whitespaces': 4386, 'crawling': 4387, 'destroyed': 4388, 'analog': 4389, 'interceptor': 4390, 'engines': 4391, 'presentation': 4392, 'expiration': 4393, 'transitions': 4394, 'inherits': 4395, 'msg': 4396, 'affects': 4397, 'ngif': 4398, 'lnk2019': 4399, 'unpack': 4400, 'become': 4401, 'newtonsoftjson': 4402, 'contour': 4403, 'bridge': 4404, 'automating': 4405, 'ioerror': 4406, 'keystore': 4407, 'jruby': 4408, 'dist': 4409, 'seeing': 4410, 'reconnect': 4411, 'stringreplace': 4412, 'size_t': 4413, 'mistake': 4414, 'moved': 4415, 'q': 4416, 'hand': 4417, 'reserved': 4418, 'autowiring': 4419, 'scoping': 4420, 'crawl': 4421, 'hhmm': 4422, 'requesting': 4423, 'rmarkdown': 4424, 'clauses': 4425, 'permgen': 4426, 'leads': 4427, 'interpret': 4428, 'onblur': 4429, 'warn': 4430, 'behaving': 4431, 'published': 4432, 'filenotfoundexception': 4433, 'linebreaks': 4434, 'uitabbarcontroller': 4435, 'nav': 4436, 'commaseparated': 4437, 'requirement': 4438, 'follows': 4439, 'compareto': 4440, 'scrolls': 4441, 'motion': 4442, 'vista': 4443, 'moment': 4444, 'datarows': 4445, 'arrayliststring': 4446, 'prefer': 4447, 'fosuserbundle': 4448, 'technique': 4449, 'vb6': 4450, 'asterisks': 4451, 'suggestion': 4452, 'hint': 4453, 'tablet': 4454, 'behave': 4455, 'cvmat': 4456, 'drools': 4457, 'ensuring': 4458, 'concepts': 4459, 'contract': 4460, 'idiom': 4461, 'talk': 4462, 'rxjava': 4463, 'xxxx': 4464, 'rating': 4465, 'exiting': 4466, 'backcolor': 4467, 'autoscroll': 4468, 'phtml': 4469, 'lifetime': 4470, 'guaranteed': 4471, 'subarray': 4472, 'reusable': 4473, 'jsfiddle': 4474, '71': 4475, 'squares': 4476, 'ended': 4477, 'javalangunsatisfiedlinkerror': 4478, 'sums': 4479, 'des': 4480, 'early': 4481, 'webstorm': 4482, 'sklearn': 4483, 'userid': 4484, 'transactionscope': 4485, 'fetched': 4486, 'stdlist': 4487, 'subqueries': 4488, 'sscanf': 4489, 'reject': 4490, 'aligning': 4491, 'strength': 4492, 'move_uploaded_file': 4493, 'intermediate': 4494, 'mvc2': 4495, 'dropdowns': 4496, 'java8': 4497, 'stores': 4498, 'troubles': 4499, 'benchmark': 4500, 'springs': 4501, 'ios8': 4502, 'grep': 4503, 'gap': 4504, 'reads': 4505, 'phase': 4506, 'xx': 4507, 'belong': 4508, 'textfields': 4509, 'form1': 4510, 'uibarbuttonitem': 4511, 'bundles': 4512, 'basics': 4513, 'aspectj': 4514, 'dos': 4515, '111': 4516, 'erb': 4517, 'executereader': 4518, 'form_for': 4519, 'latin': 4520, 'checkedlistbox': 4521, 'playlist': 4522, 'arg': 4523, 'outgoing': 4524, 'comparable': 4525, 'compiletime': 4526, 'quickest': 4527, 'realloc': 4528, 'networking': 4529, 'minimal': 4530, 'eliminate': 4531, 'as3': 4532, 'monday': 4533, 'deny': 4534, 'setattribute': 4535, 'notebook': 4536, 'dtype': 4537, 'traversing': 4538, 'mousedown': 4539, 'disposing': 4540, 'datasources': 4541, 'triangles': 4542, 'falls': 4543, 'unterminated': 4544, 'anywhere': 4545, 'sides': 4546, 'len': 4547, 'selecteditem': 4548, 'converts': 4549, 'constructing': 4550, 'suggest': 4551, 'urlopen': 4552, 'indirect': 4553, '323': 4554, 'runserver': 4555, 'reopen': 4556, 'moves': 4557, 'signing': 4558, 'created_at': 4559, 'di': 4560, 'stage': 4561, 'timers': 4562, 'ie10': 4563, '106': 4564, 'inmemory': 4565, 'grant': 4566, 'captcha': 4567, 'firebird': 4568, 'aurelia': 4569, 'initialise': 4570, 'distributed': 4571, 'room': 4572, '0s': 4573, 'gsub': 4574, 'tbody': 4575, 'servletcontext': 4576, 'midnight': 4577, 'puzzle': 4578, 'couple': 4579, 'scatterplot': 4580, '__dopostback': 4581, 'alt': 4582, 'mouseenter': 4583, 'browsing': 4584, 'setcookie': 4585, 'prepend': 4586, 'instant': 4587, 'air': 4588, 'restricting': 4589, 'truncating': 4590, 'str_replace': 4591, 'purchase': 4592, 'nsmanagedobject': 4593, 'stays': 4594, 'jquerymobile': 4595, 'pane': 4596, 'centered': 4597, 'scenarios': 4598, 'extremely': 4599, 'freezing': 4600, 'recognised': 4601, 'volatile': 4602, 'bigdecimal': 4603, 'wise': 4604, 'javalanginteger': 4605, 'oncreate': 4606, 'polynomial': 4607, 'jobject': 4608, 'instructions': 4609, 'opera': 4610, 'securely': 4611, 'pow': 4612, 'superview': 4613, 'blade': 4614, 'connectivity': 4615, 'paragraphs': 4616, 'javanetconnectexception': 4617, 'sun': 4618, 'practise': 4619, 'lwjgl': 4620, 'joined': 4621, 'checks': 4622, 'boundaries': 4623, 'cdi': 4624, 'urllib': 4625, 'succeeded': 4626, 'windowsh': 4627, 'decorators': 4628, 'normalize': 4629, 'simplexml_load_string': 4630, 'ellipse': 4631, '503': 4632, 'viewmodels': 4633, 'sqlserver': 4634, 'buffered': 4635, 'tabbed': 4636, 'datetimefield': 4637, 'practical': 4638, 'note': 4639, 'matter': 4640, 'parseint': 4641, 'met': 4642, 'pem': 4643, '301': 4644, 'var_dump': 4645, 'die': 4646, 'jasperreport': 4647, 'ashx': 4648, 'runner': 4649, 'programmatic': 4650, 'defaults': 4651, 'fall': 4652, 'porting': 4653, 'unescape': 4654, 'pods': 4655, 'picking': 4656, 'endless': 4657, 'dashes': 4658, 'selectedvalue': 4659, 'banner': 4660, 'utf': 4661, 'fontawesome': 4662, 'twoway': 4663, 'massive': 4664, 'complicated': 4665, 'cyrillic': 4666, 'webrequest': 4667, 'mysql_num_rows': 4668, 'euler': 4669, 'complement': 4670, 'stringify': 4671, 'basis': 4672, 'inactivity': 4673, 'viewdidload': 4674, 'current_user': 4675, 'subsets': 4676, 'authenticating': 4677, 'vowels': 4678, 'monodevelop': 4679, 'log4jxml': 4680, 'read_csv': 4681, 'killing': 4682, 'logo': 4683, 'million': 4684, 'enhanced': 4685, 'counts': 4686, 'advance': 4687, 'overwritten': 4688, 'interacting': 4689, 'popular': 4690, 'keyerror': 4691, 'soapclient': 4692, 'otherwise': 4693, 'paginate': 4694, 'nsinteger': 4695, 'hasmany': 4696, 'colours': 4697, 'precise': 4698, 'uint8_t': 4699, 'actionresult': 4700, 'rightclick': 4701, 'localtime': 4702, 'configurations': 4703, 'protection': 4704, 'programmer': 4705, 'reordering': 4706, 'troubleshooting': 4707, '#object': 4708, 'addclass': 4709, 'exits': 4710, 'often': 4711, 'taskrun': 4712, 'periodic': 4713, 'proc': 4714, 'developers': 4715, 'struggling': 4716, 'pound': 4717, 'premature': 4718, 'adjacent': 4719, 'sqlparameter': 4720, 'tweets': 4721, 'interprocess': 4722, 'depend': 4723, 'mozilla': 4724, 'groupbox': 4725, 'subcategories': 4726, 'uibuttons': 4727, 'assume': 4728, 'injected': 4729, 'print_r': 4730, 'catalog': 4731, 'attempted': 4732, 'roll': 4733, 'autoload': 4734, 'decoded': 4735, 'tries': 4736, 'flipping': 4737, 'respective': 4738, 'compiles': 4739, 'expiry': 4740, 'recommendations': 4741, 'popups': 4742, 'pushed': 4743, 'datetimes': 4744, 'executenonquery': 4745, 'primaryexpression': 4746, 'shipping': 4747, 'selectedindexchanged': 4748, 'routine': 4749, 'pan': 4750, 'daily': 4751, 'viewed': 4752, 'compressed': 4753, '110': 4754, 'complains': 4755, 'feedback': 4756, 'recipient': 4757, 'refuses': 4758, 'findviewbyid': 4759, 'xmlns': 4760, 'appdelegate': 4761, 'fashion': 4762, 'books': 4763, 'tapped': 4764, 'feel': 4765, 'publishing': 4766, 'update_attributes': 4767, 'weekends': 4768, 'finger': 4769, 'locating': 4770, 'mocked': 4771, 'cancellation': 4772, 'executorservice': 4773, 'idiomatic': 4774, 'recipients': 4775, 'viable': 4776, 'inference': 4777, 'quantity': 4778, 'confusing': 4779, 'compressing': 4780, '#1': 4781, 'branch': 4782, 'transforming': 4783, 'stylesheets': 4784, 'birth': 4785, 'springsecurity': 4786, 'saying': 4787, 'cv': 4788, 'capital': 4789, 'poor': 4790, 'money': 4791, 'corresponds': 4792, 'javalangruntimeexception': 4793, 'hashmaps': 4794, 'dim': 4795, 'requestbody': 4796, 'actionlink': 4797, 'zurb': 4798, 'standards': 4799, 'fileoutputstream': 4800, 'pod': 4801, 'bigger': 4802, 'transferred': 4803, 'tdd': 4804, 'listint': 4805, 'systemint32': 4806, 'keycode': 4807, 'sphere': 4808, 'workers': 4809, 'weekly': 4810, 'webpart': 4811, 'student': 4812, 'uuid': 4813, 'rbind': 4814, 'boxplot': 4815, 'gcd': 4816, 'crossthread': 4817, 'spy': 4818, 'fadeout': 4819, '#pragma': 4820, 'tiles': 4821, 'phones': 4822, 'verifying': 4823, 'difficulty': 4824, 'technology': 4825, 'jbuttons': 4826, 'triple': 4827, 'visited': 4828, 'qt5': 4829, 'goal': 4830, 'toolbox': 4831, 'sticky': 4832, 'modalpopupextender': 4833, 'unqualifiedid': 4834, 'bubbling': 4835, 'th': 4836, 'mapstring': 4837, 'javalangnumberformatexception': 4838, 'differ': 4839, 'stale': 4840, 'drawimage': 4841, 'quotation': 4842, 'exponent': 4843, 'socketexception': 4844, 'deferred': 4845, 'unnecessary': 4846, 'articles': 4847, 'mathround': 4848, 'artifacts': 4849, 'mvn': 4850, 'far': 4851, 'awesome': 4852, 'programme': 4853, 'modelsave': 4854, 'messed': 4855, 'listviewitem': 4856, 'facebooks': 4857, 'followers': 4858, 'nslog': 4859, '255': 4860, 'gaps': 4861, 'mesh': 4862, '187': 4863, 'sqldatasource': 4864, 'dbnull': 4865, 'semantic': 4866, 'applicationproperties': 4867, 'linqtoentities': 4868, 'alphabetic': 4869, 'defer': 4870, 'mysqlsock': 4871, 'scikit': 4872, 'painting': 4873, 'nonexistent': 4874, 'stdthread': 4875, 'life': 4876, 'documentcreateelement': 4877, 'splice': 4878, 'endpoints': 4879, 'redirect_uri': 4880, 'javax': 4881, 'createfile': 4882, '220': 4883, 'sqlquery': 4884, 'deck': 4885, 'snow': 4886, 'sublist': 4887, 'preflight': 4888, 'variadic': 4889, 'l': 4890, 'disallowed': 4891, 'logistic': 4892, 'google+': 4893, 'gaussian': 4894, 'retaining': 4895, 'intranet': 4896, 'itunes': 4897, 'collapsible': 4898, 'beginners': 4899, 'raises': 4900, 'sounds': 4901, 'objectoriented': 4902, '_request': 4903, 'differentiate': 4904, 'preload': 4905, 'contentsize': 4906, 'late': 4907, 'nsthread': 4908, 'merged': 4909, 'mimetype': 4910, 'discount': 4911, 'initiate': 4912, 'tabcontrol': 4913, 'pinch': 4914, 'caret': 4915, 'codefirst': 4916, 'continuewith': 4917, 'sitemap': 4918, 'simplexml_load_file': 4919, 'hashtag': 4920, 'nondefault': 4921, 'stringcontains': 4922, 'pylab': 4923, 'edges': 4924, 'mysql_real_escape_string': 4925, 'openfiledialog': 4926, 'subtype': 4927, '127': 4928, 'concurrently': 4929, 'textboxfor': 4930, 'vendor': 4931, 'finder': 4932, 'extjs4': 4933, 'redeclare': 4934, 'derive': 4935, 'piece': 4936, 'cover': 4937, 'javalangunsupportedclassversionerror': 4938, 'minification': 4939, 'mediaplayer': 4940, 'minimized': 4941, 'games': 4942, 'delivery': 4943, '8601': 4944, 'cumulative': 4945, 'typeof': 4946, 'push_back': 4947, 'rubygem': 4948, 'impact': 4949, 'zipped': 4950, 'uitabbar': 4951, 'applicationcontext': 4952, 'inputted': 4953, 'chromes': 4954, 'qwidget': 4955, 'statically': 4956, 'multibyte': 4957, 'jcombobox': 4958, 'raw_input': 4959, 'visualstudio': 4960, 'innertext': 4961, '0xc0000005': 4962, 'formed': 4963, 'localhost8080': 4964, 'findby': 4965, 'saves': 4966, 'alphabets': 4967, 'multiples': 4968, 'cgridview': 4969, 'normally': 4970, 'referer': 4971, 'multicolumn': 4972, '1054': 4973, 'nongeneric': 4974, 'typecasting': 4975, 'r2': 4976, 'static_cast': 4977, 'javasqldate': 4978, 'fx': 4979, 'qpushbutton': 4980, 'modifiers': 4981, 'expires': 4982, 'eventhandler': 4983, 'androidviewinflateexception': 4984, 'obtained': 4985, 'bottleneck': 4986, 'trusted': 4987, 'ifstream': 4988, 'listitem': 4989, 'homework': 4990, 'ca': 4991, 'babel': 4992, 'x11': 4993, 'chef': 4994, 'polygons': 4995, 'mysql2error': 4996, 'absolutely': 4997, 'nethttp': 4998, 'median': 4999}\n",
            "{0: 'using', 1: 'php', 2: 'java', 3: 'file', 4: 'javascript', 5: 'error', 6: 'get', 7: 'c#', 8: 'python', 9: 'string', 10: 'array', 11: 'data', 12: 'jquery', 13: 'value', 14: 'function', 15: 'object', 16: 'class', 17: 'use', 18: 'c++', 19: 'list', 20: 'method', 21: 'multiple', 22: 'text', 23: 'image', 24: 'page', 25: 'rails', 26: 'form', 27: 'create', 28: 'html', 29: 'type', 30: 'code', 31: 'set', 32: 'working', 33: 'database', 34: 'add', 35: 'convert', 36: 'mysql', 37: 'json', 38: 'c', 39: 'server', 40: 'variable', 41: 'android', 42: 'values', 43: 'aspnet', 44: 'way', 45: 'application', 46: 'change', 47: 'button', 48: 'find', 49: 'django', 50: 'one', 51: 'without', 52: 'windows', 53: 'cannot', 54: 'table', 55: 'call', 56: 'files', 57: 'ajax', 58: 'check', 59: 'time', 60: 'name', 61: 'two', 62: 'ruby', 63: 'getting', 64: 'date', 65: 'web', 66: 'make', 67: 'input', 68: 'user', 69: 'xml', 70: 'app', 71: 'another', 72: 'element', 73: 'custom', 74: 'event', 75: 'api', 76: 'access', 77: 'url', 78: 'number', 79: 'spring', 80: 'view', 81: 'sql', 82: 'return', 83: 'mvc', 84: 'select', 85: 'google', 86: 'query', 87: 'inside', 88: 'exception', 89: 'display', 90: 'column', 91: 'read', 92: 'loop', 93: 'swift', 94: 'new', 95: 'work', 96: 'remove', 97: 'load', 98: 'r', 99: 'objects', 100: 'property', 101: 'line', 102: 'cant', 103: 'pass', 104: 'click', 105: 'framework', 106: 'update', 107: 'script', 108: 'vs', 109: 'post', 110: 'null', 111: '2', 112: 'creating', 113: 'net', 114: 'request', 115: 'different', 116: 'field', 117: 'key', 118: 'run', 119: 'row', 120: 'doesnt', 121: 'ios', 122: 'service', 123: 'linq', 124: 'div', 125: 'open', 126: 'window', 127: 'project', 128: 'wpf', 129: 'format', 130: 'best', 131: 'show', 132: 'controller', 133: 'variables', 134: 'undefined', 135: 'specific', 136: 'dynamically', 137: 'adding', 138: 'based', 139: 'angularjs', 140: 'control', 141: 'parameter', 142: 'send', 143: 'model', 144: '3', 145: 'library', 146: 'difference', 147: 'insert', 148: 'first', 149: 'passing', 150: 'vbnet', 151: 'js', 152: 'regex', 153: 'elements', 154: 'codeigniter', 155: 'eclipse', 156: 'within', 157: 'path', 158: 'dynamic', 159: 'visual', 160: 'memory', 161: 'connection', 162: 'possible', 163: 'id', 164: 'thread', 165: 'save', 166: 'default', 167: 'via', 168: '+', 169: 'running', 170: 'size', 171: 'program', 172: 'found', 173: 'content', 174: 'reference', 175: 'issue', 176: 'attribute', 177: 'write', 178: 'studio', 179: 'laravel', 180: 'search', 181: 'test', 182: 'excel', 183: 'static', 184: 'session', 185: 'output', 186: 'http', 187: 'character', 188: 'characters', 189: 'entity', 190: 'current', 191: 'problem', 192: 'client', 193: 'calling', 194: 'empty', 195: 'simple', 196: 'int', 197: 'css', 198: 'parameters', 199: 'upload', 200: 'command', 201: 'reading', 202: 'directory', 203: 'validation', 204: '1', 205: 'map', 206: 'hibernate', 207: 'selected', 208: 'textbox', 209: 'unable', 210: 'browser', 211: 'images', 212: 'item', 213: 'link', 214: 'index', 215: 'facebook', 216: 'expression', 217: 'store', 218: 'setting', 219: 'delete', 220: 'single', 221: 'template', 222: 'like', 223: 'statement', 224: 'strings', 225: 'rows', 226: 'failed', 227: 'header', 228: 'replace', 229: 'loading', 230: 'login', 231: 'box', 232: 'iphone', 233: '4', 234: 'numbers', 235: 'color', 236: 'nested', 237: 'returning', 238: 'print', 239: 'instance', 240: 'background', 241: 'pdf', 242: 'char', 243: 'parse', 244: 'could', 245: 'disable', 246: 'bootstrap', 247: 'message', 248: 'csv', 249: 'module', 250: 'tag', 251: 'chrome', 252: 'converting', 253: 'x', 254: 'parent', 255: 'invalid', 256: 'returns', 257: 'local', 258: 'methods', 259: 'need', 260: 'connect', 261: 'email', 262: 'changing', 263: 'trying', 264: 'response', 265: 'functions', 266: 'install', 267: 'redirect', 268: 'angular', 269: 'order', 270: 'dictionary', 271: 'arrays', 272: 'dropdown', 273: 'classes', 274: 'folder', 275: 'generate', 276: 'bar', 277: 'submit', 278: 'pandas', 279: 'process', 280: 'columns', 281: 'child', 282: 'source', 283: 'checkbox', 284: 'integer', 285: 'count', 286: 'sending', 287: 'parsing', 288: 'items', 289: 'start', 290: 'detect', 291: 'double', 292: 'datetime', 293: 'hide', 294: 'fields', 295: 'jsp', 296: 'console', 297: 'gridview', 298: 'pointer', 299: 'selenium', 300: 'linux', 301: 'constructor', 302: 'import', 303: 'random', 304: '7', 305: 'programmatically', 306: 'action', 307: 'collection', 308: 'instead', 309: 'version', 310: 'datagridview', 311: 'filter', 312: 'sort', 313: 'objectivec', 314: 'website', 315: 'generic', 316: 'last', 317: 'result', 318: 'build', 319: 'system', 320: 'download', 321: 'split', 322: 'properties', 323: 'interface', 324: 'iframe', 325: 'back', 326: 'nodejs', 327: 'cell', 328: 'binding', 329: 'arguments', 330: 'datatable', 331: '5', 332: 'syntax', 333: 'xcode', 334: 'scroll', 335: 'onclick', 336: 'binary', 337: 'external', 338: 'position', 339: 'execute', 340: '0', 341: 'socket', 342: 'rest', 343: 'called', 344: 'missing', 345: 'word', 346: 'maps', 347: 'implement', 348: 'typeerror', 349: 'byte', 350: 'whats', 351: 'extension', 352: 'copy', 353: 'refresh', 354: 'video', 355: 'menu', 356: 'match', 357: 'given', 358: 'argument', 359: 'node', 360: 'wordpress', 361: 'include', 362: 'retrieve', 363: 'regular', 364: 'accessing', 365: 'forms', 366: 'canvas', 367: 'showing', 368: 'document', 369: 'results', 370: 'ui', 371: 'runtime', 372: 'arraylist', 373: 'defined', 374: 'handle', 375: 'drop', 376: 'group', 377: 'apache', 378: 'errors', 379: 'large', 380: 'opencv', 381: 'height', 382: 'compare', 383: 'wcf', 384: 'address', 385: 'ie', 386: 'mobile', 387: 'many', 388: 'properly', 389: 'member', 390: 'equivalent', 391: '8', 392: 'screen', 393: 'exists', 394: 'global', 395: 'plugin', 396: 'password', 397: 'expected', 398: 'vector', 399: 'events', 400: 'jar', 401: 'maven', 402: 'length', 403: 'location', 404: 'writing', 405: 'types', 406: 'numpy', 407: 'servlet', 408: 'html5', 409: 'extract', 410: 'width', 411: 'stored', 412: 'close', 413: 'dataframe', 414: 'dialog', 415: 'certain', 416: 'help', 417: 'used', 418: 'range', 419: 'style', 420: 'names', 421: 'handling', 422: 'prevent', 423: 'automatically', 424: 'works', 425: 'resource', 426: 'magento', 427: 'every', 428: 'tomcat', 429: 'fails', 430: 'cast', 431: 'created', 432: 'pattern', 433: 'warning', 434: 'frame', 435: 'popup', 436: 'wrong', 437: 'contains', 438: 'validate', 439: 'displaying', 440: 'enum', 441: 'updating', 442: 'qt', 443: 'curl', 444: 'package', 445: 'stop', 446: 'must', 447: 'testing', 448: 'listview', 449: 'operator', 450: '2d', 451: 'space', 452: 'put', 453: 'authentication', 454: 'context', 455: 'conversion', 456: 'keys', 457: 'auto', 458: 'structure', 459: 'callback', 460: 'main', 461: 'saving', 462: 'token', 463: 'end', 464: 'exist', 465: 'long', 466: 'tab', 467: 'db', 468: 'problems', 469: 'foreach', 470: 'existing', 471: 'dll', 472: 'always', 473: 'block', 474: 'sorting', 475: 'grid', 476: 'finding', 477: 'matplotlib', 478: 'remote', 479: 'sqlite', 480: 'buttons', 481: 'option', 482: 'bind', 483: 'determine', 484: 'modal', 485: 'firefox', 486: 'stream', 487: 'performance', 488: 'tags', 489: 'label', 490: 'plot', 491: 'mac', 492: 'join', 493: 'decimal', 494: 'combobox', 495: 'uncaught', 496: 'phone', 497: 'radio', 498: 'example', 499: 'chart', 500: 'compile', 501: 'unexpected', 502: 'attributes', 503: 'dom', 504: 'checking', 505: 'correctly', 506: 'right', 507: 'tables', 508: 'point', 509: 'installing', 510: 'lines', 511: 'base', 512: 'mouse', 513: 'float', 514: 'users', 515: 'basic', 516: 'support', 517: 'struct', 518: 'tree', 519: 'making', 520: 'unit', 521: 'unique', 522: 'scope', 523: 'threads', 524: 'correct', 525: 'hash', 526: 'duplicate', 527: 'catch', 528: 'next', 529: 'handler', 530: 'mean', 531: 'already', 532: 'wont', 533: 'even', 534: 'good', 535: 'edit', 536: 'task', 537: 'admin', 538: 'uitableview', 539: 'removing', 540: 'matrix', 541: 'namespace', 542: 'contents', 543: 'pages', 544: 'valid', 545: 'graph', 546: 'dates', 547: 'lists', 548: 'sdk', 549: 'log', 550: 'encoding', 551: 'const', 552: 'debug', 553: 'objective', 554: 'case', 555: 'calculate', 556: 'changes', 557: 'site', 558: 'programming', 559: 'configuration', 560: 'storing', 561: 'side', 562: 'active', 563: 'sum', 564: 'full', 565: 'limit', 566: 'keep', 567: 'jpa', 568: 'top', 569: 'listbox', 570: 'implementation', 571: 'animation', 572: 'unicode', 573: 'append', 574: 'override', 575: 'printing', 576: 'mongodb', 577: 'twitter', 578: 'allow', 579: 'record', 580: 'winforms', 581: 'part', 582: 'resize', 583: 'utf8', 584: 'core', 585: 'lambda', 586: 'loaded', 587: 'mail', 588: 'ip', 589: 'security', 590: 'controls', 591: 'play', 592: 'times', 593: 'pdo', 594: 'layout', 595: 'selection', 596: 'async', 597: 'fatal', 598: 'game', 599: 'records', 600: 'bean', 601: 'language', 602: 'boolean', 603: 'webdriver', 604: 'cookie', 605: 'draw', 606: 'constant', 607: 'switch', 608: 'outside', 609: 'cakephp', 610: 'domain', 611: 'gui', 612: 'force', 613: 'unknown', 614: 'true', 615: 'inserting', 616: 'assign', 617: 'wait', 618: 'port', 619: 'false', 620: 'mode', 621: '20', 622: 'slow', 623: 'named', 624: 'state', 625: 'focus', 626: 'oracle', 627: 'issues', 628: 'requests', 629: 'mapping', 630: 'netbeans', 631: 'available', 632: 'condition', 633: 'multidimensional', 634: 'enable', 635: 'generated', 636: 'ubuntu', 637: 'assembly', 638: 'jdbc', 639: 'uploading', 640: 'clicked', 641: 'device', 642: 'gem', 643: 'populate', 644: 'yii', 645: 'specified', 646: 'swing', 647: 'soap', 648: 'required', 649: 'special', 650: 'engine', 651: 'initialize', 652: 'checked', 653: 'exceptions', 654: '2010', 655: 'executing', 656: 'know', 657: 'network', 658: 'bad', 659: 'native', 660: 'avoid', 661: 'tkinter', 662: 'javafx', 663: 'try', 664: 'design', 665: '6', 666: 'timeout', 667: 'month', 668: 'export', 669: 'webservice', 670: 'efficient', 671: 'trigger', 672: 'n', 673: 'want', 674: '404', 675: 'heroku', 676: 'move', 677: 'question', 678: 'os', 679: 'component', 680: 'timer', 681: 'dont', 682: 'iterate', 683: 'stack', 684: '10', 685: 'zend', 686: 'words', 687: 'body', 688: 'textarea', 689: 'views', 690: 'implementing', 691: 'compiler', 692: 'clicking', 693: 'linked', 694: 'symbol', 695: 'clear', 696: 'render', 697: 'flask', 698: 'root', 699: 'navigation', 700: 'symfony2', 701: 'second', 702: 'define', 703: 'datagrid', 704: 'pointers', 705: 'fill', 706: 'ssl', 707: 'inheritance', 708: 'private', 709: 'route', 710: 'procedure', 711: 'particular', 712: 'rspec', 713: 'information', 714: 'left', 715: 'scrolling', 716: 'declaration', 717: 'status', 718: 'behind', 719: 'bytes', 720: 'fetch', 721: 'fix', 722: 'services', 723: 'calendar', 724: 'reflection', 725: 'push', 726: 'spaces', 727: 'algorithm', 728: 'xpath', 729: 'alert', 730: 'apply', 731: 'cache', 732: 'integers', 733: 'youtube', 734: 'development', 735: 'calls', 736: 'dependency', 737: 'options', 738: 'maximum', 739: 'hex', 740: 'max', 741: 'https', 742: 'usage', 743: 'progress', 744: 'target', 745: 'previous', 746: 'environment', 747: 'models', 748: 'merge', 749: 'title', 750: 'practice', 751: 'internet', 752: 'comparing', 753: 'changed', 754: 'headers', 755: 'notification', 756: 'driver', 757: 'libraries', 758: 'boost', 759: 'matching', 760: 'apps', 761: 'statements', 762: 'panel', 763: 'symfony', 764: 'shared', 765: 'font', 766: 'opengl', 767: 'tests', 768: 'processing', 769: 'comma', 770: 'public', 771: 'xaml', 772: 'installed', 773: 'datepicker', 774: 'separate', 775: 'standard', 776: 'icon', 777: 'resources', 778: 'directive', 779: 'report', 780: 'abstract', 781: 'links', 782: 'htaccess', 783: 'better', 784: 'hidden', 785: 'container', 786: 'serialize', 787: 'debugging', 788: 'logging', 789: 'would', 790: 'asp', 791: 'resolve', 792: 'autocomplete', 793: 'junit', 794: 'configure', 795: 'ggplot2', 796: 'react', 797: 'see', 798: 'hashmap', 799: 'partial', 800: 'alternative', 801: 'queries', 802: 'selecting', 803: 'visible', 804: 'echo', 805: 'messages', 806: 'returned', 807: 'throws', 808: 'devise', 809: 'something', 810: 'keyboard', 811: 'proxy', 812: 'svg', 813: 'checkboxes', 814: 'declare', 815: 'generating', 816: 'denied', 817: 'take', 818: 'jtable', 819: 'whether', 820: 'coordinates', 821: 'escape', 822: 'operation', 823: 'quotes', 824: 'causes', 825: 'virtual', 826: 'formatting', 827: 'extjs', 828: 'day', 829: 'drag', 830: 'jsf', 831: 'reload', 832: 'drawing', 833: 'setup', 834: 'contain', 835: 'shell', 836: 'product', 837: 'dataset', 838: 'intellij', 839: 'machine', 840: 'delegate', 841: 'webpage', 842: 'entities', 843: 'rendering', 844: 'queue', 845: 'strange', 846: 'phonegap', 847: 'containing', 848: 'cells', 849: 'applications', 850: 'twice', 851: 'dropdownlist', 852: 'connecting', 853: 'inline', 854: 'per', 855: 'execution', 856: 'gcc', 857: 'blank', 858: 'relationship', 859: 'uiview', 860: 'level', 861: 'opening', 862: 'ms', 863: 'conditional', 864: 'razor', 865: 'serialization', 866: 'gives', 867: 'widget', 868: 'initialization', 869: 'relative', 870: 'modify', 871: 'safe', 872: 'etc', 873: 'internal', 874: 'nodes', 875: 'jqgrid', 876: 'definition', 877: 'timestamp', 878: 'capture', 879: 'batch', 880: 'importing', 881: 'building', 882: 'retrieving', 883: 'expressions', 884: 'compiling', 885: 'else', 886: 'allowed', 887: 'added', 888: 'still', 889: 'numeric', 890: 'tcp', 891: 'year', 892: 'host', 893: 'sqlalchemy', 894: 'seconds', 895: 'doctrine', 896: 'boot', 897: 'highcharts', 898: 'cookies', 899: 'selector', 900: 'href', 901: 'nsstring', 902: 'foreign', 903: 'jframe', 904: 'jackson', 905: 'starting', 906: 'config', 907: 'annotation', 908: 'embedded', 909: 'fast', 910: 'reset', 911: 'protocol', 912: 'touch', 913: 'injection', 914: 'section', 915: 'firing', 916: 'tabs', 917: 'jaxb', 918: 'webbrowser', 919: 'ascii', 920: 'points', 921: 'closing', 922: 'overriding', 923: 'transaction', 924: 'postgresql', 925: 'trouble', 926: 'hover', 927: 'sharepoint', 928: 'passed', 929: 'labels', 930: 'cursor', 931: 'able', 932: 'gwt', 933: 'recursive', 934: 'specify', 935: 'sequence', 936: 'localhost', 937: 'explorer', 938: 'urls', 939: 'asynchronous', 940: 'assignment', 941: 'replacing', 942: 'deploy', 943: 'fixed', 944: 'webview', 945: 'giving', 946: 'days', 947: 'templates', 948: 'exit', 949: 'fastest', 950: 'base64', 951: 'anchor', 952: 'restful', 953: 'deleting', 954: 'toggle', 955: 'axis', 956: 'nil', 957: 'go', 958: 'v3', 959: 'enter', 960: 'osx', 961: 'proper', 962: 'vb', 963: '500', 964: 'moving', 965: 'digits', 966: 'nhibernate', 967: 'casting', 968: 'ignore', 969: 'stl', 970: 'faster', 971: 'activerecord', 972: 'permission', 973: 'settings', 974: 'pagination', 975: 'mysqli', 976: 'border', 977: 'lock', 978: 'including', 979: 'loops', 980: 'serial', 981: 'declared', 982: 'incorrect', 983: 'caching', 984: 'activity', 985: 'username', 986: 'real', 987: 's3', 988: 'effect', 989: 'sent', 990: 'comparison', 991: 'complex', 992: 'complete', 993: 'safari', 994: 'invoke', 995: 'across', 996: 'uitableviewcell', 997: 'txt', 998: 'void', 999: 'audio', 1000: 'programatically', 1001: 'multi', 1002: 'zip', 1003: 'speed', 1004: 'increment', 1005: 'singleton', 1006: 'combine', 1007: 'buffer', 1008: '3d', 1009: 'scripts', 1010: 'modules', 1011: 'equal', 1012: 'place', 1013: 'center', 1014: 'keyword', 1015: 'closed', 1016: 'inner', 1017: 'repository', 1018: 'routing', 1019: 'filtering', 1020: 'integration', 1021: 'iis', 1022: 'break', 1023: 'letter', 1024: 'mock', 1025: 'causing', 1026: 'express', 1027: 'ie8', 1028: 'heap', 1029: 'whole', 1030: 'bundle', 1031: 'mvvm', 1032: 'letters', 1033: 'ant', 1034: 'winform', 1035: 'crash', 1036: '2008', 1037: 'uploaded', 1038: 'poi', 1039: 'substring', 1040: 'bit', 1041: 'identifier', 1042: 'receive', 1043: 'extra', 1044: 'leak', 1045: 'pip', 1046: 'deserialize', 1047: 'src', 1048: 'self', 1049: 'entry', 1050: 'series', 1051: 'following', 1052: 'require', 1053: 'blob', 1054: 'amazon', 1055: 'success', 1056: 'ftp', 1057: 'browsers', 1058: 'shows', 1059: 'free', 1060: 'smtp', 1061: 'isnt', 1062: 'macro', 1063: '2012', 1064: 'share', 1065: 'solution', 1066: 'primary', 1067: 'extracting', 1068: 'camera', 1069: 'flash', 1070: 'communication', 1071: 'rake', 1072: 'generator', 1073: 'controllers', 1074: 'tableview', 1075: 'dependencies', 1076: 'around', 1077: 'failure', 1078: 'storage', 1079: 'listener', 1080: 'exe', 1081: 'generics', 1082: 'microsoft', 1083: 'area', 1084: 'tell', 1085: 'provider', 1086: 'failing', 1087: 'beautifulsoup', 1088: 'marker', 1089: 'cocoa', 1090: 'iterator', 1091: 'secure', 1092: 'parallel', 1093: 'win32', 1094: 'bool', 1095: 'downloading', 1096: 'cross', 1097: 'negative', 1098: 'depending', 1099: 'itextsharp', 1100: 'unity', 1101: 'solve', 1102: 'divs', 1103: 'tutorial', 1104: 'decode', 1105: 'datasource', 1106: 'recursion', 1107: 'directly', 1108: 'scrapy', 1109: 'ipad', 1110: 'sockets', 1111: 'timezone', 1112: 'editor', 1113: 'slider', 1114: 'idea', 1115: 'anonymous', 1116: 'understanding', 1117: 'requires', 1118: 'instances', 1119: 'calculating', 1120: 'com', 1121: 'non', 1122: 'png', 1123: 'give', 1124: 'ggplot', 1125: 'silverlight', 1126: 'behavior', 1127: 'parser', 1128: 'tool', 1129: 'throw', 1130: 'detecting', 1131: 'white', 1132: 'similar', 1133: 'compilation', 1134: 'webapi', 1135: 'iterating', 1136: 'waiting', 1137: 'throwing', 1138: 'jersey', 1139: 'unix', 1140: 'log4j', 1141: 'accept', 1142: 'less', 1143: 'children', 1144: 'executable', 1145: 'clause', 1146: 'applet', 1147: 'needed', 1148: 'perform', 1149: 'tuple', 1150: 'zoom', 1151: '40', 1152: 'appear', 1153: 'reverse', 1154: 'animate', 1155: 'jboss', 1156: 'delay', 1157: 'd3', 1158: 'joomla', 1159: 'installation', 1160: 'typescript', 1161: 'raw', 1162: 'entire', 1163: 'certificate', 1164: 'optional', 1165: 'zero', 1166: 'receiving', 1167: 'gmail', 1168: 'uibutton', 1169: 'rotate', 1170: 'illegal', 1171: 'colors', 1172: 'treeview', 1173: 'copying', 1174: 'takes', 1175: 'extend', 1176: 'big', 1177: 'jpanel', 1178: 'references', 1179: 'filename', 1180: 'turn', 1181: 'primefaces', 1182: 'udp', 1183: 'matches', 1184: 'uri', 1185: 'subclass', 1186: 'embed', 1187: 'gradle', 1188: 'classpath', 1189: 'except', 1190: 'practices', 1191: 'mvc4', 1192: 'searching', 1193: 'drupal', 1194: 'backbonejs', 1195: 'nginx', 1196: 'manually', 1197: 'ckeditor', 1198: 'postback', 1199: 'unsigned', 1200: 'crashes', 1201: 'desktop', 1202: 'supported', 1203: 'tooltip', 1204: 'due', 1205: 'commands', 1206: 'prepared', 1207: 'oauth', 1208: 'bound', 1209: 'duplicates', 1210: '30', 1211: 'datatables', 1212: 'w', 1213: 'jvm', 1214: 'uiscrollview', 1215: 'occurred', 1216: 'connections', 1217: 'encryption', 1218: 'yii2', 1219: 'collections', 1220: 'creation', 1221: 'bottom', 1222: 'mvc3', 1223: 'ngrepeat', 1224: 'ide', 1225: 'minutes', 1226: 'counting', 1227: 'processes', 1228: 'prototype', 1229: 'fit', 1230: 'several', 1231: 'job', 1232: 'sessions', 1233: 'phpunit', 1234: 'tasks', 1235: 'profile', 1236: 'looping', 1237: 'annotations', 1238: 'paypal', 1239: 'equals', 1240: 'projects', 1241: 'blocks', 1242: 'production', 1243: 'img', 1244: 'var', 1245: 'present', 1246: 'bitmap', 1247: 'backbone', 1248: 'prompt', 1249: 'incompatible', 1250: '32', 1251: 'resolved', 1252: 'initializing', 1253: 'automatic', 1254: 'linking', 1255: 'account', 1256: 'usercontrol', 1257: 'comments', 1258: 'exec', 1259: 'textfield', 1260: 'info', 1261: 'infinite', 1262: 'increase', 1263: 'upon', 1264: 'amount', 1265: 'original', 1266: 'operations', 1267: 'separated', 1268: 'rvm', 1269: 'uiwebview', 1270: 'debugger', 1271: 'fragment', 1272: 'together', 1273: 'submitting', 1274: 'related', 1275: 'nullpointerexception', 1276: 'crystal', 1277: 'routes', 1278: 'disabled', 1279: 'websocket', 1280: 'literal', 1281: 'syntaxerror', 1282: 'conditions', 1283: 'derived', 1284: 'common', 1285: 'jsonnet', 1286: 'absolute', 1287: 'places', 1288: 'members', 1289: 'aspx', 1290: 'unhandled', 1291: 'markers', 1292: 'ef', 1293: 'gets', 1294: 'uiimageview', 1295: 'logged', 1296: 'step', 1297: 'small', 1298: 'im', 1299: 'uses', 1300: 'transparent', 1301: 'encode', 1302: 'onchange', 1303: 'offset', 1304: 'behaviour', 1305: 'displayed', 1306: 'horizontal', 1307: 'kendo', 1308: 'inputs', 1309: 'posting', 1310: 'azure', 1311: 'storyboard', 1312: 'ionic', 1313: 'fault', 1314: 'pop', 1315: 'garbage', 1316: 'multithreading', 1317: 'nothing', 1318: 'fail', 1319: 'paths', 1320: 'exactly', 1321: 'hiding', 1322: 'schema', 1323: 'association', 1324: 'instantiate', 1325: 'average', 1326: 'meteor', 1327: 'attributeerror', 1328: '31', 1329: 'builder', 1330: 'entries', 1331: '100', 1332: 'much', 1333: 'resizing', 1334: 'factory', 1335: 'fine', 1336: 'uiimage', 1337: 'vertical', 1338: 'sign', 1339: 'chat', 1340: 'd3js', 1341: 'encoded', 1342: 'td', 1343: 'validating', 1344: 'sorted', 1345: 'jni', 1346: 'deploying', 1347: 'assigning', 1348: 'b', 1349: 'sheet', 1350: 'highlight', 1351: 'xampp', 1352: 'distinct', 1353: 'architecture', 1354: 'li', 1355: 'manager', 1356: 'refreshing', 1357: 'live', 1358: 'updated', 1359: 'ids', 1360: '11', 1361: 'actual', 1362: 'drive', 1363: 'editing', 1364: 'helper', 1365: 'distance', 1366: 'cron', 1367: 'normal', 1368: 'hours', 1369: 'three', 1370: '_post', 1371: 'concatenate', 1372: 'keeping', 1373: 'bug', 1374: 'efficiently', 1375: 'viewmodel', 1376: 'total', 1377: 'deprecated', 1378: 'phpmyadmin', 1379: 'importerror', 1380: 'xamarin', 1381: 'struts', 1382: 'libgdx', 1383: 'params', 1384: 'looking', 1385: 'computer', 1386: 'lazy', 1387: 'mockito', 1388: 'war', 1389: 'repeater', 1390: 'release', 1391: 'lib', 1392: 'breaks', 1393: 'made', 1394: 'uitextfield', 1395: 'firebase', 1396: 'woocommerce', 1397: 'splitting', 1398: 'pairs', 1399: 'printf', 1400: 'transfer', 1401: '81', 1402: 'requested', 1403: 'codebehind', 1404: 'pygame', 1405: 'eval', 1406: 'dict', 1407: 'constraint', 1408: 'nsarray', 1409: 'uilabel', 1410: 'threejs', 1411: 'encrypt', 1412: 'settimeout', 1413: 'span', 1414: 'jdk', 1415: 'struts2', 1416: 'itext', 1417: 'reports', 1418: 'str', 1419: 'category', 1420: 'world', 1421: 'though', 1422: 'anything', 1423: 'orm', 1424: 'initial', 1425: 'hadoop', 1426: 'structs', 1427: 'press', 1428: 'old', 1429: 'thrown', 1430: 'httpclient', 1431: 'scale', 1432: 'threading', 1433: 'actually', 1434: 'management', 1435: 'nsmutablearray', 1436: 'never', 1437: 'generation', 1438: 'exclude', 1439: 'redirecting', 1440: 'fire', 1441: 'components', 1442: 'analytics', 1443: 'packages', 1444: 'sets', 1445: 'rectangle', 1446: 'cause', 1447: '2013', 1448: 'detection', 1449: 'plotting', 1450: 'started', 1451: 'forward', 1452: 'picture', 1453: 'register', 1454: 'platform', 1455: 'devices', 1456: 'referenced', 1457: 'slide', 1458: 'frames', 1459: 'plain', 1460: 'symbols', 1461: 'sub', 1462: 'skip', 1463: 'unrecognized', 1464: 'segmentation', 1465: 'feed', 1466: 'scraping', 1467: 'stdstring', 1468: 'xmlhttprequest', 1469: 'home', 1470: 'details', 1471: 'multiprocessing', 1472: 'converted', 1473: 'sound', 1474: 'pressed', 1475: 'newline', 1476: 'circle', 1477: 'approach', 1478: 'extending', 1479: 'g++', 1480: 'socketio', 1481: 'versions', 1482: 'cpu', 1483: 'charts', 1484: 'done', 1485: 'really', 1486: 'cancel', 1487: 'folders', 1488: 'dimensional', 1489: 'cmake', 1490: 'round', 1491: 'pycharm', 1492: 'histogram', 1493: 'zone', 1494: 'paperclip', 1495: 'ignoring', 1496: 'readonly', 1497: 'final', 1498: 'mfc', 1499: 'media', 1500: 'destroy', 1501: 'weird', 1502: 'got', 1503: 'groups', 1504: 'ie9', 1505: 'inject', 1506: 'easiest', 1507: 'ways', 1508: 'shiny', 1509: 'interfaces', 1510: 'phpexcel', 1511: 'refused', 1512: 'floating', 1513: 'await', 1514: 'picker', 1515: 'gson', 1516: 'restrict', 1517: 'verify', 1518: 'please', 1519: 'rename', 1520: 'violation', 1521: 'vectors', 1522: 'spark', 1523: 'reduce', 1524: 'min', 1525: '64bit', 1526: 'included', 1527: 'tools', 1528: 'least', 1529: 'uiviewcontroller', 1530: 'permissions', 1531: 'populating', 1532: 'migration', 1533: 'initialized', 1534: 'functionality', 1535: 'colour', 1536: '9', 1537: 'odd', 1538: 'overloading', 1539: 'eloquent', 1540: 'runs', 1541: 'disabling', 1542: 'patterns', 1543: 'overlay', 1544: 'hyperlink', 1545: 'wrap', 1546: 'aws', 1547: 'dot', 1548: 'according', 1549: 'malloc', 1550: 'occurrences', 1551: 'taking', 1552: 'swt', 1553: 'clients', 1554: 'wrapper', 1555: 'layer', 1556: 'expects', 1557: 'listt', 1558: 'mp3', 1559: 'knockout', 1560: 'dictionaries', 1561: 'digit', 1562: 'rgb', 1563: 'transition', 1564: 'pyqt', 1565: 'brackets', 1566: 'uninitialized', 1567: 'randomly', 1568: 'nsdictionary', 1569: 'jstl', 1570: 'learn', 1571: '64', 1572: '35', 1573: 'extensions', 1574: 'makefile', 1575: 'ienumerable', 1576: 'pause', 1577: 'differences', 1578: 'beans', 1579: 'explicit', 1580: 'none', 1581: 'easy', 1582: 'may', 1583: 'written', 1584: 'saved', 1585: 'phpmailer', 1586: 'high', 1587: 'exact', 1588: 'ok', 1589: 'inserted', 1590: 'locale', 1591: 'doc', 1592: 'recursively', 1593: 'math', 1594: 'rather', 1595: 'git', 1596: 'signalr', 1597: 'photo', 1598: 'front', 1599: 'everything', 1600: 'scanner', 1601: 'posts', 1602: 'closure', 1603: 'reason', 1604: 'also', 1605: 'received', 1606: 'jenkins', 1607: 'appconfig', 1608: 'hour', 1609: 'confirm', 1610: 'wsdl', 1611: 'unsupported', 1612: 'calculation', 1613: 'preg_match', 1614: 'documents', 1615: 'happens', 1616: 'identity', 1617: 'uicollectionview', 1618: 'appending', 1619: 'learning', 1620: 'precision', 1621: 'signal', 1622: 'registry', 1623: 'counter', 1624: 'week', 1625: 'known', 1626: 'valueerror', 1627: 'lookup', 1628: 'textboxes', 1629: 'localstorage', 1630: 'comment', 1631: 'logic', 1632: 'feature', 1633: 'chars', 1634: 'inherited', 1635: 'glassfish', 1636: 'padding', 1637: 'master', 1638: 'referenceerror', 1639: 'align', 1640: 'lost', 1641: 'additional', 1642: 'prefix', 1643: 'chartjs', 1644: 'restart', 1645: 'c++11', 1646: 'deployment', 1647: 'webconfig', 1648: 'pythons', 1649: 'iteration', 1650: 'percentage', 1651: 'terminal', 1652: 'submission', 1653: 'arduino', 1654: 'merging', 1655: 'online', 1656: 'nonobject', 1657: 'makes', 1658: 'jsoup', 1659: 'pool', 1660: 'constants', 1661: 'implicit', 1662: 'transform', 1663: 'ldap', 1664: '27', 1665: 'optimize', 1666: 'sharing', 1667: 'emails', 1668: 'enums', 1669: 'thumbnail', 1670: 'underscore', 1671: 'beginning', 1672: 'square', 1673: 'postgres', 1674: 'fancybox', 1675: 'pil', 1676: 'tensorflow', 1677: 'cordova', 1678: 'constraints', 1679: 'innerhtml', 1680: 'md5', 1681: 'combo', 1682: 'dojo', 1683: 'javalangnoclassdeffounderror', 1684: 'direct', 1685: 'uitextview', 1686: 'pure', 1687: 'clean', 1688: 'graphics', 1689: 'purpose', 1690: 'fetching', 1691: 'bash', 1692: 'completely', 1693: 'simulate', 1694: 'unresolved', 1695: 'arc', 1696: 'updates', 1697: 'obtain', 1698: 'p', 1699: 'concurrent', 1700: 'rewrite', 1701: 'manytomany', 1702: 'deserializing', 1703: 'naming', 1704: 'launch', 1705: 'moq', 1706: 'identify', 1707: 'linker', 1708: 'upgrade', 1709: 'mouseover', 1710: 'modified', 1711: 'fade', 1712: 'dd', 1713: 'reloading', 1714: 'confusion', 1715: 'figure', 1716: 'eg', 1717: '24', 1718: 'polygon', 1719: 'exporting', 1720: 'mismatch', 1721: 'pixel', 1722: 'scanf', 1723: 'queryset', 1724: 'rotation', 1725: 'sqlite3', 1726: 'rules', 1727: 'kernel', 1728: 'greater', 1729: 'signature', 1730: 'explain', 1731: 'sample', 1732: 'legend', 1733: 'init', 1734: 'bin', 1735: 'adapter', 1736: 'latitude', 1737: 'longitude', 1738: 'preg_replace', 1739: 'well', 1740: 'grouping', 1741: 'cli', 1742: 'streaming', 1743: 'track', 1744: 'declaring', 1745: 'black', 1746: 'interop', 1747: 'openssl', 1748: 'parts', 1749: 'notifications', 1750: 'subset', 1751: 'nokogiri', 1752: 'startup', 1753: 'short', 1754: 'locate', 1755: 'hello', 1756: 'orientation', 1757: 'protected', 1758: 'connected', 1759: 'mm', 1760: 'managed', 1761: 'player', 1762: 'includes', 1763: 'versus', 1764: 'stdout', 1765: 'nunit', 1766: 'deserialization', 1767: 'relation', 1768: 'wamp', 1769: 'modifying', 1770: 'footer', 1771: 'general', 1772: 'multithreaded', 1773: 'individual', 1774: 'assets', 1775: 'opencart', 1776: 'theme', 1777: 'richtextbox', 1778: 'jasmine', 1779: 'pair', 1780: 'ready', 1781: 'compiled', 1782: 'xsd', 1783: 'notation', 1784: 'contact', 1785: 'coding', 1786: 'either', 1787: 'operators', 1788: '16', 1789: 'plus', 1790: 'customize', 1791: 'executed', 1792: 'combining', 1793: 'stdin', 1794: 'milliseconds', 1795: 'backend', 1796: 'cart', 1797: 'hangs', 1798: 'httpwebrequest', 1799: 'finished', 1800: 'editable', 1801: 'allocated', 1802: 'transactions', 1803: 'broken', 1804: 'couldnt', 1805: 'manage', 1806: 'actions', 1807: 'howto', 1808: 'documentation', 1809: 'clicks', 1810: 'calculator', 1811: 'integrate', 1812: 'price', 1813: 'lxml', 1814: 'products', 1815: 'bluetooth', 1816: 'hashes', 1817: 'multiline', 1818: 'oop', 1819: 'setinterval', 1820: 'confirmation', 1821: 'implicitly', 1822: 'serializing', 1823: 'wxpython', 1824: 'understand', 1825: 'highlighting', 1826: 'opened', 1827: 'simulator', 1828: 'switching', 1829: 'loads', 1830: 'preview', 1831: 'threadsafe', 1832: 'circular', 1833: 'occurrence', 1834: 'plots', 1835: 'boxes', 1836: 'whitespace', 1837: 'matlab', 1838: 'inputstream', 1839: 'formatted', 1840: 'criteria', 1841: 'rule', 1842: 'observable', 1843: 'attachment', 1844: 'recognized', 1845: 'mono', 1846: 'ee', 1847: 'json_encode', 1848: 'yyyy', 1849: 'resultset', 1850: 'namespaces', 1851: 'longer', 1852: 'resolution', 1853: 'spreadsheet', 1854: 'completion', 1855: 'examples', 1856: 'associative', 1857: 'groovy', 1858: 'jpeg', 1859: 'setter', 1860: 'reactjs', 1861: 'phps', 1862: 'cucumber', 1863: 'look', 1864: 'databases', 1865: 'constructors', 1866: 'nsdata', 1867: 'ejb', 1868: 'enabled', 1869: 'subprocess', 1870: 'provide', 1871: 'putting', 1872: 'querystring', 1873: 'screenshot', 1874: 'finish', 1875: 'allocation', 1876: 'scrollbar', 1877: 'jaxrs', 1878: 'gdb', 1879: 'mingw', 1880: 'mongoose', 1881: 'fired', 1882: 'jbutton', 1883: 'seems', 1884: 'currently', 1885: 'detected', 1886: 'disk', 1887: 'arrow', 1888: 'latest', 1889: 'triggered', 1890: 'databinding', 1891: 'emberjs', 1892: 'cloud', 1893: 'simplexml', 1894: 'promise', 1895: 'arbitrary', 1896: 'implemented', 1897: 'elegant', 1898: 'shape', 1899: 'multiply', 1900: 'swipe', 1901: 'querying', 1902: 'scala', 1903: 'invoking', 1904: 'positive', 1905: 'linear', 1906: 'bounds', 1907: 'slash', 1908: 'datatype', 1909: 'knockoutjs', 1910: 'initializer', 1911: 'callbacks', 1912: 'capistrano', 1913: 'choose', 1914: 'developer', 1915: 'multipart', 1916: 'defining', 1917: 'jpg', 1918: 'fullcalendar', 1919: 'cors', 1920: 'outlook', 1921: 'along', 1922: 'needs', 1923: 'videos', 1924: 'tinymce', 1925: 'asynchronously', 1926: 'clickable', 1927: 'replacement', 1928: 'relationships', 1929: 'onload', 1930: 'jaxws', 1931: 'separator', 1932: 'yes', 1933: 'textview', 1934: 'jtextfield', 1935: 'nsdate', 1936: 'frameworks', 1937: '45', 1938: 'fork', 1939: 'rsa', 1940: 'party', 1941: 'pixels', 1942: 'capybara', 1943: 'ssh', 1944: 'c#net', 1945: 'sure', 1946: 'outer', 1947: 'metadata', 1948: 'seem', 1949: 'twig', 1950: 'super', 1951: 'manipulation', 1952: 'metro', 1953: 'meaning', 1954: 'hook', 1955: 'utc', 1956: 'third', 1957: 'decrypt', 1958: 'servers', 1959: 'composer', 1960: 'usb', 1961: 'trailing', 1962: 'country', 1963: 'attach', 1964: '#', 1965: 'catching', 1966: 'paste', 1967: 'adonet', 1968: 'logger', 1969: 'registration', 1970: 'recognize', 1971: 'pipe', 1972: 'gems', 1973: 'coffeescript', 1974: 'simplest', 1975: 'openmp', 1976: 'backgroundworker', 1977: 'appears', 1978: 'wrapping', 1979: 'mark', 1980: 'hashtable', 1981: 'raise', 1982: 'vaadin', 1983: 'specifying', 1984: 'validator', 1985: 'aes', 1986: 'bindings', 1987: 'liststring', 1988: '50', 1989: 'pack', 1990: 'monitor', 1991: 'aggregate', 1992: 'br', 1993: '51', 1994: '17', 1995: 'union', 1996: 'carousel', 1997: 'scipy', 1998: 'tuples', 1999: 'realtime', 2000: 'xaxis', 2001: 'referencing', 2002: 'applied', 2003: 'wicket', 2004: 'automapper', 2005: 'collision', 2006: 'sometimes', 2007: 'toolbar', 2008: 'months', 2009: 'rid', 2010: 'filling', 2011: 'preprocessor', 2012: 'clipboard', 2013: 'redis', 2014: 'overflow', 2015: 'lucene', 2016: 'card', 2017: 'structures', 2018: 'nameerror', 2019: 'jlabel', 2020: 'preserve', 2021: 'dataframes', 2022: 'playing', 2023: 'celery', 2024: 'built', 2025: 'viewcontroller', 2026: '25', 2027: 'ffmpeg', 2028: 'slower', 2029: 'powershell', 2030: 'tostring', 2031: 'persist', 2032: 'regexp', 2033: 'groupby', 2034: 'requirejs', 2035: 'pc', 2036: 'dealing', 2037: '13', 2038: 'reader', 2039: 'alphanumeric', 2040: 'mocking', 2041: 'region', 2042: 'preventing', 2043: '15', 2044: 'developing', 2045: 'successful', 2046: 'escaping', 2047: 'stopped', 2048: 'expand', 2049: 'segue', 2050: 'codes', 2051: 'rmi', 2052: 'stuck', 2053: 'going', 2054: 'nan', 2055: 'mongoid', 2056: 'crm', 2057: 'callable', 2058: 'entered', 2059: 'optimization', 2060: 'passenger', 2061: 'interactive', 2062: 'alternatives', 2063: 'sms', 2064: 'dependent', 2065: 'wildcard', 2066: 'logout', 2067: 'es6', 2068: 'serializable', 2069: 'sinatra', 2070: 'angular2', 2071: 'redirection', 2072: 'minimum', 2073: 'subtract', 2074: 'immediately', 2075: 'serverside', 2076: 'styles', 2077: 'smooth', 2078: 'middle', 2079: 'builtin', 2080: 'websphere', 2081: 'mongo', 2082: 'necessary', 2083: 'triangle', 2084: 'head', 2085: 'primitive', 2086: 'ensure', 2087: 'overload', 2088: 'repeat', 2089: '12', 2090: 'ordering', 2091: 'devexpress', 2092: 'synchronous', 2093: 'has_many', 2094: 'description', 2095: 'destructor', 2096: 'odbc', 2097: 'imageview', 2098: 'expecting', 2099: 'mssql', 2100: 'comprehension', 2101: 'interval', 2102: 'exchange', 2103: 'leaflet', 2104: 'software', 2105: 'camel', 2106: 'io', 2107: 'anyone', 2108: 'onetomany', 2109: 'continue', 2110: 'locking', 2111: 'objc', 2112: 'indexes', 2113: 'maintain', 2114: 'leading', 2115: 'jinja2', 2116: 'zf2', 2117: 'notice', 2118: 'adjust', 2119: 'terminate', 2120: 'compatible', 2121: 'mask', 2122: 'construct', 2123: 'ints', 2124: 'losing', 2125: 'ie7', 2126: 'realm', 2127: 'polymorphism', 2128: 'repeating', 2129: 'lowercase', 2130: '2015', 2131: 'suitable', 2132: 'casperjs', 2133: 'tornado', 2134: 'avoiding', 2135: 'indices', 2136: 'ignored', 2137: 'overwrite', 2138: 'delegates', 2139: 'ul', 2140: 'categories', 2141: 'clone', 2142: 'questions', 2143: 'vertically', 2144: 'bars', 2145: 'webclient', 2146: 'scan', 2147: 'hosting', 2148: 'allocate', 2149: 'payment', 2150: 'pull', 2151: 'strip', 2152: 'listen', 2153: 'accessible', 2154: 'csrf', 2155: 'follow', 2156: 'css3', 2157: 'applying', 2158: 'filters', 2159: 'quote', 2160: 'weblogic', 2161: 'widgets', 2162: 'configuring', 2163: 'nonetype', 2164: 'associated', 2165: 'errno', 2166: 'kill', 2167: 'clientside', 2168: 'rendered', 2169: '14', 2170: 'e', 2171: 'handlers', 2172: 'enabling', 2173: 'divide', 2174: 'aborted', 2175: 'ad', 2176: 'universal', 2177: 'accordion', 2178: 'servlets', 2179: 'performing', 2180: 'hql', 2181: 'emacs', 2182: 'emulator', 2183: 'credentials', 2184: 'completed', 2185: 'sencha', 2186: 'decryption', 2187: 'manifest', 2188: 'websites', 2189: 'someone', 2190: 'auth', 2191: 'crud', 2192: 'starts', 2193: 'beginner', 2194: 'apple', 2195: 'delimited', 2196: 'consecutive', 2197: 'rss', 2198: 'updatepanel', 2199: 'directories', 2200: 'cuda', 2201: 'hexadecimal', 2202: 'crop', 2203: 'reporting', 2204: 'crashing', 2205: 'deep', 2206: 'styling', 2207: 'uinavigationcontroller', 2208: 'pie', 2209: 'perl', 2210: 'smaller', 2211: 'nonstatic', 2212: 'authorization', 2213: 'cxf', 2214: 'javalangnullpointerexception', 2215: 'expressjs', 2216: 'locally', 2217: 'alias', 2218: 'testng', 2219: 'sprite', 2220: 'readable', 2221: 'caused', 2222: 'jre', 2223: 'tutorials', 2224: 'windowopen', 2225: 'slice', 2226: 'plugins', 2227: 'haml', 2228: 'extends', 2229: 'ambiguous', 2230: 'registered', 2231: 'breaking', 2232: 'dimension', 2233: 'larger', 2234: 'translate', 2235: 'ror', 2236: 'log4net', 2237: 'cut', 2238: 'printer', 2239: 'fly', 2240: 'measure', 2241: 'operand', 2242: 'decoding', 2243: 'dplyr', 2244: 'explanation', 2245: '403', 2246: 'timed', 2247: 'exceeded', 2248: 'converter', 2249: '2005', 2250: 'observablecollection', 2251: 'regression', 2252: 'tracking', 2253: 'usr', 2254: 'lua', 2255: 'fullscreen', 2256: 'huge', 2257: 'rotating', 2258: 'respond', 2259: 'strategy', 2260: 'cmd', 2261: 'addresses', 2262: 'underlying', 2263: 'warnings', 2264: 'advantages', 2265: 'carrierwave', 2266: 'produce', 2267: 'displays', 2268: 'navigate', 2269: 'repeated', 2270: 'coordinate', 2271: 'role', 2272: 'standalone', 2273: 'says', 2274: 'continuous', 2275: 'superclass', 2276: 'tr', 2277: 'choice', 2278: 'keyvalue', 2279: 'subview', 2280: 'clang', 2281: 'flag', 2282: 'jms', 2283: 'virtualenv', 2284: 'stdvector', 2285: 'imported', 2286: 'dimensions', 2287: 'excluding', 2288: 'later', 2289: 'xlsx', 2290: 'placeholder', 2291: 'collapse', 2292: 'xdocument', 2293: 'duration', 2294: 'currency', 2295: 'zeros', 2296: 'others', 2297: 'quickly', 2298: 'mutex', 2299: 'commas', 2300: 'grab', 2301: 'older', 2302: 'jfreechart', 2303: 'creator', 2304: 'cms', 2305: 'grouped', 2306: 'triggering', 2307: 'ipython', 2308: 'extended', 2309: '53', 2310: 'guava', 2311: 'shift', 2312: 'attempting', 2313: 'javalangclassnotfoundexception', 2314: 'authenticated', 2315: '3rd', 2316: 'appearing', 2317: 'occurs', 2318: 'twisted', 2319: 'autolayout', 2320: 'gallery', 2321: 'h', 2322: 'reuse', 2323: 'trace', 2324: 'unity3d', 2325: 'worker', 2326: 'ndk', 2327: 'seed', 2328: 'memcached', 2329: 'compute', 2330: 'asset', 2331: 'assigned', 2332: 'corresponding', 2333: 'hierarchy', 2334: 'modelform', 2335: 'floats', 2336: 'encrypted', 2337: 'blocking', 2338: 'quick', 2339: 'priority', 2340: 'vim', 2341: 'foo', 2342: 'meta', 2343: 'v', 2344: 'joda', 2345: 'pythonic', 2346: 'orderby', 2347: 'cygwin', 2348: 'plist', 2349: 'phpini', 2350: 'uialertview', 2351: 'immutable', 2352: 'alignment', 2353: 'closest', 2354: 'shown', 2355: 'apis', 2356: 'capturing', 2357: 'hostname', 2358: 'texture', 2359: 'largest', 2360: '_get', 2361: 'explicitly', 2362: 'spinner', 2363: 'uipickerview', 2364: 'asynctask', 2365: 'lodash', 2366: 'icons', 2367: 'progressbar', 2368: 'horizontally', 2369: 'viewer', 2370: 'contained', 2371: 'bulk', 2372: 'formula', 2373: 'mootools', 2374: 'blocked', 2375: 'activeadmin', 2376: 'beautiful', 2377: '52', 2378: '400', 2379: 'origin', 2380: 'consuming', 2381: 'retain', 2382: 'representation', 2383: 'xslt', 2384: 'visibility', 2385: 'clearing', 2386: 'enough', 2387: 'signed', 2388: 'multiplication', 2389: 'deal', 2390: 'sentence', 2391: 'jndi', 2392: '#define', 2393: 'rounding', 2394: 'various', 2395: 'springboot', 2396: 'simultaneously', 2397: 'tick', 2398: 'conditionally', 2399: 'bundler', 2400: 'subdomain', 2401: 'designer', 2402: 'param', 2403: 'elasticsearch', 2404: 'nsuserdefaults', 2405: 'getter', 2406: '32bit', 2407: 'manipulate', 2408: 'keypress', 2409: 'link_to', 2410: 'synchronization', 2411: 'webpack', 2412: 'frequency', 2413: 'javalangstring', 2414: 'flow', 2415: 'domains', 2416: 'swap', 2417: 'chain', 2418: 'insertion', 2419: 'come', 2420: 'landscape', 2421: 'attempt', 2422: 'mechanize', 2423: 'router', 2424: 'protractor', 2425: 'ce', 2426: 'friends', 2427: 'persistent', 2428: 'mixed', 2429: 'polymer', 2430: 'paragraph', 2431: 'instagram', 2432: 'provided', 2433: 'parentheses', 2434: '54', 2435: 'determining', 2436: 'pymongo', 2437: 'regarding', 2438: 'idle', 2439: 'edittext', 2440: 'netty', 2441: 'ios7', 2442: 'pivot', 2443: 'let', 2444: 'combination', 2445: 'watch', 2446: 'decimals', 2447: 'rstudio', 2448: 'leaks', 2449: 'unchecked', 2450: 'jars', 2451: 'picturebox', 2452: 'keeps', 2453: 'knowing', 2454: 'linkedlist', 2455: 'firebug', 2456: 'handled', 2457: 'appengine', 2458: 'arithmetic', 2459: 'temporary', 2460: '200', 2461: 'sync', 2462: 'photos', 2463: 'installer', 2464: 'shortcut', 2465: 'codeblocks', 2466: 'htmlagilitypack', 2467: 'evaluate', 2468: 'refer', 2469: 'serve', 2470: 'truncated', 2471: 'webapp', 2472: 'downloaded', 2473: 'multiselect', 2474: 'twodimensional', 2475: 'xna', 2476: 'file_get_contents', 2477: 'cases', 2478: 'polymorphic', 2479: 'combinations', 2480: 'streams', 2481: 'dev', 2482: 'sqlstate', 2483: 'compact', 2484: 'detail', 2485: 'pressing', 2486: 'javas', 2487: 'gulp', 2488: 'flip', 2489: 'insensitive', 2490: 'countdown', 2491: 'cgi', 2492: 'win', 2493: 'javadoc', 2494: 'positioning', 2495: '2011', 2496: '41', 2497: '1000', 2498: 'period', 2499: 'ordered', 2500: 'distribution', 2501: 'xib', 2502: 'endpoint', 2503: 'mime', 2504: 'inherit', 2505: 'programs', 2506: 'away', 2507: 'history', 2508: 'levels', 2509: 'thumbnails', 2510: 'navbar', 2511: 'vm', 2512: 'sensitive', 2513: 'obj', 2514: 'codec', 2515: 'light', 2516: 'ifelse', 2517: 'disappear', 2518: 'stops', 2519: 'independent', 2520: 'integrating', 2521: 'dump', 2522: 'ends', 2523: 'phantomjs', 2524: 'draggable', 2525: 'workbook', 2526: 'communicate', 2527: 'creates', 2528: 'gzip', 2529: 'elastic', 2530: 'paging', 2531: 'bold', 2532: 'edge', 2533: 'jsonp', 2534: 'formats', 2535: 'composite', 2536: 'dlls', 2537: 'pyqt4', 2538: 'commit', 2539: 'linkedin', 2540: 'boostasio', 2541: 'implements', 2542: 'menus', 2543: 'imap', 2544: 'tried', 2545: 'frontend', 2546: 'allowing', 2547: 'intellisense', 2548: 'mapped', 2549: 'sources', 2550: 'odata', 2551: 'vs2010', 2552: 'safety', 2553: 'ember', 2554: 'classnotfoundexception', 2555: 'jsonparse', 2556: 'momentjs', 2557: '21', 2558: 'checkout', 2559: 'jasper', 2560: 'synchronized', 2561: 'cpp', 2562: 'redirects', 2563: 'jump', 2564: 'nomethoderror', 2565: 'enumeration', 2566: 'recommended', 2567: 'deadlock', 2568: 'limited', 2569: 'features', 2570: 'graphs', 2571: 'cluster', 2572: 'assertion', 2573: 'hard', 2574: 'consume', 2575: 'power', 2576: 'macros', 2577: 'supports', 2578: 'posted', 2579: 'resharper', 2580: 'listeners', 2581: 'webkit', 2582: 'identical', 2583: 'concatenation', 2584: 'preparedstatement', 2585: 'opens', 2586: 'nearest', 2587: 'directives', 2588: 'embedding', 2589: 'longest', 2590: 'gps', 2591: 'channel', 2592: 'cython', 2593: 'functional', 2594: 'pthread', 2595: 'jsonarray', 2596: 'jsonobject', 2597: 'animations', 2598: 'globally', 2599: 'accessed', 2600: 'locked', 2601: 'thing', 2602: 'python3', 2603: 'authenticate', 2604: 'hashing', 2605: '18', 2606: 'ratio', 2607: 'fluent', 2608: 'increasing', 2609: 'outputting', 2610: 'grails', 2611: 'successfully', 2612: 'manual', 2613: 'winrt', 2614: 'handshake', 2615: 'advanced', 2616: 'jade', 2617: 'parents', 2618: 'populated', 2619: 'uninstall', 2620: 'indexing', 2621: 'onto', 2622: 'i18n', 2623: 'afnetworking', 2624: 'fileupload', 2625: 'publish', 2626: 'differently', 2627: 'overloaded', 2628: 'intent', 2629: 'english', 2630: 'anaconda', 2631: 'mat', 2632: 'preserving', 2633: 'yet', 2634: 'threaded', 2635: 'sublime', 2636: 'fires', 2637: '22', 2638: 'attached', 2639: 'raphael', 2640: 'alpha', 2641: 'rails3', 2642: 'sleep', 2643: 'arent', 2644: 'unused', 2645: 'responsive', 2646: 'might', 2647: 'gd', 2648: 'represent', 2649: 'shadow', 2650: 'compress', 2651: 'trim', 2652: 'customer', 2653: 'schedule', 2654: 'memcache', 2655: 'collect', 2656: 'alphabetically', 2657: 'uppercase', 2658: 'backup', 2659: 'invocation', 2660: 'hosted', 2661: 'sprintf', 2662: 'serving', 2663: 'typed', 2664: 'el', 2665: 'imagemagick', 2666: 'concurrency', 2667: 'incomplete', 2668: 'ascending', 2669: 'lower', 2670: 'v2', 2671: 'customizing', 2672: 'select2', 2673: 'uwp', 2674: 'nth', 2675: 'forbidden', 2676: 'unavailable', 2677: 'iso', 2678: 'webinf', 2679: 'nullable', 2680: 'lion', 2681: 'appropriate', 2682: 'localization', 2683: 'configured', 2684: 'djangos', 2685: 'alamofire', 2686: 'javasqlsqlexception', 2687: 'bits', 2688: 'delimiter', 2689: 'roles', 2690: 'rounded', 2691: 'urllib2', 2692: 'soup', 2693: 'factor', 2694: 'maintaining', 2695: 'containers', 2696: 'guid', 2697: 'scrollview', 2698: 'markdown', 2699: 'cocos2d', 2700: 'kivy', 2701: 'thymeleaf', 2702: 'jquerys', 2703: 'iterators', 2704: 'clock', 2705: 'producing', 2706: 'prime', 2707: 'notify', 2708: 'sizes', 2709: 'rate', 2710: 'injecting', 2711: 'textblock', 2712: 'margin', 2713: 'stdmap', 2714: 'ienumerablet', 2715: 'consolelog', 2716: 'mysqldb', 2717: 'yyyymmdd', 2718: 'bubble', 2719: 'javamail', 2720: 'launching', 2721: 'wall', 2722: 'unittest', 2723: 'linqtosql', 2724: 'mq', 2725: 'fragments', 2726: 'multithread', 2727: 'scrape', 2728: 'listing', 2729: 'sections', 2730: 'imports', 2731: 'cs', 2732: 'messagebox', 2733: 'docker', 2734: 'vc++', 2735: 'websockets', 2736: 'mkmapview', 2737: 'foundation', 2738: 'locations', 2739: 'entityframework', 2740: 'matrices', 2741: 'tokens', 2742: 'subclassing', 2743: 'slideshow', 2744: 'turning', 2745: 'concatenating', 2746: 'lightweight', 2747: 'gcm', 2748: 'joining', 2749: 'agility', 2750: '_server', 2751: 'x64', 2752: 'trycatch', 2753: 'suppress', 2754: 'xp', 2755: 'renaming', 2756: 'invoked', 2757: 'unmanaged', 2758: 'temporarily', 2759: 'mapreduce', 2760: 'guice', 2761: 'scene', 2762: 'friendly', 2763: 'leave', 2764: 'igniter', 2765: 'dragging', 2766: 'solr', 2767: 'forcing', 2768: 'greasemonkey', 2769: 'mailer', 2770: 'versa', 2771: 'joins', 2772: 'smallest', 2773: 'people', 2774: 'begin', 2775: 'persistence', 2776: 'supplied', 2777: 'retrieved', 2778: 'eof', 2779: 'improve', 2780: 'belongs_to', 2781: 'entering', 2782: 'fully', 2783: 'accesscontrolalloworigin', 2784: 'retrofit', 2785: 'documentgetelementbyid', 2786: 'safely', 2787: 'kind', 2788: 'gc', 2789: 'dispatcher', 2790: 'shapes', 2791: 'npm', 2792: 'didnt', 2793: 'listening', 2794: 'migrating', 2795: 'yaxis', 2796: 'uncheck', 2797: 'optimizing', 2798: 'stay', 2799: 'prepare', 2800: 'logs', 2801: 'deleted', 2802: 'panels', 2803: 'xxx', 2804: 'underscorejs', 2805: 'autofac', 2806: 'deployed', 2807: 'coredata', 2808: 'layers', 2809: 'despite', 2810: 'oledb', 2811: 'bufferedreader', 2812: 'uploads', 2813: 'redux', 2814: 'depth', 2815: 'complexity', 2816: 'webrtc', 2817: 'iframes', 2818: 'minute', 2819: 'aspect', 2820: 'decorator', 2821: 'gateway', 2822: 'recaptcha', 2823: 'monitoring', 2824: 'positions', 2825: 'pyspark', 2826: 'unexpectedly', 2827: 'grunt', 2828: 'choices', 2829: 'allows', 2830: 'flatten', 2831: 'session_start', 2832: 'centos', 2833: 'indexof', 2834: 'near', 2835: 'webgl', 2836: 'httpurlconnection', 2837: 'commandline', 2838: 'pipeline', 2839: 'resume', 2840: 'bitwise', 2841: 'vuejs', 2842: 'classname', 2843: 'keydown', 2844: 'vice', 2845: 'hierarchical', 2846: 'fabricjs', 2847: 'formdata', 2848: 'github', 2849: 'nltk', 2850: 'conflict', 2851: 'unauthorized', 2852: 'std', 2853: 'jetty', 2854: 'stacked', 2855: 'tap', 2856: 'city', 2857: 'spacing', 2858: 'highest', 2859: 'volume', 2860: 'clickonce', 2861: '2007', 2862: 'generates', 2863: 'quartz', 2864: 'javalangoutofmemoryerror', 2865: 'swf', 2866: 'office', 2867: 'rdlc', 2868: 'crawler', 2869: 'subviews', 2870: 'zooming', 2871: 'interpreter', 2872: 'persisting', 2873: 'eager', 2874: 'beanstalk', 2875: 'ngclick', 2876: 'achieve', 2877: 'liferay', 2878: 'leaving', 2879: 'overlapping', 2880: 'descending', 2881: 'instantiated', 2882: 'automated', 2883: 'convention', 2884: 'jobs', 2885: 'undeclared', 2886: 'xss', 2887: 'compatibility', 2888: 'caught', 2889: 'lots', 2890: 'scalar', 2891: 'evaluating', 2892: 'asmx', 2893: 'effects', 2894: 'automation', 2895: 'blur', 2896: 'ec2', 2897: 'wp7', 2898: 'coming', 2899: 'javautildate', 2900: 'low', 2901: 'val', 2902: '33', 2903: 'accepting', 2904: 'webservices', 2905: 'httppost', 2906: 'crossplatform', 2907: 'angle', 2908: 'confused', 2909: 'means', 2910: 'gradient', 2911: 'mixing', 2912: 'computing', 2913: 'qml', 2914: 'gesture', 2915: 'barplot', 2916: 'javascripts', 2917: 'upgrading', 2918: 'hold', 2919: 'pooling', 2920: 'sites', 2921: 'computers', 2922: 'subfolder', 2923: 'limiting', 2924: 'getelementbyid', 2925: 'terminating', 2926: 'limits', 2927: 'serialized', 2928: 'mod_rewrite', 2929: '61', 2930: 'interview', 2931: 'threadpool', 2932: 'yaml', 2933: 'terminated', 2934: 'recent', 2935: 'broadcast', 2936: 'bypass', 2937: 'pointing', 2938: 'nilnilclass', 2939: 'actionlistener', 2940: '60', 2941: '2nd', 2942: 'indexphp', 2943: 'ternary', 2944: 'recognition', 2945: 'scheduled', 2946: 'develop', 2947: 'gif', 2948: 'till', 2949: 'corrupted', 2950: 'procedures', 2951: 'backing', 2952: 'spec', 2953: 'jscrollpane', 2954: 'builds', 2955: 'onmouseover', 2956: 'typing', 2957: 'colon', 2958: 'finally', 2959: 'wmi', 2960: 'directx', 2961: 'years', 2962: 'closures', 2963: 'scatter', 2964: 'business', 2965: 'encrypting', 2966: 'queues', 2967: 'since', 2968: 'star', 2969: 'logical', 2970: 'book', 2971: 'modifier', 2972: 'reorder', 2973: 'ever', 2974: 'material', 2975: 'direction', 2976: 'msbuild', 2977: 'ranges', 2978: 'stringformat', 2979: 'pm', 2980: 'radiobutton', 2981: 'clr', 2982: 'whose', 2983: 'getjson', 2984: 'animating', 2985: 'loader', 2986: 'z', 2987: 'cached', 2988: 'scheduler', 2989: 'packets', 2990: 'ref', 2991: 'surface', 2992: 'rollback', 2993: 'payload', 2994: 'stylesheet', 2995: 'advice', 2996: 'registering', 2997: '2x', 2998: 'rich', 2999: 'pomxml', 3000: '401', 3001: 'instantiation', 3002: 'fb', 3003: 'indentation', 3004: 'nullreferenceexception', 3005: 'passwords', 3006: 'reached', 3007: 'drawn', 3008: 'diff', 3009: 'higher', 3010: 'stopping', 3011: 'httpget', 3012: 'winapi', 3013: 'doubles', 3014: 'delphi', 3015: 'ports', 3016: 'escaped', 3017: 'encountered', 3018: 'languages', 3019: 'ending', 3020: 'closes', 3021: 'serializer', 3022: 'webserver', 3023: 'managepy', 3024: 'thats', 3025: 'phpfpm', 3026: 'minus', 3027: 'bring', 3028: 'equation', 3029: 'xls', 3030: 'freeze', 3031: 'four', 3032: 'division', 3033: 'incoming', 3034: 'freezes', 3035: 'parsed', 3036: 'benefits', 3037: 'subscript', 3038: 'jumping', 3039: 'jython', 3040: 'restore', 3041: 'keywords', 3042: 'foreignkey', 3043: 'opacity', 3044: 'animated', 3045: 'nstimer', 3046: 'archive', 3047: 'gae', 3048: 'indicator', 3049: 'sliding', 3050: 'expire', 3051: 'dots', 3052: 'hbase', 3053: 'newlines', 3054: 'dbcontext', 3055: 'addition', 3056: 'smarty', 3057: 'pthreads', 3058: 'membership', 3059: 'alive', 3060: 'classic', 3061: 'databind', 3062: 'stand', 3063: 'beta', 3064: 'peer', 3065: 'entitymanager', 3066: 'workaround', 3067: 'braces', 3068: 'dash', 3069: 'dismiss', 3070: '23', 3071: 'paint', 3072: 'goes', 3073: 'hang', 3074: 'fonts', 3075: 'karma', 3076: 'resizable', 3077: 'svn', 3078: 'followed', 3079: 'ibm', 3080: 'indent', 3081: 'processed', 3082: 'dns', 3083: 'hit', 3084: 'javalangillegalstateexception', 3085: '34', 3086: 'filled', 3087: 'elapsed', 3088: 'datacontext', 3089: 'choosing', 3090: 'databound', 3091: 'ie11', 3092: '193', 3093: 'scripting', 3094: 'easily', 3095: 'parameterized', 3096: 'intersection', 3097: 'ngmodel', 3098: 'triggers', 3099: 'owin', 3100: 'conventions', 3101: 'shopping', 3102: 'mocha', 3103: 'org', 3104: 'marks', 3105: 'human', 3106: 'powerpoint', 3107: 'alphabetical', 3108: 'migrate', 3109: 'coverage', 3110: 'consumer', 3111: 'dialogs', 3112: 'pushing', 3113: 'attr', 3114: 'happen', 3115: 'openlayers', 3116: 'dropbox', 3117: 'protobuf', 3118: 'toolkit', 3119: 'training', 3120: '1d', 3121: '302', 3122: 'states', 3123: 'equality', 3124: 'steps', 3125: 'utility', 3126: 'loaderror', 3127: 'selectors', 3128: 'writer', 3129: 'truncate', 3130: 'incrementing', 3131: 'useful', 3132: 'explode', 3133: 'protect', 3134: '000', 3135: 'wildcards', 3136: 'formatter', 3137: 'na', 3138: 'disappears', 3139: 'webmethod', 3140: 'answer', 3141: 'score', 3142: 'runnable', 3143: 'valgrind', 3144: 'today', 3145: 'synchronize', 3146: 'infowindow', 3147: 'sass', 3148: 'jqueryui', 3149: 'mod_wsgi', 3150: 'jqueryajax', 3151: 'sessionfactory', 3152: 'tls', 3153: 'sequences', 3154: 'responding', 3155: 'specifically', 3156: 'g', 3157: 'scheme', 3158: 'removed', 3159: 'newly', 3160: 'considered', 3161: 'applicable', 3162: 'specifier', 3163: 'guide', 3164: 'axes', 3165: 'quit', 3166: '26', 3167: 'stripe', 3168: 'iis7', 3169: 'ff', 3170: 'cocoapods', 3171: 'hitting', 3172: 'cloning', 3173: 'ilist', 3174: 'xamarinforms', 3175: 'springmvc', 3176: 'statistics', 3177: 'submitted', 3178: 'recommend', 3179: 'stringbuilder', 3180: 'efficiency', 3181: 't_string', 3182: 'responses', 3183: 'duplicated', 3184: 'javalangillegalargumentexception', 3185: 'destination', 3186: 'certificates', 3187: '1st', 3188: 'literals', 3189: 'ssis', 3190: 'vba', 3191: 'calculations', 3192: 'cons', 3193: '#include', 3194: 'gtk', 3195: 'telerik', 3196: 'preferred', 3197: 'asio', 3198: 'future', 3199: 'browse', 3200: 'translation', 3201: 'clustering', 3202: 'shutdown', 3203: 'handlebars', 3204: 'quiz', 3205: 'ipn', 3206: 'worksheet', 3207: 'linkbutton', 3208: 'parsecom', 3209: 'suite', 3210: 'maximize', 3211: 'axis2', 3212: 'disadvantages', 3213: '3x', 3214: 'avplayer', 3215: 'apostrophe', 3216: 'javalangclasscastexception', 3217: 'javaioioexception', 3218: 'concat', 3219: 'physical', 3220: 'sparse', 3221: 'pictures', 3222: 'music', 3223: 'mysql_fetch_array', 3224: 'traversal', 3225: 'umbraco', 3226: 'masterpage', 3227: 'json_decode', 3228: 'unless', 3229: 'social', 3230: 'conflicting', 3231: 'remotely', 3232: 'datastore', 3233: 'desired', 3234: 'dollar', 3235: 'dispose', 3236: 'downloads', 3237: 'uirouter', 3238: 'memorystream', 3239: 'scenario', 3240: 'bucket', 3241: 'segment', 3242: 'mpi', 3243: 'anchors', 3244: 'interpreted', 3245: 'restkit', 3246: 'es', 3247: 'datetimepicker', 3248: 'appended', 3249: 'corners', 3250: 'matched', 3251: 'stretch', 3252: 'acceptable', 3253: 'h2', 3254: 'connector', 3255: '43', 3256: 'artifact', 3257: 'typefile', 3258: 'magic', 3259: 'uitableviewcells', 3260: 'manytoone', 3261: 'gone', 3262: 'underscores', 3263: 'produces', 3264: 'recognizing', 3265: 'continuously', 3266: 'customized', 3267: 'filenames', 3268: 'weeks', 3269: 'occured', 3270: 'ask', 3271: 'evaluation', 3272: 'writes', 3273: 'arabic', 3274: 'packet', 3275: 'benefit', 3276: 'kit', 3277: 'fscanf', 3278: 'pipes', 3279: 'cipher', 3280: 'overwriting', 3281: 'mvc5', 3282: 'wifi', 3283: 'marked', 3284: 'associations', 3285: 'mpmovieplayercontroller', 3286: 'kafka', 3287: 'verification', 3288: 'modern', 3289: 'doxygen', 3290: 'controlling', 3291: 'ext', 3292: 'reliable', 3293: 'scikitlearn', 3294: 'incorrectly', 3295: 'abort', 3296: 'modification', 3297: 'initializers', 3298: 'assert', 3299: 'doctrine2', 3300: 'classs', 3301: 'designing', 3302: 'ago', 3303: 'ive', 3304: 'bracket', 3305: '55', 3306: 'geolocation', 3307: 'datatemplate', 3308: 'descriptor', 3309: 'scopes', 3310: 'db2', 3311: 'manipulating', 3312: 'degrees', 3313: 'scrollable', 3314: 'exited', 3315: 'portable', 3316: 'charset', 3317: 'classloader', 3318: 'foreground', 3319: 'automate', 3320: 'sheets', 3321: 'nio', 3322: '80', 3323: 'sonar', 3324: 'reasons', 3325: 'servicestack', 3326: 'obtaining', 3327: 'openerp', 3328: 'instantiating', 3329: 'systems', 3330: 'ones', 3331: 'seperate', 3332: 'strict', 3333: 'suffix', 3334: 'compression', 3335: '2003', 3336: 'traffic', 3337: 'extern', 3338: 'unicodeencodeerror', 3339: 'pin', 3340: 'overrides', 3341: 'invisible', 3342: 'thousand', 3343: 'mysql_query', 3344: 'declarations', 3345: 'past', 3346: 'bot', 3347: 'suggestions', 3348: 'slicing', 3349: 'unwanted', 3350: 'knitr', 3351: 'resolving', 3352: 'accuracy', 3353: 'arraylists', 3354: 'managing', 3355: 'advantage', 3356: 'indexed', 3357: 'uisearchbar', 3358: 'alternate', 3359: 'decrypting', 3360: 'pydev', 3361: 'conflicts', 3362: 'remember', 3363: 'rand', 3364: 'helpers', 3365: 'multilevel', 3366: '42', 3367: 'upper', 3368: 'proguard', 3369: 'corner', 3370: 'compilers', 3371: 'phpstorm', 3372: 'nsurlconnection', 3373: 'interaction', 3374: 'keyup', 3375: 'executes', 3376: 'epoch', 3377: 'pyside', 3378: '_session', 3379: 'xsl', 3380: 'unload', 3381: 'listobject', 3382: 'expired', 3383: 'located', 3384: 'gdi+', 3385: 'analysis', 3386: 'j2me', 3387: 'annotated', 3388: 'interrupt', 3389: 'radius', 3390: 'visualization', 3391: 'wrapped', 3392: 'suddenly', 3393: 'isset', 3394: 'slashes', 3395: 'electron', 3396: 'simple_form', 3397: 'dealloc', 3398: 'intercept', 3399: 'autowired', 3400: 'summary', 3401: 'comes', 3402: 'varchar', 3403: 'py', 3404: '405', 3405: 'noclassdeffounderror', 3406: 'calayer', 3407: 'xmlserializer', 3408: 'percent', 3409: 'sender', 3410: 'definitions', 3411: 'segfault', 3412: 'grey', 3413: 'inheriting', 3414: 'respect', 3415: 'typedef', 3416: 'localized', 3417: 'highchart', 3418: 'k', 3419: 'lat', 3420: 'wildfly', 3421: 'effective', 3422: 'indexhtml', 3423: 'chaining', 3424: 'pros', 3425: 'f', 3426: 'pulling', 3427: 'inserts', 3428: 'zindex', 3429: 'php5', 3430: 'offline', 3431: 'reusing', 3432: 'newbie', 3433: 'webforms', 3434: 'us', 3435: 'little', 3436: 'semicolon', 3437: 'tail', 3438: 'flush', 3439: 'red', 3440: 'looks', 3441: 'hive', 3442: 'mp4', 3443: '_', 3444: 'printed', 3445: 'promises', 3446: 'pojo', 3447: 'placed', 3448: 'xelement', 3449: 'interpolation', 3450: 'tmp', 3451: 'connectionstring', 3452: 'rectangles', 3453: 'boundary', 3454: 'iqueryable', 3455: 'splash', 3456: 'curly', 3457: 'resized', 3458: 'vs2008', 3459: 'operands', 3460: 'beyond', 3461: 'malformed', 3462: 'mix', 3463: 'internally', 3464: 'remaining', 3465: 'activemq', 3466: 'mamp', 3467: 'chunk', 3468: 'computed', 3469: 'posix', 3470: 'threw', 3471: 'transient', 3472: 'ignores', 3473: 'refactoring', 3474: 'unicodedecodeerror', 3475: 'construction', 3476: 'backslash', 3477: 'focused', 3478: 'pom', 3479: 'erase', 3480: 'simply', 3481: 'specification', 3482: 'subdomains', 3483: 'mdb', 3484: 'establish', 3485: 'overhead', 3486: '_files', 3487: 'activation', 3488: 'tabbar', 3489: 'techniques', 3490: 'pick', 3491: 'contexts', 3492: 'expose', 3493: 'oriented', 3494: 'uinavigationbar', 3495: 'fopen', 3496: 'released', 3497: 'prestashop', 3498: 'hdfs', 3499: 'density', 3500: 'redraw', 3501: 'exercise', 3502: 'previously', 3503: 'processstart', 3504: 'profiling', 3505: 'yield', 3506: 'japanese', 3507: 'restarting', 3508: 'timestamps', 3509: '__init__', 3510: 'popover', 3511: 'curve', 3512: 'minimize', 3513: 'ticks', 3514: 'rabbitmq', 3515: 'crossbrowser', 3516: 'assemblies', 3517: 'crossdomain', 3518: 'ansi', 3519: 'gmt', 3520: 'j2ee', 3521: 'timeline', 3522: 'cycle', 3523: 'todays', 3524: 'salesforce', 3525: 'caller', 3526: 'jmeter', 3527: 'geocoding', 3528: 'overlap', 3529: 'imagefield', 3530: 'rolling', 3531: 'activex', 3532: 'hy000', 3533: 'movie', 3534: 'xmlreader', 3535: 'nesting', 3536: 'mass', 3537: 'seo', 3538: 'javac', 3539: 'aligned', 3540: 'existence', 3541: 'sidebar', 3542: 'integral', 3543: 'traverse', 3544: 'transformation', 3545: 'scrolled', 3546: 'solutions', 3547: 'seen', 3548: 'tips', 3549: 'textfile', 3550: 'msvc', 3551: 'integrity', 3552: 'quality', 3553: 'unordered', 3554: 'windowlocation', 3555: 'googles', 3556: 'visitors', 3557: 'chinese', 3558: 'rewriting', 3559: '19', 3560: 'migrations', 3561: 'flat', 3562: 'anyway', 3563: 'redirected', 3564: 'contenttype', 3565: 'sized', 3566: 'nsinvalidargumentexception', 3567: 'fadein', 3568: 'x86_64', 3569: 'messaging', 3570: 'spritekit', 3571: 'term', 3572: 'tile', 3573: 'vs2012', 3574: 'representing', 3575: 'degree', 3576: 'hhmmss', 3577: 'ioexception', 3578: 'uploader', 3579: 'permutations', 3580: 'movement', 3581: 'subprocesspopen', 3582: 'apk', 3583: 'actionscript', 3584: 'implementations', 3585: 'algorithms', 3586: 'scaling', 3587: 'correlation', 3588: 'supposed', 3589: 'systemstring', 3590: 'imshow', 3591: 'recording', 3592: 'separately', 3593: 'viewport', 3594: 'vsto', 3595: 'accurate', 3596: 'ninject', 3597: 'supporting', 3598: 'itemssource', 3599: 'transactional', 3600: 'optimized', 3601: 'culture', 3602: 'env', 3603: 'opencl', 3604: 'docx', 3605: 'storyboards', 3606: 'onetoone', 3607: 'bidirectional', 3608: 'args', 3609: 'paper', 3610: 'substrings', 3611: 'inconsistent', 3612: 'overridden', 3613: 'preference', 3614: 'ocr', 3615: 'stdset', 3616: 'flexible', 3617: 'girl', 3618: 'factorygirl', 3619: 'vbscript', 3620: 'carriage', 3621: 'scientific', 3622: 'raising', 3623: 'forloop', 3624: 'predicate', 3625: 'simultaneous', 3626: 'forever', 3627: 'requiring', 3628: 'resetting', 3629: 'expensive', 3630: 'borders', 3631: 'int32', 3632: 'hanging', 3633: 'predefined', 3634: 'lambdas', 3635: 'navigating', 3636: 'xhtml', 3637: 'mapkit', 3638: 'x86', 3639: 'punctuation', 3640: 'observe', 3641: 'signals', 3642: 'loses', 3643: 'edition', 3644: 'periodically', 3645: 'transport', 3646: 'wav', 3647: 'writable', 3648: 'think', 3649: 'placement', 3650: 'nspredicate', 3651: 'polyline', 3652: 'anyobject', 3653: 'welcome', 3654: 'mathematical', 3655: 'sdl', 3656: 'markup', 3657: 'sends', 3658: 'neural', 3659: 'processor', 3660: 'flags', 3661: 'openshift', 3662: 'demo', 3663: 'sqlcommand', 3664: 'autowire', 3665: 'gb', 3666: 'volley', 3667: 'webcam', 3668: 'textures', 3669: 'nonblocking', 3670: 'cake', 3671: 'taskbar', 3672: 'argumenterror', 3673: 'ios5', 3674: 'javalangnosuchmethoderror', 3675: 'jscript', 3676: 'selects', 3677: 'osgi', 3678: 'mechanism', 3679: 'debian', 3680: 'randomize', 3681: 'retry', 3682: 'facet', 3683: 'digital', 3684: 'jasperreports', 3685: 'wp8', 3686: 'alphabet', 3687: 'uiimagepickercontroller', 3688: 'nib', 3689: 'ssrs', 3690: 'handles', 3691: 'hyphen', 3692: 'combined', 3693: 'intended', 3694: 'subplots', 3695: 'collector', 3696: 'outofmemoryerror', 3697: 'stub', 3698: 'dao', 3699: 'availability', 3700: 'presence', 3701: 'djangorestframework', 3702: 'credit', 3703: 'dirty', 3704: 'policy', 3705: 'varying', 3706: 'aka', 3707: 'associate', 3708: 'samples', 3709: 'jodatime', 3710: 'subfolders', 3711: 'things', 3712: 'transparency', 3713: 'workflow', 3714: 'numerical', 3715: 'vagrant', 3716: 'dynamodb', 3717: 'highlighted', 3718: 'constantly', 3719: 'secret', 3720: 'ddmmyyyy', 3721: 'hack', 3722: 'transpose', 3723: 'accepts', 3724: 'cocos2dx', 3725: 'mainwindow', 3726: '2dimensional', 3727: 'raised', 3728: 'speech', 3729: 'workspace', 3730: 'contacts', 3731: 'windowprint', 3732: 'categorical', 3733: 'uitableviewcontroller', 3734: 'neither', 3735: 'pdfs', 3736: 'addin', 3737: 'news', 3738: 'sqlexception', 3739: 'xy', 3740: '128', 3741: 'age', 3742: 'cards', 3743: 'translating', 3744: 'unserialize', 3745: 'adobe', 3746: 'ram', 3747: 'raphaeljs', 3748: 'wxwidgets', 3749: 'album', 3750: 'subclasses', 3751: 'driven', 3752: 'dispatch', 3753: 'marshalling', 3754: 'attaching', 3755: 'mb', 3756: 'ampersand', 3757: 'simulation', 3758: 'depends', 3759: 'possibly', 3760: 'taken', 3761: 'alone', 3762: 'attack', 3763: 'unbind', 3764: 'webform', 3765: 'preferences', 3766: 'notepad++', 3767: 'middleware', 3768: 'sequentially', 3769: 'placeholders', 3770: 'datalist', 3771: 'holding', 3772: 'nonascii', 3773: 'xmlelement', 3774: 'exc_bad_access', 3775: 'delimiters', 3776: 'chosen', 3777: 'arrows', 3778: 'dbmigrate', 3779: 'asterisk', 3780: 'classcastexception', 3781: 'board', 3782: 'viewing', 3783: 'presses', 3784: 'hashcode', 3785: 'configurable', 3786: 'ideas', 3787: 'tweet', 3788: 'subquery', 3789: 'breakpoint', 3790: 'amounts', 3791: 'subdirectory', 3792: 'alertdialog', 3793: 'polling', 3794: 'jwt', 3795: 'significant', 3796: 'calculated', 3797: 'richfaces', 3798: 'ld', 3799: 'cin', 3800: 'freed', 3801: 'reducing', 3802: 'mappings', 3803: 'pid', 3804: 'breakpoints', 3805: 'az', 3806: 'drawer', 3807: 'guessing', 3808: 'jsonstringify', 3809: 'chunks', 3810: 'dictionarystring', 3811: 'serialport', 3812: 'downgrade', 3813: 'awt', 3814: 'se', 3815: 'partially', 3816: 'scrollbars', 3817: 'effectively', 3818: 'requirements', 3819: 'hardware', 3820: 'webpages', 3821: 'atomic', 3822: 'systemnullreferenceexception', 3823: 'compared', 3824: 'layouts', 3825: 'sortable', 3826: 'ioc', 3827: 'hides', 3828: 'hresult', 3829: 'setters', 3830: 'checkboxlist', 3831: 'mod', 3832: 'although', 3833: 'targets', 3834: 'datarow', 3835: 'asking', 3836: 'ef6', 3837: 'enclosing', 3838: 'deletion', 3839: 'cassandra', 3840: 'ci', 3841: 'xhr', 3842: 'gemfile', 3843: 'subtracting', 3844: 'hovering', 3845: 'homebrew', 3846: 'contextmenu', 3847: 'redirect_to', 3848: 'wants', 3849: 'eclipselink', 3850: 'thousands', 3851: 'grayscale', 3852: 'unsafe', 3853: 'solved', 3854: 'emulate', 3855: 'unset', 3856: 'nuget', 3857: 'leaves', 3858: 'xmpp', 3859: 'qstring', 3860: 'vertex', 3861: 'pad', 3862: 'pi', 3863: 'reversing', 3864: 'viewbag', 3865: 'legacy', 3866: 'pre', 3867: 'feeds', 3868: '90', 3869: 'rank', 3870: 'portion', 3871: 'javanetsocketexception', 3872: 'pdoexception', 3873: 'readline', 3874: 'timespan', 3875: 'frequent', 3876: 'homepage', 3877: 'arm', 3878: 'tooltips', 3879: 'contenteditable', 3880: 'uicollectionviewcell', 3881: 'sailsjs', 3882: 'finishes', 3883: 'disconnect', 3884: 'marshal', 3885: 'svm', 3886: 'trap', 3887: 'official', 3888: 'loss', 3889: 'admob', 3890: 'sequential', 3891: 'releasing', 3892: 'perfect', 3893: 'gstreamer', 3894: 'diagonal', 3895: 'natural', 3896: 'regardless', 3897: 'threadsleep', 3898: 'addeventlistener', 3899: 'stringsplit', 3900: 'onclicklistener', 3901: 'receiver', 3902: 'soft', 3903: 'buffers', 3904: 'nice', 3905: 'argv', 3906: 'mysql2', 3907: 'windowonload', 3908: 'masked', 3909: 'nonzero', 3910: 'immediate', 3911: 'relational', 3912: 'shouldnt', 3913: 'activate', 3914: 'affect', 3915: '1204', 3916: 'platforms', 3917: 'findall', 3918: 'hot', 3919: '192', 3920: 'leopard', 3921: 'drawrect', 3922: 'httpresponse', 3923: 'daemon', 3924: 'discrete', 3925: 'stock', 3926: 'collectionview', 3927: 'ipaddress', 3928: 'emit', 3929: 'usable', 3930: 'swagger', 3931: 'environments', 3932: 'smoothly', 3933: 'pretty', 3934: 'templated', 3935: 'alter', 3936: 'validations', 3937: 'nsdateformatter', 3938: 'wp', 3939: 'suspend', 3940: 'titles', 3941: 'prev', 3942: 'removal', 3943: 'vnext', 3944: 'underline', 3945: 'stackoverflow', 3946: 'act', 3947: 'expect', 3948: 'payments', 3949: 'margins', 3950: 'latex', 3951: 'filesystem', 3952: 'activities', 3953: 'lose', 3954: 'mysqli_query', 3955: 'greek', 3956: 'cpanel', 3957: 'qtcreator', 3958: 'filtered', 3959: 'actively', 3960: 'iterable', 3961: 'multiplying', 3962: 'remain', 3963: 'rubygems', 3964: 'fake', 3965: 'subscribe', 3966: 'identifying', 3967: 'scrolltop', 3968: 'docs', 3969: 'sqlconnection', 3970: 'ppt', 3971: 'disappearing', 3972: '256', 3973: 'elementwise', 3974: 'pyplot', 3975: 'mutable', 3976: 'concept', 3977: 't_variable', 3978: 'pending', 3979: 'observer', 3980: 'reflect', 3981: 'subject', 3982: 'annotate', 3983: 'submenu', 3984: 'directions', 3985: 'aop', 3986: 'consumption', 3987: 'flex', 3988: 'sunday', 3989: 'outline', 3990: 'timeseries', 3991: 'cout', 3992: 'opensource', 3993: 'reply', 3994: 'shortest', 3995: 'operating', 3996: 'decrement', 3997: 'func', 3998: 'spider', 3999: 'sense', 4000: 'circles', 4001: 'license', 4002: 'clojure', 4003: 'anymore', 4004: 'flasksqlalchemy', 4005: 'windsor', 4006: 'fallback', 4007: 'invalidate', 4008: 'administrator', 4009: 'lang', 4010: 'childs', 4011: 'meteorjs', 4012: 'userdefined', 4013: 'reactnative', 4014: 'stanford', 4015: 'outputstream', 4016: 'separating', 4017: 'logon', 4018: 'turned', 4019: 'recyclerview', 4020: '#2', 4021: 'asm', 4022: 'weak', 4023: 'adds', 4024: 'wizard', 4025: 'tpl', 4026: '09', 4027: 'bat', 4028: 'inflating', 4029: 'expanding', 4030: 'pthread_create', 4031: 'interact', 4032: 'glsl', 4033: 'sizeof', 4034: 'crossorigin', 4035: 'itemtemplate', 4036: 'colored', 4037: 'factors', 4038: 'blog', 4039: 'outputs', 4040: 'locks', 4041: 'captured', 4042: 'copied', 4043: 'nsobject', 4044: 'snake', 4045: 'mysql_connect', 4046: 'disposed', 4047: 'lvalue', 4048: 'linearlayout', 4049: 'thirdparty', 4050: 'friend', 4051: 'amp', 4052: 'occur', 4053: 'accepted', 4054: 'producer', 4055: 'chromedriver', 4056: 'happening', 4057: 'httpservletrequest', 4058: 'indexerror', 4059: 'rejected', 4060: 'subdirectories', 4061: 'doubly', 4062: 'getters', 4063: 'five', 4064: 'acquire', 4065: 'blackberry', 4066: 'serversocket', 4067: 'openxml', 4068: 'internationalization', 4069: 'nsurl', 4070: 'rcp', 4071: 'temp', 4072: 'onsubmit', 4073: 'accessor', 4074: 'interest', 4075: 'permitted', 4076: 'sandbox', 4077: 'gray', 4078: 'probability', 4079: 'grammar', 4080: 'sibling', 4081: '__getitem__', 4082: 'timeouts', 4083: 'crontab', 4084: 'distinguish', 4085: 'fan', 4086: 'becomes', 4087: 'lot', 4088: 'acting', 4089: 'wheel', 4090: 'detached', 4091: 'appium', 4092: '16bit', 4093: 'hub', 4094: 'backgroundimage', 4095: 'capitalize', 4096: 'unfortunately', 4097: 'affected', 4098: 'cropping', 4099: 'wide', 4100: 'secured', 4101: 'showdialog', 4102: 'discover', 4103: 'straight', 4104: 'backspace', 4105: 'concrete', 4106: 'segments', 4107: 'refactor', 4108: 'international', 4109: 'pyramid', 4110: 'optimal', 4111: 'backwards', 4112: 'llvm', 4113: 'outofmemoryexception', 4114: 'unmarshalling', 4115: 'communicating', 4116: 'weka', 4117: 'illegalstateexception', 4118: 'mapper', 4119: 'hooks', 4120: 'ascx', 4121: 'receives', 4122: 'visit', 4123: 'street', 4124: 'ws', 4125: 'cstring', 4126: 'comparisons', 4127: 'kml', 4128: 'assignments', 4129: 'preferably', 4130: 'prop', 4131: 'maybe', 4132: 'tfs', 4133: 'legal', 4134: 'profiler', 4135: 'cellforrowatindexpath', 4136: 'chance', 4137: 'www', 4138: 'worth', 4139: '75', 4140: 'djangoadmin', 4141: 'stable', 4142: 'important', 4143: 'say', 4144: 'theres', 4145: 'inspect', 4146: 'bytearray', 4147: 'timing', 4148: 'apns', 4149: 'pyc', 4150: 'java_home', 4151: 'routeprovider', 4152: 'prints', 4153: 'dir', 4154: 'organize', 4155: 'coldfusion', 4156: 'manner', 4157: 'pro', 4158: 'retrieval', 4159: 'cascading', 4160: 'ngshow', 4161: 'couchdb', 4162: 'lengths', 4163: 'corruption', 4164: 'repositories', 4165: 'helloworld', 4166: 'maximized', 4167: '1404', 4168: 'machines', 4169: 'caseinsensitive', 4170: 'lan', 4171: 'stroke', 4172: '__attribute__', 4173: 'cshtml', 4174: 'relations', 4175: 'castle', 4176: 'permutation', 4177: 'delayed', 4178: 'smart', 4179: 'accounts', 4180: 'typetext', 4181: 'usercontrols', 4182: 'strongly', 4183: 'kinect', 4184: 'has_one', 4185: 'represented', 4186: 'timezones', 4187: 'mavericks', 4188: 'comparator', 4189: 'deviation', 4190: 'sys', 4191: 'snap', 4192: 'rect', 4193: 'cascade', 4194: 'grabbing', 4195: 'limitations', 4196: 'stamp', 4197: 'intervals', 4198: 'getelementsbyclassname', 4199: 'yesterday', 4200: 'skipping', 4201: 'unbound', 4202: 'figures', 4203: 'turns', 4204: 'rotated', 4205: 'hyperlinks', 4206: 'newer', 4207: 'repo', 4208: 'clob', 4209: 'placing', 4210: 'didselectrowatindexpath', 4211: 'oserror', 4212: 'dropping', 4213: 'raspberry', 4214: 'enumerate', 4215: 'rubys', 4216: 'scanning', 4217: 'toggling', 4218: 'prototypes', 4219: 'apache2', 4220: 'corrupt', 4221: 'impossible', 4222: 'strcpy', 4223: 'versioning', 4224: 'nonempty', 4225: 'specialization', 4226: 'flickering', 4227: 'reach', 4228: 'viewpager', 4229: 'improving', 4230: 'ear', 4231: 'submits', 4232: 'allocating', 4233: 'edited', 4234: 'meant', 4235: 'stdclass', 4236: 'temperature', 4237: 'forwarding', 4238: '502', 4239: 'person', 4240: '05', 4241: 'barcode', 4242: 'resulting', 4243: 'shorter', 4244: 'require_once', 4245: 'digest', 4246: 'contentlength', 4247: 'parameterless', 4248: 'involving', 4249: 'subtraction', 4250: '36', 4251: 'cost', 4252: 'exposing', 4253: '70', 4254: 'avaudioplayer', 4255: 'slug', 4256: 'constructed', 4257: 'disconnected', 4258: 'among', 4259: 'badge', 4260: 'attempts', 4261: 'ipv6', 4262: 'shell_exec', 4263: 'oauth2', 4264: 'theano', 4265: 'terms', 4266: 'displaynone', 4267: 'parenthesis', 4268: 'j', 4269: 'dynamics', 4270: 'lifecycle', 4271: 'busy', 4272: 'affecting', 4273: 'ddl', 4274: 'mouseout', 4275: 'uml', 4276: 'redirecttoaction', 4277: 'destruction', 4278: 'pausing', 4279: 'outofmemory', 4280: 'prevents', 4281: 'inactive', 4282: 'histograms', 4283: 'instanceof', 4284: 'patch', 4285: 'datasets', 4286: 'centering', 4287: 'adjusting', 4288: 'fixing', 4289: 'swapping', 4290: 'iterations', 4291: 'monthly', 4292: 'declares', 4293: 'dummy', 4294: 'openid', 4295: 'instruction', 4296: 'lag', 4297: 'u', 4298: 'marionette', 4299: 'mandatory', 4300: 'conform', 4301: 'unlock', 4302: 'killed', 4303: 'opposed', 4304: 'ctrl', 4305: 'ordinal', 4306: 'systemtimerstimer', 4307: 'subscription', 4308: 'trees', 4309: 'jpanels', 4310: 'providing', 4311: 'reactive', 4312: 'javaiofilenotfoundexception', 4313: 'mediawiki', 4314: 'rearrange', 4315: 'libs', 4316: 'percentages', 4317: 'attacks', 4318: 'webapplication', 4319: 'solving', 4320: 'nsmutabledictionary', 4321: 'getelementsbytagname', 4322: 'panning', 4323: 'webxml', 4324: 'recover', 4325: 'repeats', 4326: 'partialview', 4327: 'pager', 4328: 'simplexmlelement', 4329: 'reactrouter', 4330: 'retrive', 4331: 'jinja', 4332: 'rn', 4333: 'generators', 4334: 'selectedindex', 4335: 'portrait', 4336: 'neo4j', 4337: 'mstest', 4338: 'mousemove', 4339: 'ini', 4340: 'consider', 4341: 'concurrenthashmap', 4342: 'jdbctemplate', 4343: 'dead', 4344: 'parallelforeach', 4345: '46', 4346: 'backward', 4347: 'gridlayout', 4348: 'perfectly', 4349: 'httprequest', 4350: 'visitor', 4351: 'robust', 4352: 'phrase', 4353: 'reliably', 4354: 'situation', 4355: 'biggest', 4356: 'recv', 4357: 'cleanup', 4358: 'dock', 4359: 'reversed', 4360: 'undo', 4361: 'nsnumber', 4362: 'purposes', 4363: 'settext', 4364: 'i++', 4365: 'objectid', 4366: 'props', 4367: 'nas', 4368: 'de', 4369: 'strong', 4370: 'pieces', 4371: 'browserify', 4372: 'predict', 4373: 'documentready', 4374: 'simplify', 4375: 'vars', 4376: 'monotouch', 4377: 'robot', 4378: 'isolate', 4379: 'secondary', 4380: 'repaint', 4381: 'bindingsource', 4382: 'half', 4383: 'godaddy', 4384: 'scratch', 4385: 'whilst', 4386: 'whitespaces', 4387: 'crawling', 4388: 'destroyed', 4389: 'analog', 4390: 'interceptor', 4391: 'engines', 4392: 'presentation', 4393: 'expiration', 4394: 'transitions', 4395: 'inherits', 4396: 'msg', 4397: 'affects', 4398: 'ngif', 4399: 'lnk2019', 4400: 'unpack', 4401: 'become', 4402: 'newtonsoftjson', 4403: 'contour', 4404: 'bridge', 4405: 'automating', 4406: 'ioerror', 4407: 'keystore', 4408: 'jruby', 4409: 'dist', 4410: 'seeing', 4411: 'reconnect', 4412: 'stringreplace', 4413: 'size_t', 4414: 'mistake', 4415: 'moved', 4416: 'q', 4417: 'hand', 4418: 'reserved', 4419: 'autowiring', 4420: 'scoping', 4421: 'crawl', 4422: 'hhmm', 4423: 'requesting', 4424: 'rmarkdown', 4425: 'clauses', 4426: 'permgen', 4427: 'leads', 4428: 'interpret', 4429: 'onblur', 4430: 'warn', 4431: 'behaving', 4432: 'published', 4433: 'filenotfoundexception', 4434: 'linebreaks', 4435: 'uitabbarcontroller', 4436: 'nav', 4437: 'commaseparated', 4438: 'requirement', 4439: 'follows', 4440: 'compareto', 4441: 'scrolls', 4442: 'motion', 4443: 'vista', 4444: 'moment', 4445: 'datarows', 4446: 'arrayliststring', 4447: 'prefer', 4448: 'fosuserbundle', 4449: 'technique', 4450: 'vb6', 4451: 'asterisks', 4452: 'suggestion', 4453: 'hint', 4454: 'tablet', 4455: 'behave', 4456: 'cvmat', 4457: 'drools', 4458: 'ensuring', 4459: 'concepts', 4460: 'contract', 4461: 'idiom', 4462: 'talk', 4463: 'rxjava', 4464: 'xxxx', 4465: 'rating', 4466: 'exiting', 4467: 'backcolor', 4468: 'autoscroll', 4469: 'phtml', 4470: 'lifetime', 4471: 'guaranteed', 4472: 'subarray', 4473: 'reusable', 4474: 'jsfiddle', 4475: '71', 4476: 'squares', 4477: 'ended', 4478: 'javalangunsatisfiedlinkerror', 4479: 'sums', 4480: 'des', 4481: 'early', 4482: 'webstorm', 4483: 'sklearn', 4484: 'userid', 4485: 'transactionscope', 4486: 'fetched', 4487: 'stdlist', 4488: 'subqueries', 4489: 'sscanf', 4490: 'reject', 4491: 'aligning', 4492: 'strength', 4493: 'move_uploaded_file', 4494: 'intermediate', 4495: 'mvc2', 4496: 'dropdowns', 4497: 'java8', 4498: 'stores', 4499: 'troubles', 4500: 'benchmark', 4501: 'springs', 4502: 'ios8', 4503: 'grep', 4504: 'gap', 4505: 'reads', 4506: 'phase', 4507: 'xx', 4508: 'belong', 4509: 'textfields', 4510: 'form1', 4511: 'uibarbuttonitem', 4512: 'bundles', 4513: 'basics', 4514: 'aspectj', 4515: 'dos', 4516: '111', 4517: 'erb', 4518: 'executereader', 4519: 'form_for', 4520: 'latin', 4521: 'checkedlistbox', 4522: 'playlist', 4523: 'arg', 4524: 'outgoing', 4525: 'comparable', 4526: 'compiletime', 4527: 'quickest', 4528: 'realloc', 4529: 'networking', 4530: 'minimal', 4531: 'eliminate', 4532: 'as3', 4533: 'monday', 4534: 'deny', 4535: 'setattribute', 4536: 'notebook', 4537: 'dtype', 4538: 'traversing', 4539: 'mousedown', 4540: 'disposing', 4541: 'datasources', 4542: 'triangles', 4543: 'falls', 4544: 'unterminated', 4545: 'anywhere', 4546: 'sides', 4547: 'len', 4548: 'selecteditem', 4549: 'converts', 4550: 'constructing', 4551: 'suggest', 4552: 'urlopen', 4553: 'indirect', 4554: '323', 4555: 'runserver', 4556: 'reopen', 4557: 'moves', 4558: 'signing', 4559: 'created_at', 4560: 'di', 4561: 'stage', 4562: 'timers', 4563: 'ie10', 4564: '106', 4565: 'inmemory', 4566: 'grant', 4567: 'captcha', 4568: 'firebird', 4569: 'aurelia', 4570: 'initialise', 4571: 'distributed', 4572: 'room', 4573: '0s', 4574: 'gsub', 4575: 'tbody', 4576: 'servletcontext', 4577: 'midnight', 4578: 'puzzle', 4579: 'couple', 4580: 'scatterplot', 4581: '__dopostback', 4582: 'alt', 4583: 'mouseenter', 4584: 'browsing', 4585: 'setcookie', 4586: 'prepend', 4587: 'instant', 4588: 'air', 4589: 'restricting', 4590: 'truncating', 4591: 'str_replace', 4592: 'purchase', 4593: 'nsmanagedobject', 4594: 'stays', 4595: 'jquerymobile', 4596: 'pane', 4597: 'centered', 4598: 'scenarios', 4599: 'extremely', 4600: 'freezing', 4601: 'recognised', 4602: 'volatile', 4603: 'bigdecimal', 4604: 'wise', 4605: 'javalanginteger', 4606: 'oncreate', 4607: 'polynomial', 4608: 'jobject', 4609: 'instructions', 4610: 'opera', 4611: 'securely', 4612: 'pow', 4613: 'superview', 4614: 'blade', 4615: 'connectivity', 4616: 'paragraphs', 4617: 'javanetconnectexception', 4618: 'sun', 4619: 'practise', 4620: 'lwjgl', 4621: 'joined', 4622: 'checks', 4623: 'boundaries', 4624: 'cdi', 4625: 'urllib', 4626: 'succeeded', 4627: 'windowsh', 4628: 'decorators', 4629: 'normalize', 4630: 'simplexml_load_string', 4631: 'ellipse', 4632: '503', 4633: 'viewmodels', 4634: 'sqlserver', 4635: 'buffered', 4636: 'tabbed', 4637: 'datetimefield', 4638: 'practical', 4639: 'note', 4640: 'matter', 4641: 'parseint', 4642: 'met', 4643: 'pem', 4644: '301', 4645: 'var_dump', 4646: 'die', 4647: 'jasperreport', 4648: 'ashx', 4649: 'runner', 4650: 'programmatic', 4651: 'defaults', 4652: 'fall', 4653: 'porting', 4654: 'unescape', 4655: 'pods', 4656: 'picking', 4657: 'endless', 4658: 'dashes', 4659: 'selectedvalue', 4660: 'banner', 4661: 'utf', 4662: 'fontawesome', 4663: 'twoway', 4664: 'massive', 4665: 'complicated', 4666: 'cyrillic', 4667: 'webrequest', 4668: 'mysql_num_rows', 4669: 'euler', 4670: 'complement', 4671: 'stringify', 4672: 'basis', 4673: 'inactivity', 4674: 'viewdidload', 4675: 'current_user', 4676: 'subsets', 4677: 'authenticating', 4678: 'vowels', 4679: 'monodevelop', 4680: 'log4jxml', 4681: 'read_csv', 4682: 'killing', 4683: 'logo', 4684: 'million', 4685: 'enhanced', 4686: 'counts', 4687: 'advance', 4688: 'overwritten', 4689: 'interacting', 4690: 'popular', 4691: 'keyerror', 4692: 'soapclient', 4693: 'otherwise', 4694: 'paginate', 4695: 'nsinteger', 4696: 'hasmany', 4697: 'colours', 4698: 'precise', 4699: 'uint8_t', 4700: 'actionresult', 4701: 'rightclick', 4702: 'localtime', 4703: 'configurations', 4704: 'protection', 4705: 'programmer', 4706: 'reordering', 4707: 'troubleshooting', 4708: '#object', 4709: 'addclass', 4710: 'exits', 4711: 'often', 4712: 'taskrun', 4713: 'periodic', 4714: 'proc', 4715: 'developers', 4716: 'struggling', 4717: 'pound', 4718: 'premature', 4719: 'adjacent', 4720: 'sqlparameter', 4721: 'tweets', 4722: 'interprocess', 4723: 'depend', 4724: 'mozilla', 4725: 'groupbox', 4726: 'subcategories', 4727: 'uibuttons', 4728: 'assume', 4729: 'injected', 4730: 'print_r', 4731: 'catalog', 4732: 'attempted', 4733: 'roll', 4734: 'autoload', 4735: 'decoded', 4736: 'tries', 4737: 'flipping', 4738: 'respective', 4739: 'compiles', 4740: 'expiry', 4741: 'recommendations', 4742: 'popups', 4743: 'pushed', 4744: 'datetimes', 4745: 'executenonquery', 4746: 'primaryexpression', 4747: 'shipping', 4748: 'selectedindexchanged', 4749: 'routine', 4750: 'pan', 4751: 'daily', 4752: 'viewed', 4753: 'compressed', 4754: '110', 4755: 'complains', 4756: 'feedback', 4757: 'recipient', 4758: 'refuses', 4759: 'findviewbyid', 4760: 'xmlns', 4761: 'appdelegate', 4762: 'fashion', 4763: 'books', 4764: 'tapped', 4765: 'feel', 4766: 'publishing', 4767: 'update_attributes', 4768: 'weekends', 4769: 'finger', 4770: 'locating', 4771: 'mocked', 4772: 'cancellation', 4773: 'executorservice', 4774: 'idiomatic', 4775: 'recipients', 4776: 'viable', 4777: 'inference', 4778: 'quantity', 4779: 'confusing', 4780: 'compressing', 4781: '#1', 4782: 'branch', 4783: 'transforming', 4784: 'stylesheets', 4785: 'birth', 4786: 'springsecurity', 4787: 'saying', 4788: 'cv', 4789: 'capital', 4790: 'poor', 4791: 'money', 4792: 'corresponds', 4793: 'javalangruntimeexception', 4794: 'hashmaps', 4795: 'dim', 4796: 'requestbody', 4797: 'actionlink', 4798: 'zurb', 4799: 'standards', 4800: 'fileoutputstream', 4801: 'pod', 4802: 'bigger', 4803: 'transferred', 4804: 'tdd', 4805: 'listint', 4806: 'systemint32', 4807: 'keycode', 4808: 'sphere', 4809: 'workers', 4810: 'weekly', 4811: 'webpart', 4812: 'student', 4813: 'uuid', 4814: 'rbind', 4815: 'boxplot', 4816: 'gcd', 4817: 'crossthread', 4818: 'spy', 4819: 'fadeout', 4820: '#pragma', 4821: 'tiles', 4822: 'phones', 4823: 'verifying', 4824: 'difficulty', 4825: 'technology', 4826: 'jbuttons', 4827: 'triple', 4828: 'visited', 4829: 'qt5', 4830: 'goal', 4831: 'toolbox', 4832: 'sticky', 4833: 'modalpopupextender', 4834: 'unqualifiedid', 4835: 'bubbling', 4836: 'th', 4837: 'mapstring', 4838: 'javalangnumberformatexception', 4839: 'differ', 4840: 'stale', 4841: 'drawimage', 4842: 'quotation', 4843: 'exponent', 4844: 'socketexception', 4845: 'deferred', 4846: 'unnecessary', 4847: 'articles', 4848: 'mathround', 4849: 'artifacts', 4850: 'mvn', 4851: 'far', 4852: 'awesome', 4853: 'programme', 4854: 'modelsave', 4855: 'messed', 4856: 'listviewitem', 4857: 'facebooks', 4858: 'followers', 4859: 'nslog', 4860: '255', 4861: 'gaps', 4862: 'mesh', 4863: '187', 4864: 'sqldatasource', 4865: 'dbnull', 4866: 'semantic', 4867: 'applicationproperties', 4868: 'linqtoentities', 4869: 'alphabetic', 4870: 'defer', 4871: 'mysqlsock', 4872: 'scikit', 4873: 'painting', 4874: 'nonexistent', 4875: 'stdthread', 4876: 'life', 4877: 'documentcreateelement', 4878: 'splice', 4879: 'endpoints', 4880: 'redirect_uri', 4881: 'javax', 4882: 'createfile', 4883: '220', 4884: 'sqlquery', 4885: 'deck', 4886: 'snow', 4887: 'sublist', 4888: 'preflight', 4889: 'variadic', 4890: 'l', 4891: 'disallowed', 4892: 'logistic', 4893: 'google+', 4894: 'gaussian', 4895: 'retaining', 4896: 'intranet', 4897: 'itunes', 4898: 'collapsible', 4899: 'beginners', 4900: 'raises', 4901: 'sounds', 4902: 'objectoriented', 4903: '_request', 4904: 'differentiate', 4905: 'preload', 4906: 'contentsize', 4907: 'late', 4908: 'nsthread', 4909: 'merged', 4910: 'mimetype', 4911: 'discount', 4912: 'initiate', 4913: 'tabcontrol', 4914: 'pinch', 4915: 'caret', 4916: 'codefirst', 4917: 'continuewith', 4918: 'sitemap', 4919: 'simplexml_load_file', 4920: 'hashtag', 4921: 'nondefault', 4922: 'stringcontains', 4923: 'pylab', 4924: 'edges', 4925: 'mysql_real_escape_string', 4926: 'openfiledialog', 4927: 'subtype', 4928: '127', 4929: 'concurrently', 4930: 'textboxfor', 4931: 'vendor', 4932: 'finder', 4933: 'extjs4', 4934: 'redeclare', 4935: 'derive', 4936: 'piece', 4937: 'cover', 4938: 'javalangunsupportedclassversionerror', 4939: 'minification', 4940: 'mediaplayer', 4941: 'minimized', 4942: 'games', 4943: 'delivery', 4944: '8601', 4945: 'cumulative', 4946: 'typeof', 4947: 'push_back', 4948: 'rubygem', 4949: 'impact', 4950: 'zipped', 4951: 'uitabbar', 4952: 'applicationcontext', 4953: 'inputted', 4954: 'chromes', 4955: 'qwidget', 4956: 'statically', 4957: 'multibyte', 4958: 'jcombobox', 4959: 'raw_input', 4960: 'visualstudio', 4961: 'innertext', 4962: '0xc0000005', 4963: 'formed', 4964: 'localhost8080', 4965: 'findby', 4966: 'saves', 4967: 'alphabets', 4968: 'multiples', 4969: 'cgridview', 4970: 'normally', 4971: 'referer', 4972: 'multicolumn', 4973: '1054', 4974: 'nongeneric', 4975: 'typecasting', 4976: 'r2', 4977: 'static_cast', 4978: 'javasqldate', 4979: 'fx', 4980: 'qpushbutton', 4981: 'modifiers', 4982: 'expires', 4983: 'eventhandler', 4984: 'androidviewinflateexception', 4985: 'obtained', 4986: 'bottleneck', 4987: 'trusted', 4988: 'ifstream', 4989: 'listitem', 4990: 'homework', 4991: 'ca', 4992: 'babel', 4993: 'x11', 4994: 'chef', 4995: 'polygons', 4996: 'mysql2error', 4997: 'absolutely', 4998: 'nethttp', 4999: 'median'}\n"
          ],
          "name": "stdout"
        }
      ]
    },
    {
      "cell_type": "code",
      "metadata": {
        "id": "xhZMG35E5ASE",
        "colab_type": "code",
        "colab": {}
      },
      "source": [
        "def test_my_bag_of_words():\n",
        "    words_to_index = {'hi': 0, 'you': 1, 'me': 2, 'are': 3}\n",
        "    examples = ['hi how are you']\n",
        "    answers = [[1, 1, 0, 1]]\n",
        "    for ex, ans in zip(examples, answers):\n",
        "        if (my_bag_of_words(ex, words_to_index, 4) != ans).any():\n",
        "            return \"Wrong answer for the case: '%s'\" % ex\n",
        "    return 'Basic tests are passed.'"
      ],
      "execution_count": 0,
      "outputs": []
    },
    {
      "cell_type": "code",
      "metadata": {
        "id": "gvN5UGej5ASI",
        "colab_type": "code",
        "colab": {
          "base_uri": "https://localhost:8080/",
          "height": 34
        },
        "outputId": "c0df9fa7-3292-440c-9890-e89152a84052"
      },
      "source": [
        "print(test_my_bag_of_words())"
      ],
      "execution_count": 21,
      "outputs": [
        {
          "output_type": "stream",
          "text": [
            "Basic tests are passed.\n"
          ],
          "name": "stdout"
        }
      ]
    },
    {
      "cell_type": "markdown",
      "metadata": {
        "id": "aBzNHUuQ5ASL",
        "colab_type": "text"
      },
      "source": [
        "Now apply the implemented function to all samples (this might take up to a minute):"
      ]
    },
    {
      "cell_type": "code",
      "metadata": {
        "id": "3uVokm2S5ASM",
        "colab_type": "code",
        "colab": {}
      },
      "source": [
        "from scipy import sparse as sp_sparse"
      ],
      "execution_count": 0,
      "outputs": []
    },
    {
      "cell_type": "code",
      "metadata": {
        "id": "VBduykcg5AST",
        "colab_type": "code",
        "colab": {
          "base_uri": "https://localhost:8080/",
          "height": 68
        },
        "outputId": "fa73fda9-0c69-4a83-bd73-3474bb886c56"
      },
      "source": [
        "X_train_mybag = sp_sparse.vstack([sp_sparse.csr_matrix(my_bag_of_words(text, WORDS_TO_INDEX, DICT_SIZE)) for text in X_train])\n",
        "X_val_mybag = sp_sparse.vstack([sp_sparse.csr_matrix(my_bag_of_words(text, WORDS_TO_INDEX, DICT_SIZE)) for text in X_val])\n",
        "X_test_mybag = sp_sparse.vstack([sp_sparse.csr_matrix(my_bag_of_words(text, WORDS_TO_INDEX, DICT_SIZE)) for text in X_test])\n",
        "print('X_train shape ', X_train_mybag.shape)\n",
        "print('X_val shape ', X_val_mybag.shape)\n",
        "print('X_test shape ', X_test_mybag.shape)"
      ],
      "execution_count": 23,
      "outputs": [
        {
          "output_type": "stream",
          "text": [
            "X_train shape  (100000, 5000)\n",
            "X_val shape  (30000, 5000)\n",
            "X_test shape  (20000, 5000)\n"
          ],
          "name": "stdout"
        }
      ]
    },
    {
      "cell_type": "markdown",
      "metadata": {
        "id": "TJFR-xHu5ASW",
        "colab_type": "text"
      },
      "source": [
        "As you might notice, we transform the data to sparse representation, to store the useful information efficiently. There are many [types](https://docs.scipy.org/doc/scipy/reference/sparse.html) of such representations, however sklearn algorithms can work only with [csr](https://docs.scipy.org/doc/scipy/reference/generated/scipy.sparse.csr_matrix.html#scipy.sparse.csr_matrix) matrix, so we will use this one."
      ]
    },
    {
      "cell_type": "markdown",
      "metadata": {
        "id": "SCJtdd215ASY",
        "colab_type": "text"
      },
      "source": [
        "**Task 3 (BagOfWords).** For the 11th row in *X_train_mybag* find how many non-zero elements it has. In this task the answer (variable *non_zero_elements_count*) should be a number, e.g. 20."
      ]
    },
    {
      "cell_type": "code",
      "metadata": {
        "id": "56XhUpgp5ASZ",
        "colab_type": "code",
        "colab": {
          "base_uri": "https://localhost:8080/",
          "height": 51
        },
        "outputId": "419fd1eb-9720-40ae-8f88-f6f934553360"
      },
      "source": [
        "row = X_train_mybag[10].toarray()[0]\n",
        "non_zero_elements_count =  np.count_nonzero(row)####### YOUR CODE HERE #######\n",
        "# np.sum(1 for x in row if x != 0)\n",
        "\n",
        "grader.submit_tag('BagOfWords', str(non_zero_elements_count))"
      ],
      "execution_count": 24,
      "outputs": [
        {
          "output_type": "stream",
          "text": [
            "Current answer for task BagOfWords is:\n",
            " 7...\n"
          ],
          "name": "stdout"
        }
      ]
    },
    {
      "cell_type": "markdown",
      "metadata": {
        "id": "oM8kGed05ASe",
        "colab_type": "text"
      },
      "source": [
        "#### TF-IDF\n",
        "\n",
        "The second approach extends the bag-of-words framework by taking into account total frequencies of words in the corpora. It helps to penalize too frequent words and provide better features space. \n",
        "\n",
        "Implement function *tfidf_features* using class [TfidfVectorizer](http://scikit-learn.org/stable/modules/generated/sklearn.feature_extraction.text.TfidfVectorizer.html) from *scikit-learn*. Use *train* corpus to train a vectorizer. Don't forget to take a look into the arguments that you can pass to it. We suggest that you filter out too rare words (occur less than in 5 titles) and too frequent words (occur more than in 90% of the titles). Also, use bigrams along with unigrams in your vocabulary. "
      ]
    },
    {
      "cell_type": "code",
      "metadata": {
        "id": "zTr6m8aJ5ASi",
        "colab_type": "code",
        "colab": {
          "base_uri": "https://localhost:8080/",
          "height": 34
        },
        "outputId": "95abd247-81f4-4773-b796-cd4816c18144"
      },
      "source": [
        "import sklearn\n",
        "from sklearn.feature_extraction.text import TfidfVectorizer\n",
        "print('The scikit-learn version is {}.'.format(sklearn.__version__))"
      ],
      "execution_count": 25,
      "outputs": [
        {
          "output_type": "stream",
          "text": [
            "The scikit-learn version is 0.21.3.\n"
          ],
          "name": "stdout"
        }
      ]
    },
    {
      "cell_type": "code",
      "metadata": {
        "id": "nZoVkMjD5ASo",
        "colab_type": "code",
        "colab": {}
      },
      "source": [
        "def tfidf_features(X_train, X_val, X_test):\n",
        "    \"\"\"\n",
        "        X_train, X_val, X_test — samples        \n",
        "        return bag-of-words representation of each sample and vocabulary\n",
        "    \"\"\"\n",
        "    # Create TF-IDF vectorizer with a proper parameters choice\n",
        "    # Fit the vectorizer on the train set\n",
        "    # Transform the train, test, and val sets and return the result\n",
        "    \n",
        "    \n",
        "    tfidf_vectorizer = TfidfVectorizer(ngram_range=(1,2), max_df=0.9, min_df=5, token_pattern='(\\S+)')####### YOUR CODE HERE #######\n",
        "    \n",
        "    ######################################\n",
        "    ######### YOUR CODE HERE #############\n",
        "    ######################################\n",
        "    X_train_tfidf = tfidf_vectorizer.fit_transform(X_train)\n",
        "    X_val_tfidf = tfidf_vectorizer.transform(X_val)\n",
        "    X_test_tfidf = tfidf_vectorizer.transform(X_test)\n",
        "    \n",
        "    return X_train_tfidf, X_val_tfidf, X_test_tfidf, tfidf_vectorizer.vocabulary_"
      ],
      "execution_count": 0,
      "outputs": []
    },
    {
      "cell_type": "markdown",
      "metadata": {
        "id": "-ZlvLT7K5ASr",
        "colab_type": "text"
      },
      "source": [
        "Once you have done text preprocessing, always have a look at the results. Be very careful at this step, because the performance of future models will drastically depend on it. \n",
        "\n",
        "In this case, check whether you have c++ or c# in your vocabulary, as they are obviously important tokens in our tags prediction task:"
      ]
    },
    {
      "cell_type": "code",
      "metadata": {
        "id": "hYxjALxt5ASs",
        "colab_type": "code",
        "colab": {}
      },
      "source": [
        "X_train_tfidf, X_val_tfidf, X_test_tfidf, tfidf_vocab = tfidf_features(X_train, X_val, X_test)\n",
        "tfidf_reversed_vocab = {i:word for word,i in tfidf_vocab.items()}"
      ],
      "execution_count": 0,
      "outputs": []
    },
    {
      "cell_type": "code",
      "metadata": {
        "id": "XgrITnkp5ASu",
        "colab_type": "code",
        "colab": {
          "base_uri": "https://localhost:8080/",
          "height": 34
        },
        "outputId": "b923ab8f-5f83-4682-9975-360fc103c8c7"
      },
      "source": [
        "######### YOUR CODE HERE #############\n",
        "\n",
        "tfidf_vocab['c#']"
      ],
      "execution_count": 28,
      "outputs": [
        {
          "output_type": "execute_result",
          "data": {
            "text/plain": [
              "1879"
            ]
          },
          "metadata": {
            "tags": []
          },
          "execution_count": 28
        }
      ]
    },
    {
      "cell_type": "markdown",
      "metadata": {
        "id": "giO9-IKN5ASv",
        "colab_type": "text"
      },
      "source": [
        "If you can't find it, we need to understand how did it happen that we lost them? It happened during the built-in tokenization of TfidfVectorizer. Luckily, we can influence on this process. Get back to the function above and use '(\\S+)' regexp as a *token_pattern* in the constructor of the vectorizer.  "
      ]
    },
    {
      "cell_type": "markdown",
      "metadata": {
        "id": "1I8wNAvm5ASw",
        "colab_type": "text"
      },
      "source": [
        "Now, use this transormation for the data and check again."
      ]
    },
    {
      "cell_type": "code",
      "metadata": {
        "id": "dkL1Lawe5ASw",
        "colab_type": "code",
        "colab": {}
      },
      "source": [
        "\n",
        "######### YOUR CODE HERE #############\n",
        "\n",
        "# Already implemented using token_pattern ='(/S+)'"
      ],
      "execution_count": 0,
      "outputs": []
    },
    {
      "cell_type": "markdown",
      "metadata": {
        "id": "R3K-Zos55ASy",
        "colab_type": "text"
      },
      "source": [
        "### MultiLabel classifier\n",
        "\n",
        "As we have noticed before, in this task each example can have multiple tags. To deal with such kind of prediction, we need to transform labels in a binary form and the prediction will be a mask of 0s and 1s. For this purpose it is convenient to use [MultiLabelBinarizer](http://scikit-learn.org/stable/modules/generated/sklearn.preprocessing.MultiLabelBinarizer.html) from *sklearn*."
      ]
    },
    {
      "cell_type": "code",
      "metadata": {
        "id": "VOAZWAlcw-UA",
        "colab_type": "code",
        "colab": {}
      },
      "source": [
        ""
      ],
      "execution_count": 0,
      "outputs": []
    },
    {
      "cell_type": "code",
      "metadata": {
        "id": "a5jbwOde5ASz",
        "colab_type": "code",
        "colab": {
          "base_uri": "https://localhost:8080/",
          "height": 54
        },
        "outputId": "c36d7e51-ef5c-43d8-9eca-c88082f5b857"
      },
      "source": [
        "from sklearn.preprocessing import MultiLabelBinarizer\n",
        "\n",
        "print(sorted(tags_counts.keys()))"
      ],
      "execution_count": 30,
      "outputs": [
        {
          "output_type": "stream",
          "text": [
            "['.net', 'ajax', 'algorithm', 'android', 'angularjs', 'apache', 'arrays', 'asp.net', 'asp.net-mvc', 'c', 'c#', 'c++', 'class', 'cocoa-touch', 'codeigniter', 'css', 'csv', 'database', 'date', 'datetime', 'django', 'dom', 'eclipse', 'entity-framework', 'excel', 'facebook', 'file', 'forms', 'function', 'generics', 'google-maps', 'hibernate', 'html', 'html5', 'image', 'ios', 'iphone', 'java', 'javascript', 'jquery', 'json', 'jsp', 'laravel', 'linq', 'linux', 'list', 'loops', 'maven', 'mongodb', 'multithreading', 'mysql', 'node.js', 'numpy', 'objective-c', 'oop', 'opencv', 'osx', 'pandas', 'parsing', 'performance', 'php', 'pointers', 'python', 'python-2.7', 'python-3.x', 'qt', 'r', 'regex', 'rest', 'ruby', 'ruby-on-rails', 'ruby-on-rails-3', 'selenium', 'servlets', 'session', 'sockets', 'sorting', 'spring', 'spring-mvc', 'sql', 'sql-server', 'string', 'swift', 'swing', 'twitter-bootstrap', 'uitableview', 'unit-testing', 'validation', 'vb.net', 'visual-studio', 'visual-studio-2010', 'wcf', 'web-services', 'windows', 'winforms', 'wordpress', 'wpf', 'xaml', 'xcode', 'xml']\n"
          ],
          "name": "stdout"
        }
      ]
    },
    {
      "cell_type": "code",
      "metadata": {
        "id": "wtaueIpn5AS3",
        "colab_type": "code",
        "colab": {}
      },
      "source": [
        "mlb = MultiLabelBinarizer(classes=sorted(tags_counts.keys()))\n",
        "y_train = mlb.fit_transform(y_train)\n",
        "y_val = mlb.fit_transform(y_val)"
      ],
      "execution_count": 0,
      "outputs": []
    },
    {
      "cell_type": "markdown",
      "metadata": {
        "id": "MuqsUc4g5AS5",
        "colab_type": "text"
      },
      "source": [
        "Implement the function *train_classifier* for training a classifier. In this task we suggest to use One-vs-Rest approach, which is implemented in [OneVsRestClassifier](http://scikit-learn.org/stable/modules/generated/sklearn.multiclass.OneVsRestClassifier.html) class. In this approach *k* classifiers (= number of tags) are trained. As a basic classifier, use [LogisticRegression](http://scikit-learn.org/stable/modules/generated/sklearn.linear_model.LogisticRegression.html). It is one of the simplest methods, but often it performs good enough in text classification tasks. It might take some time, because a number of classifiers to train is large."
      ]
    },
    {
      "cell_type": "code",
      "metadata": {
        "id": "G3ODFK025AS6",
        "colab_type": "code",
        "colab": {}
      },
      "source": [
        "\n",
        "from sklearn.multiclass import OneVsRestClassifier\n",
        "from sklearn.linear_model import LogisticRegression, RidgeClassifier"
      ],
      "execution_count": 0,
      "outputs": []
    },
    {
      "cell_type": "code",
      "metadata": {
        "id": "Qd0wuy-K5AS9",
        "colab_type": "code",
        "colab": {}
      },
      "source": [
        "def train_classifier(X_train, y_train):\n",
        "    \"\"\"\n",
        "      X_train, y_train — training data\n",
        "      \n",
        "      return: trained classifier\n",
        "    \"\"\"\n",
        "    \n",
        "    # Create and fit LogisticRegression wraped into OneVsRestClassifier.\n",
        "    \n",
        "    ######################################\n",
        "    ######### YOUR CODE HERE #############\n",
        "    ######################################\n",
        "    \n",
        "    model  = OneVsRestClassifier(LogisticRegression(penalty ='l2', C=1.0))\n",
        "    model.fit(X_train, y_train)\n",
        "    return model\n",
        "    "
      ],
      "execution_count": 0,
      "outputs": []
    },
    {
      "cell_type": "markdown",
      "metadata": {
        "id": "BINiYdtz5ATA",
        "colab_type": "text"
      },
      "source": [
        "Train the classifiers for different data transformations: *bag-of-words* and *tf-idf*."
      ]
    },
    {
      "cell_type": "code",
      "metadata": {
        "id": "95rA7i2N5ATB",
        "colab_type": "code",
        "colab": {
          "base_uri": "https://localhost:8080/",
          "height": 105
        },
        "outputId": "3b4d537d-c79c-4199-a579-b473982b0eea"
      },
      "source": [
        "classifier_mybag = train_classifier(X_train_mybag, y_train)\n",
        "classifier_tfidf = train_classifier(X_train_tfidf, y_train)"
      ],
      "execution_count": 34,
      "outputs": [
        {
          "output_type": "stream",
          "text": [
            "/usr/local/lib/python3.6/dist-packages/sklearn/linear_model/logistic.py:432: FutureWarning: Default solver will be changed to 'lbfgs' in 0.22. Specify a solver to silence this warning.\n",
            "  FutureWarning)\n",
            "/usr/local/lib/python3.6/dist-packages/sklearn/linear_model/logistic.py:432: FutureWarning: Default solver will be changed to 'lbfgs' in 0.22. Specify a solver to silence this warning.\n",
            "  FutureWarning)\n"
          ],
          "name": "stderr"
        }
      ]
    },
    {
      "cell_type": "markdown",
      "metadata": {
        "id": "cUJBabNF5ATF",
        "colab_type": "text"
      },
      "source": [
        "Now you can create predictions for the data. You will need two types of predictions: labels and scores."
      ]
    },
    {
      "cell_type": "code",
      "metadata": {
        "id": "oYkIufUK5ATF",
        "colab_type": "code",
        "colab": {}
      },
      "source": [
        "y_val_predicted_labels_mybag = classifier_mybag.predict(X_val_mybag)\n",
        "y_val_predicted_scores_mybag = classifier_mybag.decision_function(X_val_mybag)\n",
        "\n",
        "y_val_predicted_labels_tfidf = classifier_tfidf.predict(X_val_tfidf)\n",
        "y_val_predicted_scores_tfidf = classifier_tfidf.decision_function(X_val_tfidf)"
      ],
      "execution_count": 0,
      "outputs": []
    },
    {
      "cell_type": "markdown",
      "metadata": {
        "id": "UKw4-o465ATI",
        "colab_type": "text"
      },
      "source": [
        "Now take a look at how classifier, which uses TF-IDF, works for a few examples:"
      ]
    },
    {
      "cell_type": "code",
      "metadata": {
        "id": "VrEMw-_V5ATJ",
        "colab_type": "code",
        "colab": {
          "base_uri": "https://localhost:8080/",
          "height": 272
        },
        "outputId": "a34de9f4-1f70-4336-bf90-cc295ae5cce3"
      },
      "source": [
        "y_val_pred_inversed = mlb.inverse_transform(y_val_predicted_labels_tfidf)\n",
        "y_val_inversed = mlb.inverse_transform(y_val)\n",
        "for i in range(3):\n",
        "    print('Title:\\t{}\\nTrue labels:\\t{}\\nPredicted labels:\\t{}\\n\\n'.format(\n",
        "        X_val[i],\n",
        "        ','.join(y_val_inversed[i]),\n",
        "        ','.join(y_val_pred_inversed[i])\n",
        "    ))"
      ],
      "execution_count": 36,
      "outputs": [
        {
          "output_type": "stream",
          "text": [
            "Title:\todbc_exec always fail\n",
            "True labels:\tphp,sql\n",
            "Predicted labels:\t\n",
            "\n",
            "\n",
            "Title:\taccess base classes variable within child class\n",
            "True labels:\tjavascript\n",
            "Predicted labels:\t\n",
            "\n",
            "\n",
            "Title:\tcontenttype application json required rails\n",
            "True labels:\truby,ruby-on-rails\n",
            "Predicted labels:\tjson,ruby-on-rails\n",
            "\n",
            "\n"
          ],
          "name": "stdout"
        }
      ]
    },
    {
      "cell_type": "markdown",
      "metadata": {
        "id": "-3LLsrwQ5ATM",
        "colab_type": "text"
      },
      "source": [
        "Now, we would need to compare the results of different predictions, e.g. to see whether TF-IDF transformation helps or to try different regularization techniques in logistic regression. For all these experiments, we need to setup evaluation procedure. "
      ]
    },
    {
      "cell_type": "markdown",
      "metadata": {
        "id": "t9pIKhTZ5ATM",
        "colab_type": "text"
      },
      "source": [
        "### Evaluation\n",
        "\n",
        "To evaluate the results we will use several classification metrics:\n",
        " - [Accuracy](http://scikit-learn.org/stable/modules/generated/sklearn.metrics.accuracy_score.html)\n",
        " - [F1-score](http://scikit-learn.org/stable/modules/generated/sklearn.metrics.f1_score.html)\n",
        " - [Area under ROC-curve](http://scikit-learn.org/stable/modules/generated/sklearn.metrics.roc_auc_score.html)\n",
        " - [Area under precision-recall curve](http://scikit-learn.org/stable/modules/generated/sklearn.metrics.average_precision_score.html#sklearn.metrics.average_precision_score) \n",
        " \n",
        "Make sure you are familiar with all of them. How would you expect the things work for the multi-label scenario? Read about micro/macro/weighted averaging following the sklearn links provided above."
      ]
    },
    {
      "cell_type": "code",
      "metadata": {
        "id": "zlBcT_lH5ATN",
        "colab_type": "code",
        "colab": {}
      },
      "source": [
        "from sklearn.metrics import accuracy_score\n",
        "from sklearn.metrics import f1_score\n",
        "from sklearn.metrics import roc_auc_score \n",
        "from sklearn.metrics import average_precision_score\n",
        "from sklearn.metrics import recall_score"
      ],
      "execution_count": 0,
      "outputs": []
    },
    {
      "cell_type": "markdown",
      "metadata": {
        "id": "szzhn_1b5ATP",
        "colab_type": "text"
      },
      "source": [
        "Implement the function *print_evaluation_scores* which calculates and prints to stdout:\n",
        " - *accuracy*\n",
        " - *F1-score macro/micro/weighted*\n",
        " - *Precision macro/micro/weighted*"
      ]
    },
    {
      "cell_type": "code",
      "metadata": {
        "id": "Fta-o8175ATP",
        "colab_type": "code",
        "colab": {}
      },
      "source": [
        "def print_evaluation_scores(y_val, predicted):\n",
        "    \n",
        "    ######################################\n",
        "    ######### YOUR CODE HERE #############\n",
        "    ######################################\n",
        "    \n",
        "    print(accuracy_score(y_val, predicted),\n",
        "         f1_score(y_val, predicted, average ='micro'),\n",
        "         f1_score(y_val, predicted, average = 'macro'),\n",
        "         f1_score(y_val, predicted, average = 'weighted'),\n",
        "         average_precision_score(y_val, predicted, average = 'micro'),\n",
        "         average_precision_score(y_val, predicted, average = 'macro'),\n",
        "         average_precision_score(y_val, predicted, average = 'weighted'),)"
      ],
      "execution_count": 0,
      "outputs": []
    },
    {
      "cell_type": "code",
      "metadata": {
        "id": "tCC1cktg5ATR",
        "colab_type": "code",
        "colab": {
          "base_uri": "https://localhost:8080/",
          "height": 85
        },
        "outputId": "6369f9c7-5c51-4c98-ee54-da489d097b47"
      },
      "source": [
        "print('Bag-of-words')\n",
        "print_evaluation_scores(y_val, y_val_predicted_labels_mybag)\n",
        "print('Tfidf')\n",
        "print_evaluation_scores(y_val, y_val_predicted_labels_tfidf)"
      ],
      "execution_count": 39,
      "outputs": [
        {
          "output_type": "stream",
          "text": [
            "Bag-of-words\n",
            "0.358 0.6710820449370445 0.5047325582597497 0.6486950381244107 0.4812849070834009 0.34458812912520126 0.5108520393587743\n",
            "Tfidf\n",
            "0.33393333333333336 0.6418233967551946 0.44570945215918634 0.6143634328155098 0.4570020540292232 0.3020320489939477 0.4851114604464971\n"
          ],
          "name": "stdout"
        }
      ]
    },
    {
      "cell_type": "markdown",
      "metadata": {
        "id": "y8LgYBiY5ATU",
        "colab_type": "text"
      },
      "source": [
        "You might also want to plot some generalization of the [ROC curve](http://scikit-learn.org/stable/modules/model_evaluation.html#receiver-operating-characteristic-roc) for the case of multi-label classification. Provided function *roc_auc* can make it for you. The input parameters of this function are:\n",
        " - true labels\n",
        " - decision functions scores\n",
        " - number of classes"
      ]
    },
    {
      "cell_type": "code",
      "metadata": {
        "id": "IUMkKprC5ATV",
        "colab_type": "code",
        "colab": {}
      },
      "source": [
        "from metrics import roc_auc\n",
        "%matplotlib inline"
      ],
      "execution_count": 0,
      "outputs": []
    },
    {
      "cell_type": "code",
      "metadata": {
        "id": "CFU0hcjt5ATX",
        "colab_type": "code",
        "colab": {
          "base_uri": "https://localhost:8080/",
          "height": 295
        },
        "outputId": "363433bb-224a-4eac-e279-2a6e79d052ee"
      },
      "source": [
        "n_classes = len(tags_counts)\n",
        "roc_auc(y_val, y_val_predicted_scores_mybag, n_classes)"
      ],
      "execution_count": 41,
      "outputs": [
        {
          "output_type": "display_data",
          "data": {
            "image/png": "[encoded data removed]",
            "text/plain": [
              "<Figure size 432x288 with 1 Axes>"
            ]
          },
          "metadata": {
            "tags": []
          }
        }
      ]
    },
    {
      "cell_type": "code",
      "metadata": {
        "id": "tJ131qg15ATa",
        "colab_type": "code",
        "colab": {
          "base_uri": "https://localhost:8080/",
          "height": 295
        },
        "outputId": "b4f084ae-50b1-4ff3-9b45-bec865bc90ff"
      },
      "source": [
        "n_classes = len(tags_counts)\n",
        "roc_auc(y_val, y_val_predicted_scores_tfidf, n_classes)"
      ],
      "execution_count": 42,
      "outputs": [
        {
          "output_type": "display_data",
          "data": {
            "image/png": "[encoded data removed]",
            "text/plain": [
              "<Figure size 432x288 with 1 Axes>"
            ]
          },
          "metadata": {
            "tags": []
          }
        }
      ]
    },
    {
      "cell_type": "markdown",
      "metadata": {
        "id": "_uDHd2LZ5ATc",
        "colab_type": "text"
      },
      "source": [
        "**Task 4 (MultilabelClassification).** Once we have the evaluation set up, we suggest that you experiment a bit with training your classifiers. We will use *F1-score weighted* as an evaluation metric. Our recommendation:\n",
        "- compare the quality of the bag-of-words and TF-IDF approaches and chose one of them.\n",
        "- for the chosen one, try *L1* and *L2*-regularization techniques in Logistic Regression with different coefficients (e.g. C equal to 0.1, 1, 10, 100).\n",
        "\n",
        "You also could try other improvements of the preprocessing / model, if you want. "
      ]
    },
    {
      "cell_type": "code",
      "metadata": {
        "id": "dm4Fqi1b5ATc",
        "colab_type": "code",
        "colab": {}
      },
      "source": [
        "######################################\n",
        "######### YOUR CODE HERE #############\n",
        "######################################\n",
        "\n",
        "\n",
        "  \n",
        "  "
      ],
      "execution_count": 0,
      "outputs": []
    },
    {
      "cell_type": "code",
      "metadata": {
        "id": "i1OPR2ZlLbew",
        "colab_type": "code",
        "colab": {
          "base_uri": "https://localhost:8080/",
          "height": 299
        },
        "outputId": "8fb75338-3887-420a-dd2f-bd1edc12cc23"
      },
      "source": [
        "\n"
      ],
      "execution_count": 44,
      "outputs": [
        {
          "output_type": "error",
          "ename": "TypeError",
          "evalue": "ignored",
          "traceback": [
            "\u001b[0;31m---------------------------------------------------------------------------\u001b[0m",
            "\u001b[0;31mTypeError\u001b[0m                                 Traceback (most recent call last)",
            "\u001b[0;32m<ipython-input-44-b251085ddea1>\u001b[0m in \u001b[0;36m<module>\u001b[0;34m()\u001b[0m\n\u001b[1;32m      1\u001b[0m \u001b[0;34m\u001b[0m\u001b[0m\n\u001b[0;32m----> 2\u001b[0;31m \u001b[0mevaluate\u001b[0m\u001b[0;34m(\u001b[0m\u001b[0mC\u001b[0m\u001b[0;34m=\u001b[0m\u001b[0;36m10.0\u001b[0m\u001b[0;34m,\u001b[0m \u001b[0mpenalty\u001b[0m\u001b[0;34m=\u001b[0m\u001b[0;34m'l2'\u001b[0m\u001b[0;34m)\u001b[0m\u001b[0;34m\u001b[0m\u001b[0;34m\u001b[0m\u001b[0m\n\u001b[0m",
            "\u001b[0;32m<ipython-input-43-b712a9b8b39a>\u001b[0m in \u001b[0;36mevaluate\u001b[0;34m(C, penalty)\u001b[0m\n\u001b[1;32m      1\u001b[0m \u001b[0;34m\u001b[0m\u001b[0m\n\u001b[1;32m      2\u001b[0m \u001b[0;32mdef\u001b[0m \u001b[0mevaluate\u001b[0m\u001b[0;34m(\u001b[0m\u001b[0mC\u001b[0m\u001b[0;34m,\u001b[0m \u001b[0mpenalty\u001b[0m\u001b[0;34m)\u001b[0m\u001b[0;34m:\u001b[0m\u001b[0;34m\u001b[0m\u001b[0;34m\u001b[0m\u001b[0m\n\u001b[0;32m----> 3\u001b[0;31m   \u001b[0mclassifier_mybag\u001b[0m \u001b[0;34m=\u001b[0m \u001b[0mtrain_classifier\u001b[0m\u001b[0;34m(\u001b[0m\u001b[0mX_train_mybag\u001b[0m\u001b[0;34m,\u001b[0m \u001b[0my_train\u001b[0m\u001b[0;34m,\u001b[0m \u001b[0mC\u001b[0m\u001b[0;34m,\u001b[0m \u001b[0mpenalty\u001b[0m\u001b[0;34m)\u001b[0m\u001b[0;34m\u001b[0m\u001b[0;34m\u001b[0m\u001b[0m\n\u001b[0m\u001b[1;32m      4\u001b[0m   \u001b[0mclassifier_tfidf\u001b[0m \u001b[0;34m=\u001b[0m \u001b[0mtrain_classifier\u001b[0m\u001b[0;34m(\u001b[0m\u001b[0mX_train_tfidf\u001b[0m\u001b[0;34m,\u001b[0m \u001b[0my_train\u001b[0m\u001b[0;34m,\u001b[0m \u001b[0mC\u001b[0m\u001b[0;34m,\u001b[0m \u001b[0mpenalty\u001b[0m\u001b[0;34m)\u001b[0m\u001b[0;34m\u001b[0m\u001b[0;34m\u001b[0m\u001b[0m\n\u001b[1;32m      5\u001b[0m \u001b[0;34m\u001b[0m\u001b[0m\n",
            "\u001b[0;31mTypeError\u001b[0m: train_classifier() takes 2 positional arguments but 4 were given"
          ]
        }
      ]
    },
    {
      "cell_type": "markdown",
      "metadata": {
        "id": "m02j2SUh5ATg",
        "colab_type": "text"
      },
      "source": [
        "When you are happy with the quality, create predictions for *test* set, which you will submit to Coursera."
      ]
    },
    {
      "cell_type": "code",
      "metadata": {
        "id": "pkec9tZ65ATh",
        "colab_type": "code",
        "colab": {
          "base_uri": "https://localhost:8080/",
          "height": 204
        },
        "outputId": "e28bc21a-3391-467f-991c-24a78ca6a3d9"
      },
      "source": [
        "test_predictions = classifier_tfidf.predict(X_test_tfidf) ######### YOUR CODE HERE #############\n",
        "test_pred_inversed = mlb.inverse_transform(test_predictions)\n",
        "\n",
        "test_predictions_for_submission = '\\n'.join('%i\\t%s' % (i, ','.join(row)) for i, row in enumerate(test_pred_inversed))\n",
        "grader.submit_tag('MultilabelClassification', test_predictions_for_submission)"
      ],
      "execution_count": 45,
      "outputs": [
        {
          "output_type": "stream",
          "text": [
            "Current answer for task MultilabelClassification is:\n",
            " 0\tphp\n",
            "1\tjavascript,jquery\n",
            "2\t\n",
            "3\tjavascript,jquery\n",
            "4\tandroid,java\n",
            "5\tphp,xml\n",
            "6\tjson\n",
            "7\tjava\n",
            "8\tpython\n",
            "9\th...\n"
          ],
          "name": "stdout"
        }
      ]
    },
    {
      "cell_type": "markdown",
      "metadata": {
        "id": "OOHTpGLK5ATj",
        "colab_type": "text"
      },
      "source": [
        "### Analysis of the most important features"
      ]
    },
    {
      "cell_type": "markdown",
      "metadata": {
        "id": "AxQDIK9m5ATk",
        "colab_type": "text"
      },
      "source": [
        "Finally, it is usually a good idea to look at the features (words or n-grams) that are used with the largest weigths in your logistic regression model."
      ]
    },
    {
      "cell_type": "markdown",
      "metadata": {
        "id": "9Iky1wdG5ATk",
        "colab_type": "text"
      },
      "source": [
        "Implement the function *print_words_for_tag* to find them. Get back to sklearn documentation on [OneVsRestClassifier](http://scikit-learn.org/stable/modules/generated/sklearn.multiclass.OneVsRestClassifier.html) and [LogisticRegression](http://scikit-learn.org/stable/modules/generated/sklearn.linear_model.LogisticRegression.html) if needed."
      ]
    },
    {
      "cell_type": "code",
      "metadata": {
        "id": "LZBaM3oJ5ATl",
        "colab_type": "code",
        "colab": {}
      },
      "source": [
        "def print_words_for_tag(classifier, tag, tags_classes, index_to_words, all_words):\n",
        "    \"\"\"\n",
        "        classifier: trained classifier\n",
        "        tag: particular tag\n",
        "        tags_classes: a list of classes names from MultiLabelBinarizer\n",
        "        index_to_words: index_to_words transformation\n",
        "        all_words: all words in the dictionary\n",
        "        \n",
        "        return nothing, just print top 5 positive and top 5 negative words for current tag\n",
        "    \"\"\"\n",
        "    print('Tag:\\t{}'.format(tag))\n",
        "    \n",
        "    # Extract an estimator from the classifier for the given tag.\n",
        "    # Extract feature coefficients from the estimator. \n",
        "    \n",
        "    ######################################\n",
        "    ######### YOUR CODE HERE #############\n",
        "    ######################################\n",
        "    \n",
        "    estimator = classifier.estimators_[tags_classes.index(tag)]\n",
        "    coff = estimator.coef_[0]\n",
        "    coff_idx = list(enumerate(coff))\n",
        "    #print(coff_idx)\n",
        "    top_pos_words_idx = [idx for idx, wt in sorted(coff_idx, key=lambda x: x[1], reverse=True)[:5]]\n",
        "    top_neg_words_idx = [idx for idx, wt in sorted(coff_idx, key=lambda x: x[1], reverse=False)[:5]]\n",
        "    top_positive_words = [index_to_words[idx] for idx in top_pos_words_idx] # top-5 words sorted by the coefficiens.\n",
        "    \n",
        "    top_negative_words = [index_to_words[idx] for idx in top_neg_words_idx] # bottom-5 words  sorted by the coefficients.\n",
        "    \n",
        "    print('Top positive words:\\t{}'.format(', '.join(top_positive_words)))\n",
        "    print('Top negative words:\\t{}\\n'.format(', '.join(top_negative_words)))"
      ],
      "execution_count": 0,
      "outputs": []
    },
    {
      "cell_type": "code",
      "metadata": {
        "id": "C_FAF5kH5ATm",
        "colab_type": "code",
        "colab": {
          "base_uri": "https://localhost:8080/",
          "height": 221
        },
        "outputId": "da9b5326-2c36-4558-cdbc-905f681f4b90"
      },
      "source": [
        "print_words_for_tag(classifier_tfidf, 'c', mlb.classes, tfidf_reversed_vocab, ALL_WORDS)\n",
        "print_words_for_tag(classifier_tfidf, 'c++', mlb.classes, tfidf_reversed_vocab, ALL_WORDS)\n",
        "print_words_for_tag(classifier_tfidf, 'linux', mlb.classes, tfidf_reversed_vocab, ALL_WORDS)"
      ],
      "execution_count": 51,
      "outputs": [
        {
          "output_type": "stream",
          "text": [
            "Tag:\tc\n",
            "Top positive words:\tc, malloc, scanf, printf, gcc\n",
            "Top negative words:\tjava, php, python, javascript, c#\n",
            "\n",
            "Tag:\tc++\n",
            "Top positive words:\tc++, qt, boost, mfc, opencv\n",
            "Top negative words:\tjava, php, python, javascript, c#\n",
            "\n",
            "Tag:\tlinux\n",
            "Top positive words:\tlinux, ubuntu, c, address, signal\n",
            "Top negative words:\tjavascript, c#, jquery, array, method\n",
            "\n"
          ],
          "name": "stdout"
        }
      ]
    },
    {
      "cell_type": "markdown",
      "metadata": {
        "id": "xPMyVtjo5ATo",
        "colab_type": "text"
      },
      "source": [
        "### Authorization & Submission\n",
        "To submit assignment parts to Cousera platform, please, enter your e-mail and token into variables below. You can generate token on this programming assignment page. <b>Note:</b> Token expires 30 minutes after generation."
      ]
    },
    {
      "cell_type": "code",
      "metadata": {
        "id": "nVU5zlJ75ATp",
        "colab_type": "code",
        "colab": {
          "base_uri": "https://localhost:8080/",
          "height": 391
        },
        "outputId": "d590ecc1-543e-4bda-f4d0-9c30ff0fb76f"
      },
      "source": [
        "grader.status()"
      ],
      "execution_count": 52,
      "outputs": [
        {
          "output_type": "stream",
          "text": [
            "You want to submit these parts:\n",
            "Task TextPrepare:\n",
            " sqlite php readonly\n",
            "creating multiple textboxes dynamically\n",
            "self one prefer javascript\n",
            "save php date...\n",
            "Task WordsTagsCount:\n",
            " javascript,c#,java\n",
            "using,php,java...\n",
            "Task BagOfWords:\n",
            " 7...\n",
            "Task MultilabelClassification:\n",
            " 0\tphp\n",
            "1\tjavascript,jquery\n",
            "2\t\n",
            "3\tjavascript,jquery\n",
            "4\tandroid,java\n",
            "5\tphp,xml\n",
            "6\tjson\n",
            "7\tjava\n",
            "8\tpython\n",
            "9\th...\n"
          ],
          "name": "stdout"
        }
      ]
    },
    {
      "cell_type": "code",
      "metadata": {
        "id": "jOokLvTV5ATr",
        "colab_type": "code",
        "colab": {
          "base_uri": "https://localhost:8080/",
          "height": 391
        },
        "outputId": "700d546b-a457-4eaa-8931-60124312b4f3"
      },
      "source": [
        "STUDENT_EMAIL = 'himanshunpatel01@gmail.com'# EMAIL \n",
        "STUDENT_TOKEN = '5614Fsx94HeKcOi7' # TOKEN \n",
        "grader.status()"
      ],
      "execution_count": 54,
      "outputs": [
        {
          "output_type": "stream",
          "text": [
            "You want to submit these parts:\n",
            "Task TextPrepare:\n",
            " sqlite php readonly\n",
            "creating multiple textboxes dynamically\n",
            "self one prefer javascript\n",
            "save php date...\n",
            "Task WordsTagsCount:\n",
            " javascript,c#,java\n",
            "using,php,java...\n",
            "Task BagOfWords:\n",
            " 7...\n",
            "Task MultilabelClassification:\n",
            " 0\tphp\n",
            "1\tjavascript,jquery\n",
            "2\t\n",
            "3\tjavascript,jquery\n",
            "4\tandroid,java\n",
            "5\tphp,xml\n",
            "6\tjson\n",
            "7\tjava\n",
            "8\tpython\n",
            "9\th...\n"
          ],
          "name": "stdout"
        }
      ]
    },
    {
      "cell_type": "markdown",
      "metadata": {
        "id": "mIKK2fo65ATt",
        "colab_type": "text"
      },
      "source": [
        "If you want to submit these answers, run cell below"
      ]
    },
    {
      "cell_type": "code",
      "metadata": {
        "id": "FC3kuqV15ATu",
        "colab_type": "code",
        "colab": {
          "base_uri": "https://localhost:8080/",
          "height": 34
        },
        "outputId": "b864aa56-7fb4-4795-d381-19e4c652b62b"
      },
      "source": [
        "grader.submit(STUDENT_EMAIL, STUDENT_TOKEN)"
      ],
      "execution_count": 55,
      "outputs": [
        {
          "output_type": "stream",
          "text": [
            "Submitted to Coursera platform. See results on assignment page!\n"
          ],
          "name": "stdout"
        }
      ]
    }
  ]
}